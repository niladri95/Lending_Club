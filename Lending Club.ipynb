{
 "cells": [
  {
   "cell_type": "code",
   "execution_count": 1,
   "metadata": {},
   "outputs": [],
   "source": [
    "#link of the dataset\n",
    "# https://www.kaggle.com/wordsforthewise/lending-club"
   ]
  },
  {
   "cell_type": "code",
   "execution_count": 2,
   "metadata": {},
   "outputs": [],
   "source": [
    "import numpy as np\n",
    "import pandas as pd\n",
    "import seaborn as sns\n",
    "import matplotlib.pyplot as plt\n",
    "from sklearn.model_selection import train_test_split,cross_val_score,GridSearchCV\n",
    "from sklearn.preprocessing import MinMaxScaler\n",
    "from sklearn.metrics import classification_report,confusion_matrix\n",
    "import tensorflow \n",
    "from tensorflow.keras.models import Sequential\n",
    "from tensorflow.keras.layers import Dense, Activation,Dropout\n",
    "from tensorflow.keras.callbacks import EarlyStopping\n",
    "from sklearn.metrics import roc_auc_score,roc_curve,confusion_matrix,average_precision_score,fbeta_score,roc_curve,auc,classification_report\n",
    "from sklearn.ensemble import GradientBoostingClassifier,RandomForestClassifier\n",
    "from sklearn.tree import DecisionTreeClassifier"
   ]
  },
  {
   "cell_type": "code",
   "execution_count": 3,
   "metadata": {},
   "outputs": [],
   "source": [
    "df = pd.read_csv('lending_club_loan_two.csv')"
   ]
  },
  {
   "cell_type": "code",
   "execution_count": 4,
   "metadata": {},
   "outputs": [
    {
     "data": {
      "text/plain": [
       "Index(['loan_amnt', 'term', 'int_rate', 'installment', 'grade', 'sub_grade',\n",
       "       'emp_title', 'emp_length', 'home_ownership', 'annual_inc',\n",
       "       'verification_status', 'issue_d', 'loan_status', 'purpose', 'title',\n",
       "       'dti', 'earliest_cr_line', 'open_acc', 'pub_rec', 'revol_bal',\n",
       "       'revol_util', 'total_acc', 'initial_list_status', 'application_type',\n",
       "       'mort_acc', 'pub_rec_bankruptcies', 'address'],\n",
       "      dtype='object')"
      ]
     },
     "execution_count": 4,
     "metadata": {},
     "output_type": "execute_result"
    }
   ],
   "source": [
    "df.columns"
   ]
  },
  {
   "cell_type": "markdown",
   "metadata": {},
   "source": [
    "## EDA "
   ]
  },
  {
   "cell_type": "code",
   "execution_count": 5,
   "metadata": {},
   "outputs": [
    {
     "data": {
      "text/html": [
       "<div>\n",
       "<style scoped>\n",
       "    .dataframe tbody tr th:only-of-type {\n",
       "        vertical-align: middle;\n",
       "    }\n",
       "\n",
       "    .dataframe tbody tr th {\n",
       "        vertical-align: top;\n",
       "    }\n",
       "\n",
       "    .dataframe thead th {\n",
       "        text-align: right;\n",
       "    }\n",
       "</style>\n",
       "<table border=\"1\" class=\"dataframe\">\n",
       "  <thead>\n",
       "    <tr style=\"text-align: right;\">\n",
       "      <th></th>\n",
       "      <th>loan_amnt</th>\n",
       "      <th>term</th>\n",
       "      <th>int_rate</th>\n",
       "      <th>installment</th>\n",
       "      <th>grade</th>\n",
       "      <th>sub_grade</th>\n",
       "      <th>emp_title</th>\n",
       "      <th>emp_length</th>\n",
       "      <th>home_ownership</th>\n",
       "      <th>annual_inc</th>\n",
       "      <th>...</th>\n",
       "      <th>open_acc</th>\n",
       "      <th>pub_rec</th>\n",
       "      <th>revol_bal</th>\n",
       "      <th>revol_util</th>\n",
       "      <th>total_acc</th>\n",
       "      <th>initial_list_status</th>\n",
       "      <th>application_type</th>\n",
       "      <th>mort_acc</th>\n",
       "      <th>pub_rec_bankruptcies</th>\n",
       "      <th>address</th>\n",
       "    </tr>\n",
       "  </thead>\n",
       "  <tbody>\n",
       "    <tr>\n",
       "      <th>0</th>\n",
       "      <td>10000.0</td>\n",
       "      <td>36 months</td>\n",
       "      <td>11.44</td>\n",
       "      <td>329.48</td>\n",
       "      <td>B</td>\n",
       "      <td>B4</td>\n",
       "      <td>Marketing</td>\n",
       "      <td>10+ years</td>\n",
       "      <td>RENT</td>\n",
       "      <td>117000.0</td>\n",
       "      <td>...</td>\n",
       "      <td>16.0</td>\n",
       "      <td>0.0</td>\n",
       "      <td>36369.0</td>\n",
       "      <td>41.8</td>\n",
       "      <td>25.0</td>\n",
       "      <td>w</td>\n",
       "      <td>INDIVIDUAL</td>\n",
       "      <td>0.0</td>\n",
       "      <td>0.0</td>\n",
       "      <td>0174 Michelle Gateway\\r\\nMendozaberg, OK 22690</td>\n",
       "    </tr>\n",
       "    <tr>\n",
       "      <th>1</th>\n",
       "      <td>8000.0</td>\n",
       "      <td>36 months</td>\n",
       "      <td>11.99</td>\n",
       "      <td>265.68</td>\n",
       "      <td>B</td>\n",
       "      <td>B5</td>\n",
       "      <td>Credit analyst</td>\n",
       "      <td>4 years</td>\n",
       "      <td>MORTGAGE</td>\n",
       "      <td>65000.0</td>\n",
       "      <td>...</td>\n",
       "      <td>17.0</td>\n",
       "      <td>0.0</td>\n",
       "      <td>20131.0</td>\n",
       "      <td>53.3</td>\n",
       "      <td>27.0</td>\n",
       "      <td>f</td>\n",
       "      <td>INDIVIDUAL</td>\n",
       "      <td>3.0</td>\n",
       "      <td>0.0</td>\n",
       "      <td>1076 Carney Fort Apt. 347\\r\\nLoganmouth, SD 05113</td>\n",
       "    </tr>\n",
       "    <tr>\n",
       "      <th>2</th>\n",
       "      <td>15600.0</td>\n",
       "      <td>36 months</td>\n",
       "      <td>10.49</td>\n",
       "      <td>506.97</td>\n",
       "      <td>B</td>\n",
       "      <td>B3</td>\n",
       "      <td>Statistician</td>\n",
       "      <td>&lt; 1 year</td>\n",
       "      <td>RENT</td>\n",
       "      <td>43057.0</td>\n",
       "      <td>...</td>\n",
       "      <td>13.0</td>\n",
       "      <td>0.0</td>\n",
       "      <td>11987.0</td>\n",
       "      <td>92.2</td>\n",
       "      <td>26.0</td>\n",
       "      <td>f</td>\n",
       "      <td>INDIVIDUAL</td>\n",
       "      <td>0.0</td>\n",
       "      <td>0.0</td>\n",
       "      <td>87025 Mark Dale Apt. 269\\r\\nNew Sabrina, WV 05113</td>\n",
       "    </tr>\n",
       "    <tr>\n",
       "      <th>3</th>\n",
       "      <td>7200.0</td>\n",
       "      <td>36 months</td>\n",
       "      <td>6.49</td>\n",
       "      <td>220.65</td>\n",
       "      <td>A</td>\n",
       "      <td>A2</td>\n",
       "      <td>Client Advocate</td>\n",
       "      <td>6 years</td>\n",
       "      <td>RENT</td>\n",
       "      <td>54000.0</td>\n",
       "      <td>...</td>\n",
       "      <td>6.0</td>\n",
       "      <td>0.0</td>\n",
       "      <td>5472.0</td>\n",
       "      <td>21.5</td>\n",
       "      <td>13.0</td>\n",
       "      <td>f</td>\n",
       "      <td>INDIVIDUAL</td>\n",
       "      <td>0.0</td>\n",
       "      <td>0.0</td>\n",
       "      <td>823 Reid Ford\\r\\nDelacruzside, MA 00813</td>\n",
       "    </tr>\n",
       "    <tr>\n",
       "      <th>4</th>\n",
       "      <td>24375.0</td>\n",
       "      <td>60 months</td>\n",
       "      <td>17.27</td>\n",
       "      <td>609.33</td>\n",
       "      <td>C</td>\n",
       "      <td>C5</td>\n",
       "      <td>Destiny Management Inc.</td>\n",
       "      <td>9 years</td>\n",
       "      <td>MORTGAGE</td>\n",
       "      <td>55000.0</td>\n",
       "      <td>...</td>\n",
       "      <td>13.0</td>\n",
       "      <td>0.0</td>\n",
       "      <td>24584.0</td>\n",
       "      <td>69.8</td>\n",
       "      <td>43.0</td>\n",
       "      <td>f</td>\n",
       "      <td>INDIVIDUAL</td>\n",
       "      <td>1.0</td>\n",
       "      <td>0.0</td>\n",
       "      <td>679 Luna Roads\\r\\nGreggshire, VA 11650</td>\n",
       "    </tr>\n",
       "  </tbody>\n",
       "</table>\n",
       "<p>5 rows × 27 columns</p>\n",
       "</div>"
      ],
      "text/plain": [
       "   loan_amnt        term  int_rate  installment grade sub_grade  \\\n",
       "0    10000.0   36 months     11.44       329.48     B        B4   \n",
       "1     8000.0   36 months     11.99       265.68     B        B5   \n",
       "2    15600.0   36 months     10.49       506.97     B        B3   \n",
       "3     7200.0   36 months      6.49       220.65     A        A2   \n",
       "4    24375.0   60 months     17.27       609.33     C        C5   \n",
       "\n",
       "                 emp_title emp_length home_ownership  annual_inc  ...  \\\n",
       "0                Marketing  10+ years           RENT    117000.0  ...   \n",
       "1          Credit analyst     4 years       MORTGAGE     65000.0  ...   \n",
       "2             Statistician   < 1 year           RENT     43057.0  ...   \n",
       "3          Client Advocate    6 years           RENT     54000.0  ...   \n",
       "4  Destiny Management Inc.    9 years       MORTGAGE     55000.0  ...   \n",
       "\n",
       "  open_acc pub_rec revol_bal revol_util total_acc  initial_list_status  \\\n",
       "0     16.0     0.0   36369.0       41.8      25.0                    w   \n",
       "1     17.0     0.0   20131.0       53.3      27.0                    f   \n",
       "2     13.0     0.0   11987.0       92.2      26.0                    f   \n",
       "3      6.0     0.0    5472.0       21.5      13.0                    f   \n",
       "4     13.0     0.0   24584.0       69.8      43.0                    f   \n",
       "\n",
       "  application_type  mort_acc  pub_rec_bankruptcies  \\\n",
       "0       INDIVIDUAL       0.0                   0.0   \n",
       "1       INDIVIDUAL       3.0                   0.0   \n",
       "2       INDIVIDUAL       0.0                   0.0   \n",
       "3       INDIVIDUAL       0.0                   0.0   \n",
       "4       INDIVIDUAL       1.0                   0.0   \n",
       "\n",
       "                                             address  \n",
       "0     0174 Michelle Gateway\\r\\nMendozaberg, OK 22690  \n",
       "1  1076 Carney Fort Apt. 347\\r\\nLoganmouth, SD 05113  \n",
       "2  87025 Mark Dale Apt. 269\\r\\nNew Sabrina, WV 05113  \n",
       "3            823 Reid Ford\\r\\nDelacruzside, MA 00813  \n",
       "4             679 Luna Roads\\r\\nGreggshire, VA 11650  \n",
       "\n",
       "[5 rows x 27 columns]"
      ]
     },
     "execution_count": 5,
     "metadata": {},
     "output_type": "execute_result"
    }
   ],
   "source": [
    "df.head()"
   ]
  },
  {
   "cell_type": "code",
   "execution_count": 6,
   "metadata": {},
   "outputs": [
    {
     "name": "stdout",
     "output_type": "stream",
     "text": [
      "<class 'pandas.core.frame.DataFrame'>\n",
      "RangeIndex: 396030 entries, 0 to 396029\n",
      "Data columns (total 27 columns):\n",
      "loan_amnt               396030 non-null float64\n",
      "term                    396030 non-null object\n",
      "int_rate                396030 non-null float64\n",
      "installment             396030 non-null float64\n",
      "grade                   396030 non-null object\n",
      "sub_grade               396030 non-null object\n",
      "emp_title               373103 non-null object\n",
      "emp_length              377729 non-null object\n",
      "home_ownership          396030 non-null object\n",
      "annual_inc              396030 non-null float64\n",
      "verification_status     396030 non-null object\n",
      "issue_d                 396030 non-null object\n",
      "loan_status             396030 non-null object\n",
      "purpose                 396030 non-null object\n",
      "title                   394275 non-null object\n",
      "dti                     396030 non-null float64\n",
      "earliest_cr_line        396030 non-null object\n",
      "open_acc                396030 non-null float64\n",
      "pub_rec                 396030 non-null float64\n",
      "revol_bal               396030 non-null float64\n",
      "revol_util              395754 non-null float64\n",
      "total_acc               396030 non-null float64\n",
      "initial_list_status     396030 non-null object\n",
      "application_type        396030 non-null object\n",
      "mort_acc                358235 non-null float64\n",
      "pub_rec_bankruptcies    395495 non-null float64\n",
      "address                 396030 non-null object\n",
      "dtypes: float64(12), object(15)\n",
      "memory usage: 81.6+ MB\n"
     ]
    }
   ],
   "source": [
    "df.info()"
   ]
  },
  {
   "cell_type": "code",
   "execution_count": 7,
   "metadata": {},
   "outputs": [
    {
     "data": {
      "text/plain": [
       "loan_amnt                   0\n",
       "term                        0\n",
       "int_rate                    0\n",
       "installment                 0\n",
       "grade                       0\n",
       "sub_grade                   0\n",
       "emp_title               22927\n",
       "emp_length              18301\n",
       "home_ownership              0\n",
       "annual_inc                  0\n",
       "verification_status         0\n",
       "issue_d                     0\n",
       "loan_status                 0\n",
       "purpose                     0\n",
       "title                    1755\n",
       "dti                         0\n",
       "earliest_cr_line            0\n",
       "open_acc                    0\n",
       "pub_rec                     0\n",
       "revol_bal                   0\n",
       "revol_util                276\n",
       "total_acc                   0\n",
       "initial_list_status         0\n",
       "application_type            0\n",
       "mort_acc                37795\n",
       "pub_rec_bankruptcies      535\n",
       "address                     0\n",
       "dtype: int64"
      ]
     },
     "execution_count": 7,
     "metadata": {},
     "output_type": "execute_result"
    }
   ],
   "source": [
    "df.isnull().sum()"
   ]
  },
  {
   "cell_type": "code",
   "execution_count": 8,
   "metadata": {},
   "outputs": [],
   "source": [
    "data_info = pd.read_csv('lending_club_info.csv',index_col='LoanStatNew')#another CSV files which contain description of feature"
   ]
  },
  {
   "cell_type": "code",
   "execution_count": 9,
   "metadata": {},
   "outputs": [
    {
     "data": {
      "text/html": [
       "<div>\n",
       "<style scoped>\n",
       "    .dataframe tbody tr th:only-of-type {\n",
       "        vertical-align: middle;\n",
       "    }\n",
       "\n",
       "    .dataframe tbody tr th {\n",
       "        vertical-align: top;\n",
       "    }\n",
       "\n",
       "    .dataframe thead th {\n",
       "        text-align: right;\n",
       "    }\n",
       "</style>\n",
       "<table border=\"1\" class=\"dataframe\">\n",
       "  <thead>\n",
       "    <tr style=\"text-align: right;\">\n",
       "      <th></th>\n",
       "      <th>Description</th>\n",
       "    </tr>\n",
       "    <tr>\n",
       "      <th>LoanStatNew</th>\n",
       "      <th></th>\n",
       "    </tr>\n",
       "  </thead>\n",
       "  <tbody>\n",
       "    <tr>\n",
       "      <th>loan_amnt</th>\n",
       "      <td>The listed amount of the loan applied for by t...</td>\n",
       "    </tr>\n",
       "    <tr>\n",
       "      <th>term</th>\n",
       "      <td>The number of payments on the loan. Values are...</td>\n",
       "    </tr>\n",
       "    <tr>\n",
       "      <th>int_rate</th>\n",
       "      <td>Interest Rate on the loan</td>\n",
       "    </tr>\n",
       "    <tr>\n",
       "      <th>installment</th>\n",
       "      <td>The monthly payment owed by the borrower if th...</td>\n",
       "    </tr>\n",
       "    <tr>\n",
       "      <th>grade</th>\n",
       "      <td>LC assigned loan grade</td>\n",
       "    </tr>\n",
       "    <tr>\n",
       "      <th>sub_grade</th>\n",
       "      <td>LC assigned loan subgrade</td>\n",
       "    </tr>\n",
       "    <tr>\n",
       "      <th>emp_title</th>\n",
       "      <td>The job title supplied by the Borrower when ap...</td>\n",
       "    </tr>\n",
       "    <tr>\n",
       "      <th>emp_length</th>\n",
       "      <td>Employment length in years. Possible values ar...</td>\n",
       "    </tr>\n",
       "    <tr>\n",
       "      <th>home_ownership</th>\n",
       "      <td>The home ownership status provided by the borr...</td>\n",
       "    </tr>\n",
       "    <tr>\n",
       "      <th>annual_inc</th>\n",
       "      <td>The self-reported annual income provided by th...</td>\n",
       "    </tr>\n",
       "    <tr>\n",
       "      <th>verification_status</th>\n",
       "      <td>Indicates if income was verified by LC, not ve...</td>\n",
       "    </tr>\n",
       "    <tr>\n",
       "      <th>issue_d</th>\n",
       "      <td>The month which the loan was funded</td>\n",
       "    </tr>\n",
       "    <tr>\n",
       "      <th>loan_status</th>\n",
       "      <td>Current status of the loan</td>\n",
       "    </tr>\n",
       "    <tr>\n",
       "      <th>purpose</th>\n",
       "      <td>A category provided by the borrower for the lo...</td>\n",
       "    </tr>\n",
       "    <tr>\n",
       "      <th>title</th>\n",
       "      <td>The loan title provided by the borrower</td>\n",
       "    </tr>\n",
       "    <tr>\n",
       "      <th>zip_code</th>\n",
       "      <td>The first 3 numbers of the zip code provided b...</td>\n",
       "    </tr>\n",
       "    <tr>\n",
       "      <th>addr_state</th>\n",
       "      <td>The state provided by the borrower in the loan...</td>\n",
       "    </tr>\n",
       "    <tr>\n",
       "      <th>dti</th>\n",
       "      <td>A ratio calculated using the borrower’s total ...</td>\n",
       "    </tr>\n",
       "    <tr>\n",
       "      <th>earliest_cr_line</th>\n",
       "      <td>The month the borrower's earliest reported cre...</td>\n",
       "    </tr>\n",
       "    <tr>\n",
       "      <th>open_acc</th>\n",
       "      <td>The number of open credit lines in the borrowe...</td>\n",
       "    </tr>\n",
       "    <tr>\n",
       "      <th>pub_rec</th>\n",
       "      <td>Number of derogatory public records</td>\n",
       "    </tr>\n",
       "    <tr>\n",
       "      <th>revol_bal</th>\n",
       "      <td>Total credit revolving balance</td>\n",
       "    </tr>\n",
       "    <tr>\n",
       "      <th>revol_util</th>\n",
       "      <td>Revolving line utilization rate, or the amount...</td>\n",
       "    </tr>\n",
       "    <tr>\n",
       "      <th>total_acc</th>\n",
       "      <td>The total number of credit lines currently in ...</td>\n",
       "    </tr>\n",
       "    <tr>\n",
       "      <th>initial_list_status</th>\n",
       "      <td>The initial listing status of the loan. Possib...</td>\n",
       "    </tr>\n",
       "    <tr>\n",
       "      <th>application_type</th>\n",
       "      <td>Indicates whether the loan is an individual ap...</td>\n",
       "    </tr>\n",
       "    <tr>\n",
       "      <th>mort_acc</th>\n",
       "      <td>Number of mortgage accounts.</td>\n",
       "    </tr>\n",
       "    <tr>\n",
       "      <th>pub_rec_bankruptcies</th>\n",
       "      <td>Number of public record bankruptcies</td>\n",
       "    </tr>\n",
       "  </tbody>\n",
       "</table>\n",
       "</div>"
      ],
      "text/plain": [
       "                                                            Description\n",
       "LoanStatNew                                                            \n",
       "loan_amnt             The listed amount of the loan applied for by t...\n",
       "term                  The number of payments on the loan. Values are...\n",
       "int_rate                                      Interest Rate on the loan\n",
       "installment           The monthly payment owed by the borrower if th...\n",
       "grade                                            LC assigned loan grade\n",
       "sub_grade                                     LC assigned loan subgrade\n",
       "emp_title             The job title supplied by the Borrower when ap...\n",
       "emp_length            Employment length in years. Possible values ar...\n",
       "home_ownership        The home ownership status provided by the borr...\n",
       "annual_inc            The self-reported annual income provided by th...\n",
       "verification_status   Indicates if income was verified by LC, not ve...\n",
       "issue_d                             The month which the loan was funded\n",
       "loan_status                                  Current status of the loan\n",
       "purpose               A category provided by the borrower for the lo...\n",
       "title                           The loan title provided by the borrower\n",
       "zip_code              The first 3 numbers of the zip code provided b...\n",
       "addr_state            The state provided by the borrower in the loan...\n",
       "dti                   A ratio calculated using the borrower’s total ...\n",
       "earliest_cr_line      The month the borrower's earliest reported cre...\n",
       "open_acc              The number of open credit lines in the borrowe...\n",
       "pub_rec                             Number of derogatory public records\n",
       "revol_bal                                Total credit revolving balance\n",
       "revol_util            Revolving line utilization rate, or the amount...\n",
       "total_acc             The total number of credit lines currently in ...\n",
       "initial_list_status   The initial listing status of the loan. Possib...\n",
       "application_type      Indicates whether the loan is an individual ap...\n",
       "mort_acc                                   Number of mortgage accounts.\n",
       "pub_rec_bankruptcies               Number of public record bankruptcies"
      ]
     },
     "execution_count": 9,
     "metadata": {},
     "output_type": "execute_result"
    }
   ],
   "source": [
    "data_info"
   ]
  },
  {
   "cell_type": "code",
   "execution_count": 10,
   "metadata": {},
   "outputs": [],
   "source": [
    "def feat_info(col):\n",
    "    print(data_info.loc[col]['Description'])"
   ]
  },
  {
   "cell_type": "code",
   "execution_count": 11,
   "metadata": {},
   "outputs": [
    {
     "data": {
      "text/plain": [
       "<matplotlib.axes._subplots.AxesSubplot at 0x249b464cfd0>"
      ]
     },
     "execution_count": 11,
     "metadata": {},
     "output_type": "execute_result"
    },
    {
     "data": {
      "image/png": "[encoded data removed]",
      "text/plain": [
       "<Figure size 432x288 with 1 Axes>"
      ]
     },
     "metadata": {
      "needs_background": "light"
     },
     "output_type": "display_data"
    }
   ],
   "source": [
    "sns.countplot('loan_status',data=df)"
   ]
  },
  {
   "cell_type": "code",
   "execution_count": 12,
   "metadata": {},
   "outputs": [
    {
     "data": {
      "text/plain": [
       "array(['Fully Paid', 'Charged Off'], dtype=object)"
      ]
     },
     "execution_count": 12,
     "metadata": {},
     "output_type": "execute_result"
    }
   ],
   "source": [
    "df['loan_status'].unique()"
   ]
  },
  {
   "cell_type": "code",
   "execution_count": 13,
   "metadata": {},
   "outputs": [
    {
     "data": {
      "text/plain": [
       "19.612908113021742"
      ]
     },
     "execution_count": 13,
     "metadata": {},
     "output_type": "execute_result"
    }
   ],
   "source": [
    "100*len(df[df['loan_status']=='Charged Off'])/len(df) #unbalanced data"
   ]
  },
  {
   "cell_type": "code",
   "execution_count": 14,
   "metadata": {},
   "outputs": [
    {
     "data": {
      "text/plain": [
       "<matplotlib.axes._subplots.AxesSubplot at 0x249b49cc128>"
      ]
     },
     "execution_count": 14,
     "metadata": {},
     "output_type": "execute_result"
    },
    {
     "data": {
      "image/png": "[encoded data removed]",
      "text/plain": [
       "<Figure size 864x288 with 1 Axes>"
      ]
     },
     "metadata": {
      "needs_background": "light"
     },
     "output_type": "display_data"
    }
   ],
   "source": [
    "plt.figure(figsize=(12,4))\n",
    "sns.distplot(df['loan_amnt'],kde=False,bins=40)"
   ]
  },
  {
   "cell_type": "code",
   "execution_count": 15,
   "metadata": {},
   "outputs": [
    {
     "data": {
      "text/plain": [
       "<matplotlib.axes._subplots.AxesSubplot at 0x249b4b1eb38>"
      ]
     },
     "execution_count": 15,
     "metadata": {},
     "output_type": "execute_result"
    },
    {
     "data": {
      "image/png": "[encoded data removed]",
      "text/plain": [
       "<Figure size 864x504 with 2 Axes>"
      ]
     },
     "metadata": {
      "needs_background": "light"
     },
     "output_type": "display_data"
    }
   ],
   "source": [
    "plt.figure(figsize=(12,7))\n",
    "sns.heatmap(df.corr(),annot=True,cmap='viridis')"
   ]
  },
  {
   "cell_type": "code",
   "execution_count": 16,
   "metadata": {},
   "outputs": [
    {
     "data": {
      "text/plain": [
       "<matplotlib.axes._subplots.AxesSubplot at 0x249b6d7f128>"
      ]
     },
     "execution_count": 16,
     "metadata": {},
     "output_type": "execute_result"
    },
    {
     "data": {
      "image/png": "[encoded data removed]",
      "text/plain": [
       "<Figure size 432x288 with 1 Axes>"
      ]
     },
     "metadata": {
      "needs_background": "light"
     },
     "output_type": "display_data"
    }
   ],
   "source": [
    "sns.scatterplot(x='installment',y='loan_amnt',data=df,)# as both have 0.95 correlation, lets explore those feature"
   ]
  },
  {
   "cell_type": "code",
   "execution_count": 17,
   "metadata": {},
   "outputs": [
    {
     "name": "stdout",
     "output_type": "stream",
     "text": [
      "The listed amount of the loan applied for by the borrower. If at some point in time, the credit department reduces the loan amount, then it will be reflected in this value.\n",
      "\n",
      "-------------------------------------------------------------------------------------\n",
      "The monthly payment owed by the borrower if the loan originates.\n"
     ]
    }
   ],
   "source": [
    "feat_info('loan_amnt')\n",
    "print('\\n-------------------------------------------------------------------------------------')\n",
    "feat_info('installment')"
   ]
  },
  {
   "cell_type": "code",
   "execution_count": 18,
   "metadata": {},
   "outputs": [
    {
     "data": {
      "text/plain": [
       "<matplotlib.axes._subplots.AxesSubplot at 0x249b6d40f60>"
      ]
     },
     "execution_count": 18,
     "metadata": {},
     "output_type": "execute_result"
    },
    {
     "data": {
      "image/png": "[encoded data removed]",
      "text/plain": [
       "<Figure size 432x288 with 1 Axes>"
      ]
     },
     "metadata": {
      "needs_background": "light"
     },
     "output_type": "display_data"
    }
   ],
   "source": [
    "sns.boxplot(x='loan_status',y='loan_amnt',data=df)"
   ]
  },
  {
   "cell_type": "code",
   "execution_count": 19,
   "metadata": {},
   "outputs": [
    {
     "data": {
      "text/html": [
       "<div>\n",
       "<style scoped>\n",
       "    .dataframe tbody tr th:only-of-type {\n",
       "        vertical-align: middle;\n",
       "    }\n",
       "\n",
       "    .dataframe tbody tr th {\n",
       "        vertical-align: top;\n",
       "    }\n",
       "\n",
       "    .dataframe thead th {\n",
       "        text-align: right;\n",
       "    }\n",
       "</style>\n",
       "<table border=\"1\" class=\"dataframe\">\n",
       "  <thead>\n",
       "    <tr style=\"text-align: right;\">\n",
       "      <th></th>\n",
       "      <th>count</th>\n",
       "      <th>mean</th>\n",
       "      <th>std</th>\n",
       "      <th>min</th>\n",
       "      <th>25%</th>\n",
       "      <th>50%</th>\n",
       "      <th>75%</th>\n",
       "      <th>max</th>\n",
       "    </tr>\n",
       "    <tr>\n",
       "      <th>loan_status</th>\n",
       "      <th></th>\n",
       "      <th></th>\n",
       "      <th></th>\n",
       "      <th></th>\n",
       "      <th></th>\n",
       "      <th></th>\n",
       "      <th></th>\n",
       "      <th></th>\n",
       "    </tr>\n",
       "  </thead>\n",
       "  <tbody>\n",
       "    <tr>\n",
       "      <th>Charged Off</th>\n",
       "      <td>77673.0</td>\n",
       "      <td>15126.300967</td>\n",
       "      <td>8505.090557</td>\n",
       "      <td>1000.0</td>\n",
       "      <td>8525.0</td>\n",
       "      <td>14000.0</td>\n",
       "      <td>20000.0</td>\n",
       "      <td>40000.0</td>\n",
       "    </tr>\n",
       "    <tr>\n",
       "      <th>Fully Paid</th>\n",
       "      <td>318357.0</td>\n",
       "      <td>13866.878771</td>\n",
       "      <td>8302.319699</td>\n",
       "      <td>500.0</td>\n",
       "      <td>7500.0</td>\n",
       "      <td>12000.0</td>\n",
       "      <td>19225.0</td>\n",
       "      <td>40000.0</td>\n",
       "    </tr>\n",
       "  </tbody>\n",
       "</table>\n",
       "</div>"
      ],
      "text/plain": [
       "                count          mean          std     min     25%      50%  \\\n",
       "loan_status                                                                 \n",
       "Charged Off   77673.0  15126.300967  8505.090557  1000.0  8525.0  14000.0   \n",
       "Fully Paid   318357.0  13866.878771  8302.319699   500.0  7500.0  12000.0   \n",
       "\n",
       "                 75%      max  \n",
       "loan_status                    \n",
       "Charged Off  20000.0  40000.0  \n",
       "Fully Paid   19225.0  40000.0  "
      ]
     },
     "execution_count": 19,
     "metadata": {},
     "output_type": "execute_result"
    }
   ],
   "source": [
    "df.groupby(by='loan_status')['loan_amnt'].describe()"
   ]
  },
  {
   "cell_type": "code",
   "execution_count": 20,
   "metadata": {},
   "outputs": [],
   "source": [
    "grade_order=sorted(df['grade'].unique())"
   ]
  },
  {
   "cell_type": "code",
   "execution_count": 21,
   "metadata": {},
   "outputs": [],
   "source": [
    "subgrade_order=sorted(df['sub_grade'].unique())"
   ]
  },
  {
   "cell_type": "code",
   "execution_count": 22,
   "metadata": {},
   "outputs": [
    {
     "data": {
      "text/plain": [
       "<matplotlib.axes._subplots.AxesSubplot at 0x249b6b59128>"
      ]
     },
     "execution_count": 22,
     "metadata": {},
     "output_type": "execute_result"
    },
    {
     "data": {
      "image/png": "[encoded data removed]",
      "text/plain": [
       "<Figure size 432x288 with 1 Axes>"
      ]
     },
     "metadata": {
      "needs_background": "light"
     },
     "output_type": "display_data"
    }
   ],
   "source": [
    "sns.countplot(x='grade',data=df,order = grade_order,hue='loan_status')"
   ]
  },
  {
   "cell_type": "code",
   "execution_count": 23,
   "metadata": {},
   "outputs": [
    {
     "data": {
      "text/plain": [
       "<matplotlib.axes._subplots.AxesSubplot at 0x249b6b59860>"
      ]
     },
     "execution_count": 23,
     "metadata": {},
     "output_type": "execute_result"
    },
    {
     "data": {
      "image/png": "[encoded data removed]",
      "text/plain": [
       "<Figure size 864x288 with 1 Axes>"
      ]
     },
     "metadata": {
      "needs_background": "light"
     },
     "output_type": "display_data"
    }
   ],
   "source": [
    "plt.figure(figsize=(12,4))\n",
    "sns.countplot(x='sub_grade',data=df,order = subgrade_order,palette='coolwarm' )"
   ]
  },
  {
   "cell_type": "code",
   "execution_count": 24,
   "metadata": {},
   "outputs": [
    {
     "data": {
      "text/plain": [
       "<matplotlib.axes._subplots.AxesSubplot at 0x249b6bc7fd0>"
      ]
     },
     "execution_count": 24,
     "metadata": {},
     "output_type": "execute_result"
    },
    {
     "data": {
      "image/png": "[encoded data removed]",
      "text/plain": [
       "<Figure size 864x288 with 1 Axes>"
      ]
     },
     "metadata": {
      "needs_background": "light"
     },
     "output_type": "display_data"
    }
   ],
   "source": [
    "plt.figure(figsize=(12,4))\n",
    "subgrade_order=sorted(df['sub_grade'].unique())\n",
    "sns.countplot(x='sub_grade',data=df,order=subgrade_order,hue='loan_status',palette='coolwarm')"
   ]
  },
  {
   "cell_type": "code",
   "execution_count": 25,
   "metadata": {},
   "outputs": [
    {
     "data": {
      "text/plain": [
       "<matplotlib.axes._subplots.AxesSubplot at 0x249b76d41d0>"
      ]
     },
     "execution_count": 25,
     "metadata": {},
     "output_type": "execute_result"
    },
    {
     "data": {
      "image/png": "[encoded data removed]",
      "text/plain": [
       "<Figure size 432x288 with 1 Axes>"
      ]
     },
     "metadata": {
      "needs_background": "light"
     },
     "output_type": "display_data"
    }
   ],
   "source": [
    "f_g=df[(df['grade']=='F')|(df['grade']=='G')]#from the above graph it is clear that F & G category has very less charged off \n",
    "subgrade_order=sorted(f_g['sub_grade'].unique())#category so we will plot those category separately\n",
    "sns.countplot(x='sub_grade',order=subgrade_order,data=f_g,hue='loan_status')"
   ]
  },
  {
   "cell_type": "code",
   "execution_count": 26,
   "metadata": {},
   "outputs": [
    {
     "data": {
      "text/plain": [
       "array(['Fully Paid', 'Charged Off'], dtype=object)"
      ]
     },
     "execution_count": 26,
     "metadata": {},
     "output_type": "execute_result"
    }
   ],
   "source": [
    "df['loan_status'].unique()"
   ]
  },
  {
   "cell_type": "code",
   "execution_count": 27,
   "metadata": {},
   "outputs": [
    {
     "data": {
      "text/plain": [
       "array([0, 1], dtype=int64)"
      ]
     },
     "execution_count": 27,
     "metadata": {},
     "output_type": "execute_result"
    }
   ],
   "source": [
    "df['loan_repaid']=df['loan_status'].map({'Fully Paid':0,'Charged Off':1})\n",
    "df['loan_repaid'].unique()"
   ]
  },
  {
   "cell_type": "code",
   "execution_count": 28,
   "metadata": {},
   "outputs": [
    {
     "data": {
      "text/plain": [
       "<matplotlib.axes._subplots.AxesSubplot at 0x249cabf2a58>"
      ]
     },
     "execution_count": 28,
     "metadata": {},
     "output_type": "execute_result"
    },
    {
     "data": {
      "image/png": "[encoded data removed]",
      "text/plain": [
       "<Figure size 432x288 with 1 Axes>"
      ]
     },
     "metadata": {
      "needs_background": "light"
     },
     "output_type": "display_data"
    }
   ],
   "source": [
    "df.corr()['loan_repaid'].sort_values().drop('loan_repaid').plot(kind='bar')"
   ]
  },
  {
   "cell_type": "markdown",
   "metadata": {},
   "source": [
    "## Data PreProcessing and Feature Engineering"
   ]
  },
  {
   "cell_type": "code",
   "execution_count": 29,
   "metadata": {},
   "outputs": [
    {
     "data": {
      "text/html": [
       "<div>\n",
       "<style scoped>\n",
       "    .dataframe tbody tr th:only-of-type {\n",
       "        vertical-align: middle;\n",
       "    }\n",
       "\n",
       "    .dataframe tbody tr th {\n",
       "        vertical-align: top;\n",
       "    }\n",
       "\n",
       "    .dataframe thead th {\n",
       "        text-align: right;\n",
       "    }\n",
       "</style>\n",
       "<table border=\"1\" class=\"dataframe\">\n",
       "  <thead>\n",
       "    <tr style=\"text-align: right;\">\n",
       "      <th></th>\n",
       "      <th>loan_amnt</th>\n",
       "      <th>term</th>\n",
       "      <th>int_rate</th>\n",
       "      <th>installment</th>\n",
       "      <th>grade</th>\n",
       "      <th>sub_grade</th>\n",
       "      <th>emp_title</th>\n",
       "      <th>emp_length</th>\n",
       "      <th>home_ownership</th>\n",
       "      <th>annual_inc</th>\n",
       "      <th>...</th>\n",
       "      <th>pub_rec</th>\n",
       "      <th>revol_bal</th>\n",
       "      <th>revol_util</th>\n",
       "      <th>total_acc</th>\n",
       "      <th>initial_list_status</th>\n",
       "      <th>application_type</th>\n",
       "      <th>mort_acc</th>\n",
       "      <th>pub_rec_bankruptcies</th>\n",
       "      <th>address</th>\n",
       "      <th>loan_repaid</th>\n",
       "    </tr>\n",
       "  </thead>\n",
       "  <tbody>\n",
       "    <tr>\n",
       "      <th>0</th>\n",
       "      <td>10000.0</td>\n",
       "      <td>36 months</td>\n",
       "      <td>11.44</td>\n",
       "      <td>329.48</td>\n",
       "      <td>B</td>\n",
       "      <td>B4</td>\n",
       "      <td>Marketing</td>\n",
       "      <td>10+ years</td>\n",
       "      <td>RENT</td>\n",
       "      <td>117000.0</td>\n",
       "      <td>...</td>\n",
       "      <td>0.0</td>\n",
       "      <td>36369.0</td>\n",
       "      <td>41.8</td>\n",
       "      <td>25.0</td>\n",
       "      <td>w</td>\n",
       "      <td>INDIVIDUAL</td>\n",
       "      <td>0.0</td>\n",
       "      <td>0.0</td>\n",
       "      <td>0174 Michelle Gateway\\r\\nMendozaberg, OK 22690</td>\n",
       "      <td>0</td>\n",
       "    </tr>\n",
       "    <tr>\n",
       "      <th>1</th>\n",
       "      <td>8000.0</td>\n",
       "      <td>36 months</td>\n",
       "      <td>11.99</td>\n",
       "      <td>265.68</td>\n",
       "      <td>B</td>\n",
       "      <td>B5</td>\n",
       "      <td>Credit analyst</td>\n",
       "      <td>4 years</td>\n",
       "      <td>MORTGAGE</td>\n",
       "      <td>65000.0</td>\n",
       "      <td>...</td>\n",
       "      <td>0.0</td>\n",
       "      <td>20131.0</td>\n",
       "      <td>53.3</td>\n",
       "      <td>27.0</td>\n",
       "      <td>f</td>\n",
       "      <td>INDIVIDUAL</td>\n",
       "      <td>3.0</td>\n",
       "      <td>0.0</td>\n",
       "      <td>1076 Carney Fort Apt. 347\\r\\nLoganmouth, SD 05113</td>\n",
       "      <td>0</td>\n",
       "    </tr>\n",
       "    <tr>\n",
       "      <th>2</th>\n",
       "      <td>15600.0</td>\n",
       "      <td>36 months</td>\n",
       "      <td>10.49</td>\n",
       "      <td>506.97</td>\n",
       "      <td>B</td>\n",
       "      <td>B3</td>\n",
       "      <td>Statistician</td>\n",
       "      <td>&lt; 1 year</td>\n",
       "      <td>RENT</td>\n",
       "      <td>43057.0</td>\n",
       "      <td>...</td>\n",
       "      <td>0.0</td>\n",
       "      <td>11987.0</td>\n",
       "      <td>92.2</td>\n",
       "      <td>26.0</td>\n",
       "      <td>f</td>\n",
       "      <td>INDIVIDUAL</td>\n",
       "      <td>0.0</td>\n",
       "      <td>0.0</td>\n",
       "      <td>87025 Mark Dale Apt. 269\\r\\nNew Sabrina, WV 05113</td>\n",
       "      <td>0</td>\n",
       "    </tr>\n",
       "    <tr>\n",
       "      <th>3</th>\n",
       "      <td>7200.0</td>\n",
       "      <td>36 months</td>\n",
       "      <td>6.49</td>\n",
       "      <td>220.65</td>\n",
       "      <td>A</td>\n",
       "      <td>A2</td>\n",
       "      <td>Client Advocate</td>\n",
       "      <td>6 years</td>\n",
       "      <td>RENT</td>\n",
       "      <td>54000.0</td>\n",
       "      <td>...</td>\n",
       "      <td>0.0</td>\n",
       "      <td>5472.0</td>\n",
       "      <td>21.5</td>\n",
       "      <td>13.0</td>\n",
       "      <td>f</td>\n",
       "      <td>INDIVIDUAL</td>\n",
       "      <td>0.0</td>\n",
       "      <td>0.0</td>\n",
       "      <td>823 Reid Ford\\r\\nDelacruzside, MA 00813</td>\n",
       "      <td>0</td>\n",
       "    </tr>\n",
       "    <tr>\n",
       "      <th>4</th>\n",
       "      <td>24375.0</td>\n",
       "      <td>60 months</td>\n",
       "      <td>17.27</td>\n",
       "      <td>609.33</td>\n",
       "      <td>C</td>\n",
       "      <td>C5</td>\n",
       "      <td>Destiny Management Inc.</td>\n",
       "      <td>9 years</td>\n",
       "      <td>MORTGAGE</td>\n",
       "      <td>55000.0</td>\n",
       "      <td>...</td>\n",
       "      <td>0.0</td>\n",
       "      <td>24584.0</td>\n",
       "      <td>69.8</td>\n",
       "      <td>43.0</td>\n",
       "      <td>f</td>\n",
       "      <td>INDIVIDUAL</td>\n",
       "      <td>1.0</td>\n",
       "      <td>0.0</td>\n",
       "      <td>679 Luna Roads\\r\\nGreggshire, VA 11650</td>\n",
       "      <td>1</td>\n",
       "    </tr>\n",
       "  </tbody>\n",
       "</table>\n",
       "<p>5 rows × 28 columns</p>\n",
       "</div>"
      ],
      "text/plain": [
       "   loan_amnt        term  int_rate  installment grade sub_grade  \\\n",
       "0    10000.0   36 months     11.44       329.48     B        B4   \n",
       "1     8000.0   36 months     11.99       265.68     B        B5   \n",
       "2    15600.0   36 months     10.49       506.97     B        B3   \n",
       "3     7200.0   36 months      6.49       220.65     A        A2   \n",
       "4    24375.0   60 months     17.27       609.33     C        C5   \n",
       "\n",
       "                 emp_title emp_length home_ownership  annual_inc  ... pub_rec  \\\n",
       "0                Marketing  10+ years           RENT    117000.0  ...     0.0   \n",
       "1          Credit analyst     4 years       MORTGAGE     65000.0  ...     0.0   \n",
       "2             Statistician   < 1 year           RENT     43057.0  ...     0.0   \n",
       "3          Client Advocate    6 years           RENT     54000.0  ...     0.0   \n",
       "4  Destiny Management Inc.    9 years       MORTGAGE     55000.0  ...     0.0   \n",
       "\n",
       "  revol_bal revol_util total_acc initial_list_status  application_type  \\\n",
       "0   36369.0       41.8      25.0                   w        INDIVIDUAL   \n",
       "1   20131.0       53.3      27.0                   f        INDIVIDUAL   \n",
       "2   11987.0       92.2      26.0                   f        INDIVIDUAL   \n",
       "3    5472.0       21.5      13.0                   f        INDIVIDUAL   \n",
       "4   24584.0       69.8      43.0                   f        INDIVIDUAL   \n",
       "\n",
       "  mort_acc  pub_rec_bankruptcies  \\\n",
       "0      0.0                   0.0   \n",
       "1      3.0                   0.0   \n",
       "2      0.0                   0.0   \n",
       "3      0.0                   0.0   \n",
       "4      1.0                   0.0   \n",
       "\n",
       "                                             address  loan_repaid  \n",
       "0     0174 Michelle Gateway\\r\\nMendozaberg, OK 22690            0  \n",
       "1  1076 Carney Fort Apt. 347\\r\\nLoganmouth, SD 05113            0  \n",
       "2  87025 Mark Dale Apt. 269\\r\\nNew Sabrina, WV 05113            0  \n",
       "3            823 Reid Ford\\r\\nDelacruzside, MA 00813            0  \n",
       "4             679 Luna Roads\\r\\nGreggshire, VA 11650            1  \n",
       "\n",
       "[5 rows x 28 columns]"
      ]
     },
     "execution_count": 29,
     "metadata": {},
     "output_type": "execute_result"
    }
   ],
   "source": [
    "df.head()"
   ]
  },
  {
   "cell_type": "code",
   "execution_count": 30,
   "metadata": {},
   "outputs": [
    {
     "data": {
      "text/plain": [
       "loan_amnt                   0\n",
       "term                        0\n",
       "int_rate                    0\n",
       "installment                 0\n",
       "grade                       0\n",
       "sub_grade                   0\n",
       "emp_title               22927\n",
       "emp_length              18301\n",
       "home_ownership              0\n",
       "annual_inc                  0\n",
       "verification_status         0\n",
       "issue_d                     0\n",
       "loan_status                 0\n",
       "purpose                     0\n",
       "title                    1755\n",
       "dti                         0\n",
       "earliest_cr_line            0\n",
       "open_acc                    0\n",
       "pub_rec                     0\n",
       "revol_bal                   0\n",
       "revol_util                276\n",
       "total_acc                   0\n",
       "initial_list_status         0\n",
       "application_type            0\n",
       "mort_acc                37795\n",
       "pub_rec_bankruptcies      535\n",
       "address                     0\n",
       "loan_repaid                 0\n",
       "dtype: int64"
      ]
     },
     "execution_count": 30,
     "metadata": {},
     "output_type": "execute_result"
    }
   ],
   "source": [
    "df.isnull().sum()"
   ]
  },
  {
   "cell_type": "code",
   "execution_count": 31,
   "metadata": {},
   "outputs": [
    {
     "data": {
      "text/plain": [
       "loan_amnt               0.000000\n",
       "term                    0.000000\n",
       "int_rate                0.000000\n",
       "installment             0.000000\n",
       "grade                   0.000000\n",
       "sub_grade               0.000000\n",
       "emp_title               5.789208\n",
       "emp_length              4.621115\n",
       "home_ownership          0.000000\n",
       "annual_inc              0.000000\n",
       "verification_status     0.000000\n",
       "issue_d                 0.000000\n",
       "loan_status             0.000000\n",
       "purpose                 0.000000\n",
       "title                   0.443148\n",
       "dti                     0.000000\n",
       "earliest_cr_line        0.000000\n",
       "open_acc                0.000000\n",
       "pub_rec                 0.000000\n",
       "revol_bal               0.000000\n",
       "revol_util              0.069692\n",
       "total_acc               0.000000\n",
       "initial_list_status     0.000000\n",
       "application_type        0.000000\n",
       "mort_acc                9.543469\n",
       "pub_rec_bankruptcies    0.135091\n",
       "address                 0.000000\n",
       "loan_repaid             0.000000\n",
       "dtype: float64"
      ]
     },
     "execution_count": 31,
     "metadata": {},
     "output_type": "execute_result"
    }
   ],
   "source": [
    "100*df.isnull().sum()/len(df)#percentage  of missing data of various category"
   ]
  },
  {
   "cell_type": "code",
   "execution_count": 32,
   "metadata": {},
   "outputs": [
    {
     "name": "stdout",
     "output_type": "stream",
     "text": [
      "The job title supplied by the Borrower when applying for the loan.*\n"
     ]
    }
   ],
   "source": [
    "feat_info('emp_title') #emp_title feature information"
   ]
  },
  {
   "cell_type": "code",
   "execution_count": 33,
   "metadata": {},
   "outputs": [
    {
     "data": {
      "text/plain": [
       "173105"
      ]
     },
     "execution_count": 33,
     "metadata": {},
     "output_type": "execute_result"
    }
   ],
   "source": [
    "df['emp_title'].nunique()"
   ]
  },
  {
   "cell_type": "code",
   "execution_count": 34,
   "metadata": {},
   "outputs": [
    {
     "data": {
      "text/plain": [
       "Teacher                                    4389\n",
       "Manager                                    4250\n",
       "Registered Nurse                           1856\n",
       "RN                                         1846\n",
       "Supervisor                                 1830\n",
       "Sales                                      1638\n",
       "Project Manager                            1505\n",
       "Owner                                      1410\n",
       "Driver                                     1339\n",
       "Office Manager                             1218\n",
       "manager                                    1145\n",
       "Director                                   1089\n",
       "General Manager                            1074\n",
       "Engineer                                    995\n",
       "teacher                                     962\n",
       "driver                                      882\n",
       "Vice President                              857\n",
       "Operations Manager                          763\n",
       "Administrative Assistant                    756\n",
       "Accountant                                  748\n",
       "President                                   742\n",
       "owner                                       697\n",
       "Account Manager                             692\n",
       "Police Officer                              686\n",
       "supervisor                                  673\n",
       "Attorney                                    667\n",
       "Sales Manager                               665\n",
       "sales                                       645\n",
       "Executive Assistant                         642\n",
       "Analyst                                     623\n",
       "                                           ... \n",
       "Labor/construction                            1\n",
       "Church and Stagg                              1\n",
       "Work force                                    1\n",
       "CORRECTIONAL OFFICER 4                        1\n",
       "Desktop Support Technician, IT                1\n",
       "aia engineers, ltd                            1\n",
       "Assistant Marketing Project Manager           1\n",
       "ACI worldwide                                 1\n",
       "Valparaiso Police Department                  1\n",
       "LORD & KING TRUCKING INC.                     1\n",
       "Foreman/Master Plumber                        1\n",
       "Koel's                                        1\n",
       "Upper Midwest Regional Sales                  1\n",
       "SOFTTEK INTEGRATION SYSTEMS                   1\n",
       "computer assov.                               1\n",
       "children minister                             1\n",
       "Medical Records Secretary                     1\n",
       "Staffing                                      1\n",
       "Eye Q Vision Care                             1\n",
       "Pacific Steel Casting Co                      1\n",
       "Clarks Companies N.A.                         1\n",
       "GLG                                           1\n",
       "Richfield Oil and Gas                         1\n",
       "Last Second Media Inc.                        1\n",
       "Web Media Manager                             1\n",
       "Chief, Modeling, Analysis, & Continuity       1\n",
       "Sound Medical Imaging                         1\n",
       "Populus Group (WellPoint)                     1\n",
       "Audio tech                                    1\n",
       "Peoples Health                                1\n",
       "Name: emp_title, Length: 173105, dtype: int64"
      ]
     },
     "execution_count": 34,
     "metadata": {},
     "output_type": "execute_result"
    }
   ],
   "source": [
    "df['emp_title'].value_counts()"
   ]
  },
  {
   "cell_type": "code",
   "execution_count": 35,
   "metadata": {},
   "outputs": [],
   "source": [
    "df=df.drop('emp_title',axis=1)#so many job category , should drop the column"
   ]
  },
  {
   "cell_type": "code",
   "execution_count": 36,
   "metadata": {},
   "outputs": [
    {
     "name": "stdout",
     "output_type": "stream",
     "text": [
      "Employment length in years. Possible values are between 0 and 10 where 0 means less than one year and 10 means ten or more years. \n"
     ]
    }
   ],
   "source": [
    "feat_info('emp_length')"
   ]
  },
  {
   "cell_type": "code",
   "execution_count": 37,
   "metadata": {},
   "outputs": [
    {
     "data": {
      "text/plain": [
       "['1 year',\n",
       " '10+ years',\n",
       " '2 years',\n",
       " '3 years',\n",
       " '4 years',\n",
       " '5 years',\n",
       " '6 years',\n",
       " '7 years',\n",
       " '8 years',\n",
       " '9 years',\n",
       " '< 1 year']"
      ]
     },
     "execution_count": 37,
     "metadata": {},
     "output_type": "execute_result"
    }
   ],
   "source": [
    "sorted(df['emp_length'].dropna().unique())"
   ]
  },
  {
   "cell_type": "code",
   "execution_count": 38,
   "metadata": {},
   "outputs": [],
   "source": [
    "emp_length_order=['< 1 year','1 year','2 years','3 years','4 years','5 years','6 years','7 years','8 years','9 years','10+ years']"
   ]
  },
  {
   "cell_type": "code",
   "execution_count": 39,
   "metadata": {},
   "outputs": [
    {
     "data": {
      "text/plain": [
       "<matplotlib.axes._subplots.AxesSubplot at 0x249b7bf6080>"
      ]
     },
     "execution_count": 39,
     "metadata": {},
     "output_type": "execute_result"
    },
    {
     "data": {
      "image/png": "[encoded data removed]",
      "text/plain": [
       "<Figure size 864x288 with 1 Axes>"
      ]
     },
     "metadata": {
      "needs_background": "light"
     },
     "output_type": "display_data"
    }
   ],
   "source": [
    "plt.figure(figsize=(12,4))\n",
    "sns.countplot(x='emp_length',data=df,order=emp_length_order)"
   ]
  },
  {
   "cell_type": "code",
   "execution_count": 40,
   "metadata": {},
   "outputs": [
    {
     "data": {
      "text/plain": [
       "<matplotlib.axes._subplots.AxesSubplot at 0x249b7bf2438>"
      ]
     },
     "execution_count": 40,
     "metadata": {},
     "output_type": "execute_result"
    },
    {
     "data": {
      "image/png": "[encoded data removed]",
      "text/plain": [
       "<Figure size 864x288 with 1 Axes>"
      ]
     },
     "metadata": {
      "needs_background": "light"
     },
     "output_type": "display_data"
    }
   ],
   "source": [
    "plt.figure(figsize=(12,4))\n",
    "sns.countplot(x='emp_length',data=df,order=emp_length_order,hue='loan_status')"
   ]
  },
  {
   "cell_type": "code",
   "execution_count": 41,
   "metadata": {},
   "outputs": [
    {
     "data": {
      "text/plain": [
       "emp_length\n",
       "1 year       0.248649\n",
       "10+ years    0.225770\n",
       "2 years      0.239560\n",
       "3 years      0.242593\n",
       "4 years      0.238213\n",
       "5 years      0.237911\n",
       "6 years      0.233341\n",
       "7 years      0.241887\n",
       "8 years      0.249625\n",
       "9 years      0.250735\n",
       "< 1 year     0.260830\n",
       "Name: loan_status, dtype: float64"
      ]
     },
     "execution_count": 41,
     "metadata": {},
     "output_type": "execute_result"
    }
   ],
   "source": [
    "emp_co = df[df['loan_status']==\"Charged Off\"].groupby(\"emp_length\")['loan_status'].count()\n",
    "emp_fp = df[df['loan_status']==\"Fully Paid\"].groupby(\"emp_length\")['loan_status'].count()\n",
    "emp_ln=emp_co/emp_fp\n",
    "emp_ln"
   ]
  },
  {
   "cell_type": "code",
   "execution_count": 42,
   "metadata": {},
   "outputs": [
    {
     "data": {
      "text/plain": [
       "<matplotlib.axes._subplots.AxesSubplot at 0x249b812d9e8>"
      ]
     },
     "execution_count": 42,
     "metadata": {},
     "output_type": "execute_result"
    },
    {
     "data": {
      "image/png": "[encoded data removed]",
      "text/plain": [
       "<Figure size 432x288 with 1 Axes>"
      ]
     },
     "metadata": {
      "needs_background": "light"
     },
     "output_type": "display_data"
    }
   ],
   "source": [
    "emp_ln.plot(kind='bar')#looks like employee length  has no effect on loan status so we will drop the loan status column"
   ]
  },
  {
   "cell_type": "code",
   "execution_count": 43,
   "metadata": {},
   "outputs": [],
   "source": [
    "df=df.drop('emp_length',axis=1)"
   ]
  },
  {
   "cell_type": "code",
   "execution_count": 44,
   "metadata": {},
   "outputs": [
    {
     "data": {
      "text/plain": [
       "loan_amnt                   0\n",
       "term                        0\n",
       "int_rate                    0\n",
       "installment                 0\n",
       "grade                       0\n",
       "sub_grade                   0\n",
       "home_ownership              0\n",
       "annual_inc                  0\n",
       "verification_status         0\n",
       "issue_d                     0\n",
       "loan_status                 0\n",
       "purpose                     0\n",
       "title                    1755\n",
       "dti                         0\n",
       "earliest_cr_line            0\n",
       "open_acc                    0\n",
       "pub_rec                     0\n",
       "revol_bal                   0\n",
       "revol_util                276\n",
       "total_acc                   0\n",
       "initial_list_status         0\n",
       "application_type            0\n",
       "mort_acc                37795\n",
       "pub_rec_bankruptcies      535\n",
       "address                     0\n",
       "loan_repaid                 0\n",
       "dtype: int64"
      ]
     },
     "execution_count": 44,
     "metadata": {},
     "output_type": "execute_result"
    }
   ],
   "source": [
    "df.isnull().sum()"
   ]
  },
  {
   "cell_type": "code",
   "execution_count": 45,
   "metadata": {},
   "outputs": [
    {
     "name": "stdout",
     "output_type": "stream",
     "text": [
      "title:\n",
      "The loan title provided by the borrower\n",
      "purpose:\n",
      "A category provided by the borrower for the loan request. \n"
     ]
    }
   ],
   "source": [
    "print('title:')\n",
    "feat_info('title')\n",
    "print('purpose:')\n",
    "feat_info('purpose')"
   ]
  },
  {
   "cell_type": "code",
   "execution_count": 46,
   "metadata": {},
   "outputs": [
    {
     "data": {
      "text/plain": [
       "0                   Vacation\n",
       "1         Debt consolidation\n",
       "2    Credit card refinancing\n",
       "3    Credit card refinancing\n",
       "4      Credit Card Refinance\n",
       "Name: title, dtype: object"
      ]
     },
     "execution_count": 46,
     "metadata": {},
     "output_type": "execute_result"
    }
   ],
   "source": [
    "df['title'].head()"
   ]
  },
  {
   "cell_type": "code",
   "execution_count": 47,
   "metadata": {},
   "outputs": [
    {
     "data": {
      "text/plain": [
       "0              vacation\n",
       "1    debt_consolidation\n",
       "2           credit_card\n",
       "3           credit_card\n",
       "4           credit_card\n",
       "Name: purpose, dtype: object"
      ]
     },
     "execution_count": 47,
     "metadata": {},
     "output_type": "execute_result"
    }
   ],
   "source": [
    "df['purpose'].head()"
   ]
  },
  {
   "cell_type": "code",
   "execution_count": 48,
   "metadata": {},
   "outputs": [],
   "source": [
    "df=df.drop('title',axis=1)#as title and purpose are same feature"
   ]
  },
  {
   "cell_type": "code",
   "execution_count": 49,
   "metadata": {},
   "outputs": [
    {
     "name": "stdout",
     "output_type": "stream",
     "text": [
      "Correlation with the mort_acc column\n"
     ]
    },
    {
     "data": {
      "text/plain": [
       "int_rate               -0.082583\n",
       "loan_repaid            -0.073111\n",
       "dti                    -0.025439\n",
       "revol_util              0.007514\n",
       "pub_rec                 0.011552\n",
       "pub_rec_bankruptcies    0.027239\n",
       "open_acc                0.109205\n",
       "installment             0.193694\n",
       "revol_bal               0.194925\n",
       "loan_amnt               0.222315\n",
       "annual_inc              0.236320\n",
       "total_acc               0.381072\n",
       "mort_acc                1.000000\n",
       "Name: mort_acc, dtype: float64"
      ]
     },
     "execution_count": 49,
     "metadata": {},
     "output_type": "execute_result"
    }
   ],
   "source": [
    "print(\"Correlation with the mort_acc column\")\n",
    "df.corr()['mort_acc'].sort_values()#mort acc has correlation with total acc "
   ]
  },
  {
   "cell_type": "code",
   "execution_count": 50,
   "metadata": {},
   "outputs": [],
   "source": [
    "total_acc_avg=df.groupby(by='total_acc').mean()['mort_acc']"
   ]
  },
  {
   "cell_type": "code",
   "execution_count": 51,
   "metadata": {},
   "outputs": [],
   "source": [
    "def fill_mort(total_acc,mort_acc):\n",
    "    if np.isnan(mort_acc):\n",
    "        return total_acc_avg[total_acc]\n",
    "    else:\n",
    "        return mort_acc\n"
   ]
  },
  {
   "cell_type": "code",
   "execution_count": 52,
   "metadata": {},
   "outputs": [],
   "source": [
    "df['mort_acc']=df.apply(lambda x:fill_mort(x['total_acc'],x['mort_acc']),axis=1 )"
   ]
  },
  {
   "cell_type": "code",
   "execution_count": 53,
   "metadata": {},
   "outputs": [
    {
     "data": {
      "text/plain": [
       "loan_amnt                 0\n",
       "term                      0\n",
       "int_rate                  0\n",
       "installment               0\n",
       "grade                     0\n",
       "sub_grade                 0\n",
       "home_ownership            0\n",
       "annual_inc                0\n",
       "verification_status       0\n",
       "issue_d                   0\n",
       "loan_status               0\n",
       "purpose                   0\n",
       "dti                       0\n",
       "earliest_cr_line          0\n",
       "open_acc                  0\n",
       "pub_rec                   0\n",
       "revol_bal                 0\n",
       "revol_util              276\n",
       "total_acc                 0\n",
       "initial_list_status       0\n",
       "application_type          0\n",
       "mort_acc                  0\n",
       "pub_rec_bankruptcies    535\n",
       "address                   0\n",
       "loan_repaid               0\n",
       "dtype: int64"
      ]
     },
     "execution_count": 53,
     "metadata": {},
     "output_type": "execute_result"
    }
   ],
   "source": [
    "df.isnull().sum()"
   ]
  },
  {
   "cell_type": "code",
   "execution_count": 54,
   "metadata": {},
   "outputs": [
    {
     "name": "stdout",
     "output_type": "stream",
     "text": [
      "Revolving line utilization rate, or the amount of credit the borrower is using relative to all available revolving credit.\n"
     ]
    }
   ],
   "source": [
    "feat_info('revol_util')"
   ]
  },
  {
   "cell_type": "code",
   "execution_count": 55,
   "metadata": {},
   "outputs": [
    {
     "name": "stdout",
     "output_type": "stream",
     "text": [
      "Number of public record bankruptcies\n"
     ]
    }
   ],
   "source": [
    "feat_info('pub_rec_bankruptcies')"
   ]
  },
  {
   "cell_type": "code",
   "execution_count": 56,
   "metadata": {},
   "outputs": [],
   "source": [
    "#pub_rec_bankruptcies and revol_util have less than 0.5 percent missing values so we can drop those rows\n",
    "df=df.dropna()"
   ]
  },
  {
   "cell_type": "code",
   "execution_count": 57,
   "metadata": {},
   "outputs": [
    {
     "data": {
      "text/plain": [
       "loan_amnt               0\n",
       "term                    0\n",
       "int_rate                0\n",
       "installment             0\n",
       "grade                   0\n",
       "sub_grade               0\n",
       "home_ownership          0\n",
       "annual_inc              0\n",
       "verification_status     0\n",
       "issue_d                 0\n",
       "loan_status             0\n",
       "purpose                 0\n",
       "dti                     0\n",
       "earliest_cr_line        0\n",
       "open_acc                0\n",
       "pub_rec                 0\n",
       "revol_bal               0\n",
       "revol_util              0\n",
       "total_acc               0\n",
       "initial_list_status     0\n",
       "application_type        0\n",
       "mort_acc                0\n",
       "pub_rec_bankruptcies    0\n",
       "address                 0\n",
       "loan_repaid             0\n",
       "dtype: int64"
      ]
     },
     "execution_count": 57,
     "metadata": {},
     "output_type": "execute_result"
    }
   ],
   "source": [
    "df.isnull().sum() #no missing values"
   ]
  },
  {
   "cell_type": "code",
   "execution_count": 58,
   "metadata": {},
   "outputs": [
    {
     "data": {
      "text/plain": [
       "Index(['term', 'grade', 'sub_grade', 'home_ownership', 'verification_status',\n",
       "       'issue_d', 'loan_status', 'purpose', 'earliest_cr_line',\n",
       "       'initial_list_status', 'application_type', 'address'],\n",
       "      dtype='object')"
      ]
     },
     "execution_count": 58,
     "metadata": {},
     "output_type": "execute_result"
    }
   ],
   "source": [
    "df.select_dtypes('object').columns #object type feature to make dummies"
   ]
  },
  {
   "cell_type": "code",
   "execution_count": 59,
   "metadata": {},
   "outputs": [
    {
     "data": {
      "text/plain": [
       " 36 months    301247\n",
       " 60 months     93972\n",
       "Name: term, dtype: int64"
      ]
     },
     "execution_count": 59,
     "metadata": {},
     "output_type": "execute_result"
    }
   ],
   "source": [
    "df['term'].value_counts()#only number is required  so can be made categorical or numerical"
   ]
  },
  {
   "cell_type": "code",
   "execution_count": 60,
   "metadata": {},
   "outputs": [
    {
     "data": {
      "text/plain": [
       "36    301247\n",
       "60     93972\n",
       "Name: term, dtype: int64"
      ]
     },
     "execution_count": 60,
     "metadata": {},
     "output_type": "execute_result"
    }
   ],
   "source": [
    "df['term']=df['term'].apply(lambda x: int(x[:3]))\n",
    "df['term'].value_counts()"
   ]
  },
  {
   "cell_type": "code",
   "execution_count": 61,
   "metadata": {},
   "outputs": [
    {
     "data": {
      "text/plain": [
       "MORTGAGE    198022\n",
       "RENT        159395\n",
       "OWN          37660\n",
       "OTHER          110\n",
       "NONE            29\n",
       "ANY              3\n",
       "Name: home_ownership, dtype: int64"
      ]
     },
     "execution_count": 61,
     "metadata": {},
     "output_type": "execute_result"
    }
   ],
   "source": [
    "df['home_ownership'].value_counts()"
   ]
  },
  {
   "cell_type": "code",
   "execution_count": 62,
   "metadata": {},
   "outputs": [
    {
     "data": {
      "text/plain": [
       "MORTGAGE    198022\n",
       "RENT        159395\n",
       "OWN          37660\n",
       "OTHER          142\n",
       "Name: home_ownership, dtype: int64"
      ]
     },
     "execution_count": 62,
     "metadata": {},
     "output_type": "execute_result"
    }
   ],
   "source": [
    "df['home_ownership']=df['home_ownership'].replace({'NONE':'OTHER','ANY':'OTHER'})\n",
    "df['home_ownership'].value_counts()"
   ]
  },
  {
   "cell_type": "code",
   "execution_count": 63,
   "metadata": {},
   "outputs": [],
   "source": [
    "df=df.drop('grade',axis=1)#  grade already under subgrade feature"
   ]
  },
  {
   "cell_type": "code",
   "execution_count": 64,
   "metadata": {},
   "outputs": [],
   "source": [
    "subgrade_dummies=pd.get_dummies(df['sub_grade'],drop_first=True)"
   ]
  },
  {
   "cell_type": "code",
   "execution_count": 65,
   "metadata": {},
   "outputs": [],
   "source": [
    "df=pd.concat([df.drop('sub_grade',axis=1),subgrade_dummies],axis=1)"
   ]
  },
  {
   "cell_type": "code",
   "execution_count": 66,
   "metadata": {},
   "outputs": [
    {
     "data": {
      "text/plain": [
       "Index(['loan_amnt', 'term', 'int_rate', 'installment', 'home_ownership',\n",
       "       'annual_inc', 'verification_status', 'issue_d', 'loan_status',\n",
       "       'purpose', 'dti', 'earliest_cr_line', 'open_acc', 'pub_rec',\n",
       "       'revol_bal', 'revol_util', 'total_acc', 'initial_list_status',\n",
       "       'application_type', 'mort_acc', 'pub_rec_bankruptcies', 'address',\n",
       "       'loan_repaid', 'A2', 'A3', 'A4', 'A5', 'B1', 'B2', 'B3', 'B4', 'B5',\n",
       "       'C1', 'C2', 'C3', 'C4', 'C5', 'D1', 'D2', 'D3', 'D4', 'D5', 'E1', 'E2',\n",
       "       'E3', 'E4', 'E5', 'F1', 'F2', 'F3', 'F4', 'F5', 'G1', 'G2', 'G3', 'G4',\n",
       "       'G5'],\n",
       "      dtype='object')"
      ]
     },
     "execution_count": 66,
     "metadata": {},
     "output_type": "execute_result"
    }
   ],
   "source": [
    "df.columns"
   ]
  },
  {
   "cell_type": "code",
   "execution_count": 67,
   "metadata": {},
   "outputs": [
    {
     "data": {
      "text/plain": [
       "70466    56880\n",
       "22690    56413\n",
       "30723    56402\n",
       "48052    55811\n",
       "00813    45725\n",
       "29597    45393\n",
       "05113    45300\n",
       "11650    11210\n",
       "93700    11126\n",
       "86630    10959\n",
       "Name: zip_code, dtype: int64"
      ]
     },
     "execution_count": 67,
     "metadata": {},
     "output_type": "execute_result"
    }
   ],
   "source": [
    "df['zip_code']=df['address'].apply(lambda x: x[-5:])\n",
    "df['zip_code'].value_counts()"
   ]
  },
  {
   "cell_type": "code",
   "execution_count": 68,
   "metadata": {},
   "outputs": [
    {
     "data": {
      "text/plain": [
       "Index(['home_ownership', 'verification_status', 'issue_d', 'loan_status',\n",
       "       'purpose', 'earliest_cr_line', 'initial_list_status',\n",
       "       'application_type', 'address', 'zip_code'],\n",
       "      dtype='object')"
      ]
     },
     "execution_count": 68,
     "metadata": {},
     "output_type": "execute_result"
    }
   ],
   "source": [
    "df.select_dtypes('object').columns"
   ]
  },
  {
   "cell_type": "code",
   "execution_count": 69,
   "metadata": {},
   "outputs": [
    {
     "name": "stdout",
     "output_type": "stream",
     "text": [
      "The month the borrower's earliest reported credit line was opened\n"
     ]
    }
   ],
   "source": [
    "feat_info('earliest_cr_line')"
   ]
  },
  {
   "cell_type": "code",
   "execution_count": 70,
   "metadata": {},
   "outputs": [
    {
     "data": {
      "text/plain": [
       "Oct-2000    3013\n",
       "Aug-2000    2930\n",
       "Oct-2001    2890\n",
       "Aug-2001    2879\n",
       "Nov-2000    2729\n",
       "Oct-1999    2724\n",
       "Nov-1999    2696\n",
       "Sep-2000    2681\n",
       "Oct-2002    2635\n",
       "Aug-2002    2596\n",
       "Sep-2001    2554\n",
       "Aug-1999    2543\n",
       "Sep-1999    2529\n",
       "Sep-2002    2524\n",
       "Dec-2000    2499\n",
       "Sep-2003    2484\n",
       "Dec-1999    2475\n",
       "Oct-2003    2435\n",
       "Nov-2001    2427\n",
       "Dec-2001    2421\n",
       "Jul-2001    2414\n",
       "Jul-2000    2364\n",
       "May-2001    2332\n",
       "Jan-2001    2328\n",
       "Dec-1998    2324\n",
       "Mar-2001    2322\n",
       "Jun-2001    2302\n",
       "Oct-1998    2299\n",
       "Nov-1998    2283\n",
       "Sep-2004    2272\n",
       "            ... \n",
       "Jan-1953       1\n",
       "Aug-1959       1\n",
       "Jun-1959       1\n",
       "May-1962       1\n",
       "Oct-1957       1\n",
       "Feb-1961       1\n",
       "Sep-1957       1\n",
       "Jan-1944       1\n",
       "Jul-1962       1\n",
       "Mar-1960       1\n",
       "Dec-1959       1\n",
       "Aug-1958       1\n",
       "Sep-1956       1\n",
       "Sep-1961       1\n",
       "Oct-1950       1\n",
       "Jul-1961       1\n",
       "Aug-1951       1\n",
       "Jul-1958       1\n",
       "Sep-1960       1\n",
       "Jul-1959       1\n",
       "May-1958       1\n",
       "Nov-1959       1\n",
       "Nov-1961       1\n",
       "Nov-1953       1\n",
       "Jan-1948       1\n",
       "Feb-1962       1\n",
       "Dec-1956       1\n",
       "Nov-1957       1\n",
       "Jul-1955       1\n",
       "Apr-1958       1\n",
       "Name: earliest_cr_line, Length: 684, dtype: int64"
      ]
     },
     "execution_count": 70,
     "metadata": {},
     "output_type": "execute_result"
    }
   ],
   "source": [
    "df['earliest_cr_line'].value_counts()"
   ]
  },
  {
   "cell_type": "code",
   "execution_count": 71,
   "metadata": {},
   "outputs": [],
   "source": [
    "df['earliest_cr_year']=df['earliest_cr_line'].apply(lambda x:int(x[-4:]))#convert them into year"
   ]
  },
  {
   "cell_type": "code",
   "execution_count": 72,
   "metadata": {},
   "outputs": [
    {
     "data": {
      "text/plain": [
       "Index(['home_ownership', 'verification_status', 'issue_d', 'loan_status',\n",
       "       'purpose', 'earliest_cr_line', 'initial_list_status',\n",
       "       'application_type', 'address', 'zip_code'],\n",
       "      dtype='object')"
      ]
     },
     "execution_count": 72,
     "metadata": {},
     "output_type": "execute_result"
    }
   ],
   "source": [
    "df.select_dtypes('object').columns#earliest cr line is no longer a categorical variable"
   ]
  },
  {
   "cell_type": "code",
   "execution_count": 73,
   "metadata": {},
   "outputs": [],
   "source": [
    "df=df.drop('issue_d',axis=1)#This would be data leakage, we wouldn't know beforehand\n",
    "#whether or not a loan would be issued when using our model, so in theory we wouldn't have an issue_date"
   ]
  },
  {
   "cell_type": "code",
   "execution_count": 74,
   "metadata": {},
   "outputs": [
    {
     "data": {
      "text/plain": [
       "INDIVIDUAL    394508\n",
       "JOINT            425\n",
       "DIRECT_PAY       286\n",
       "Name: application_type, dtype: int64"
      ]
     },
     "execution_count": 74,
     "metadata": {},
     "output_type": "execute_result"
    }
   ],
   "source": [
    "df['application_type'].value_counts()"
   ]
  },
  {
   "cell_type": "code",
   "execution_count": 75,
   "metadata": {},
   "outputs": [
    {
     "data": {
      "text/plain": [
       "Verified           139451\n",
       "Source Verified    131301\n",
       "Not Verified       124467\n",
       "Name: verification_status, dtype: int64"
      ]
     },
     "execution_count": 75,
     "metadata": {},
     "output_type": "execute_result"
    }
   ],
   "source": [
    "df['verification_status'].value_counts()"
   ]
  },
  {
   "cell_type": "code",
   "execution_count": 76,
   "metadata": {},
   "outputs": [
    {
     "data": {
      "text/plain": [
       "f    237346\n",
       "w    157873\n",
       "Name: initial_list_status, dtype: int64"
      ]
     },
     "execution_count": 76,
     "metadata": {},
     "output_type": "execute_result"
    }
   ],
   "source": [
    "df['initial_list_status'].value_counts()"
   ]
  },
  {
   "cell_type": "code",
   "execution_count": 77,
   "metadata": {},
   "outputs": [],
   "source": [
    "get_dummies=pd.get_dummies(df[['application_type','verification_status','initial_list_status','purpose','zip_code','home_ownership']],drop_first=True)"
   ]
  },
  {
   "cell_type": "code",
   "execution_count": 78,
   "metadata": {},
   "outputs": [
    {
     "data": {
      "text/plain": [
       "Index(['loan_amnt', 'term', 'int_rate', 'installment', 'home_ownership',\n",
       "       'annual_inc', 'verification_status', 'loan_status', 'purpose', 'dti',\n",
       "       'earliest_cr_line', 'open_acc', 'pub_rec', 'revol_bal', 'revol_util',\n",
       "       'total_acc', 'initial_list_status', 'application_type', 'mort_acc',\n",
       "       'pub_rec_bankruptcies', 'address', 'loan_repaid', 'A2', 'A3', 'A4',\n",
       "       'A5', 'B1', 'B2', 'B3', 'B4', 'B5', 'C1', 'C2', 'C3', 'C4', 'C5', 'D1',\n",
       "       'D2', 'D3', 'D4', 'D5', 'E1', 'E2', 'E3', 'E4', 'E5', 'F1', 'F2', 'F3',\n",
       "       'F4', 'F5', 'G1', 'G2', 'G3', 'G4', 'G5', 'zip_code',\n",
       "       'earliest_cr_year', 'application_type_INDIVIDUAL',\n",
       "       'application_type_JOINT', 'verification_status_Source Verified',\n",
       "       'verification_status_Verified', 'initial_list_status_w',\n",
       "       'purpose_credit_card', 'purpose_debt_consolidation',\n",
       "       'purpose_educational', 'purpose_home_improvement', 'purpose_house',\n",
       "       'purpose_major_purchase', 'purpose_medical', 'purpose_moving',\n",
       "       'purpose_other', 'purpose_renewable_energy', 'purpose_small_business',\n",
       "       'purpose_vacation', 'purpose_wedding', 'zip_code_05113',\n",
       "       'zip_code_11650', 'zip_code_22690', 'zip_code_29597', 'zip_code_30723',\n",
       "       'zip_code_48052', 'zip_code_70466', 'zip_code_86630', 'zip_code_93700',\n",
       "       'home_ownership_OTHER', 'home_ownership_OWN', 'home_ownership_RENT'],\n",
       "      dtype='object')"
      ]
     },
     "execution_count": 78,
     "metadata": {},
     "output_type": "execute_result"
    }
   ],
   "source": [
    "df=pd.concat([df,get_dummies],axis=1)\n",
    "df.columns"
   ]
  },
  {
   "cell_type": "code",
   "execution_count": 79,
   "metadata": {},
   "outputs": [],
   "source": [
    "df=df.drop(['initial_list_status','application_type','verification_status','home_ownership','purpose','earliest_cr_line','loan_status','address','zip_code'],axis=1)"
   ]
  },
  {
   "cell_type": "code",
   "execution_count": 80,
   "metadata": {},
   "outputs": [
    {
     "data": {
      "text/plain": [
       "(395219, 79)"
      ]
     },
     "execution_count": 80,
     "metadata": {},
     "output_type": "execute_result"
    }
   ],
   "source": [
    "df.shape"
   ]
  },
  {
   "cell_type": "code",
   "execution_count": 81,
   "metadata": {},
   "outputs": [],
   "source": [
    "x=df.drop('loan_repaid',axis=1)\n",
    "y=df['loan_repaid'].values"
   ]
  },
  {
   "cell_type": "code",
   "execution_count": 82,
   "metadata": {},
   "outputs": [],
   "source": [
    "x_train, x_test, y_train, y_test = train_test_split(x, y, test_size=0.2,random_state=42)#train and test set"
   ]
  },
  {
   "cell_type": "code",
   "execution_count": 83,
   "metadata": {},
   "outputs": [
    {
     "data": {
      "text/plain": [
       "(316175, 78)"
      ]
     },
     "execution_count": 83,
     "metadata": {},
     "output_type": "execute_result"
    }
   ],
   "source": [
    "scaler=MinMaxScaler() \n",
    "x_train=scaler.fit_transform(x_train)\n",
    "x_test=scaler.transform(x_test)\n",
    "x_train.shape"
   ]
  },
  {
   "cell_type": "markdown",
   "metadata": {},
   "source": [
    "## MODEL USING ANN"
   ]
  },
  {
   "cell_type": "code",
   "execution_count": 84,
   "metadata": {},
   "outputs": [],
   "source": [
    "model = Sequential()\n",
    "\n",
    "# 1st layer\n",
    "model.add(Dense(78,  activation='relu'))\n",
    "model.add(Dropout(0.2))\n",
    "\n",
    "# 2nd layer\n",
    "model.add(Dense(39, activation='relu'))\n",
    "model.add(Dropout(0.2))\n",
    "\n",
    "# 3rd layer\n",
    "model.add(Dense(19, activation='relu'))\n",
    "model.add(Dropout(0.2))\n",
    "\n",
    "# output layer\n",
    "model.add(Dense(1,activation='sigmoid'))\n",
    "\n",
    "# Compile model\n",
    "model.compile(loss='binary_crossentropy',metrics=['accuracy'], optimizer='adam')"
   ]
  },
  {
   "cell_type": "code",
   "execution_count": 85,
   "metadata": {},
   "outputs": [
    {
     "name": "stdout",
     "output_type": "stream",
     "text": [
      "Train on 316175 samples, validate on 79044 samples\n",
      "Epoch 1/25\n",
      "316175/316175 [==============================] - 12s 38us/sample - loss: 0.3016 - accuracy: 0.8773 - val_loss: 0.2642 - val_accuracy: 0.8889\n",
      "Epoch 2/25\n",
      "316175/316175 [==============================] - 6s 19us/sample - loss: 0.2667 - accuracy: 0.8879 - val_loss: 0.2604 - val_accuracy: 0.8890\n",
      "Epoch 3/25\n",
      "316175/316175 [==============================] - 6s 18us/sample - loss: 0.2639 - accuracy: 0.8880 - val_loss: 0.2610 - val_accuracy: 0.8889\n",
      "Epoch 4/25\n",
      "316175/316175 [==============================] - 6s 18us/sample - loss: 0.2626 - accuracy: 0.8881 - val_loss: 0.2594 - val_accuracy: 0.8890\n",
      "Epoch 5/25\n",
      "316175/316175 [==============================] - 6s 18us/sample - loss: 0.2617 - accuracy: 0.8881 - val_loss: 0.2591 - val_accuracy: 0.8889\n",
      "Epoch 6/25\n",
      "316175/316175 [==============================] - 6s 20us/sample - loss: 0.2613 - accuracy: 0.8879 - val_loss: 0.2594 - val_accuracy: 0.8887\n",
      "Epoch 7/25\n",
      "316175/316175 [==============================] - 6s 19us/sample - loss: 0.2607 - accuracy: 0.8882 - val_loss: 0.2587 - val_accuracy: 0.8889\n",
      "Epoch 8/25\n",
      "316175/316175 [==============================] - 6s 20us/sample - loss: 0.2605 - accuracy: 0.8882 - val_loss: 0.2597 - val_accuracy: 0.8889\n",
      "Epoch 9/25\n",
      "316175/316175 [==============================] - 6s 19us/sample - loss: 0.2601 - accuracy: 0.8882 - val_loss: 0.2586 - val_accuracy: 0.8891\n",
      "Epoch 10/25\n",
      "316175/316175 [==============================] - 6s 18us/sample - loss: 0.2597 - accuracy: 0.8883 - val_loss: 0.2590 - val_accuracy: 0.8890\n",
      "Epoch 11/25\n",
      "316175/316175 [==============================] - 6s 18us/sample - loss: 0.2596 - accuracy: 0.8880 - val_loss: 0.2584 - val_accuracy: 0.8889\n",
      "Epoch 12/25\n",
      "316175/316175 [==============================] - 6s 19us/sample - loss: 0.2591 - accuracy: 0.8885 - val_loss: 0.2589 - val_accuracy: 0.8889\n",
      "Epoch 13/25\n",
      "316175/316175 [==============================] - 6s 18us/sample - loss: 0.2590 - accuracy: 0.8881 - val_loss: 0.2582 - val_accuracy: 0.8892\n",
      "Epoch 14/25\n",
      "316175/316175 [==============================] - 6s 18us/sample - loss: 0.2588 - accuracy: 0.8882 - val_loss: 0.2589 - val_accuracy: 0.8890\n",
      "Epoch 15/25\n",
      "316175/316175 [==============================] - 6s 18us/sample - loss: 0.2586 - accuracy: 0.8880 - val_loss: 0.2585 - val_accuracy: 0.8889\n",
      "Epoch 16/25\n",
      "316175/316175 [==============================] - 6s 18us/sample - loss: 0.2582 - accuracy: 0.8885 - val_loss: 0.2584 - val_accuracy: 0.8888\n",
      "Epoch 17/25\n",
      "316175/316175 [==============================] - 6s 18us/sample - loss: 0.2581 - accuracy: 0.8884 - val_loss: 0.2584 - val_accuracy: 0.8892\n",
      "Epoch 18/25\n",
      "316175/316175 [==============================] - 6s 18us/sample - loss: 0.2578 - accuracy: 0.8887 - val_loss: 0.2584 - val_accuracy: 0.8892\n",
      "Epoch 19/25\n",
      "316175/316175 [==============================] - 6s 18us/sample - loss: 0.2576 - accuracy: 0.8886 - val_loss: 0.2586 - val_accuracy: 0.8890\n",
      "Epoch 20/25\n",
      "316175/316175 [==============================] - 6s 18us/sample - loss: 0.2575 - accuracy: 0.8887 - val_loss: 0.2584 - val_accuracy: 0.8890\n",
      "Epoch 21/25\n",
      "316175/316175 [==============================] - 6s 18us/sample - loss: 0.2572 - accuracy: 0.8888 - val_loss: 0.2594 - val_accuracy: 0.8887\n",
      "Epoch 22/25\n",
      "316175/316175 [==============================] - 6s 19us/sample - loss: 0.2572 - accuracy: 0.8889 - val_loss: 0.2586 - val_accuracy: 0.8891\n",
      "Epoch 23/25\n",
      "316175/316175 [==============================] - 6s 18us/sample - loss: 0.2571 - accuracy: 0.8889 - val_loss: 0.2589 - val_accuracy: 0.8890\n",
      "Epoch 24/25\n",
      "316175/316175 [==============================] - 6s 18us/sample - loss: 0.2566 - accuracy: 0.8890 - val_loss: 0.2585 - val_accuracy: 0.8890\n",
      "Epoch 25/25\n",
      "316175/316175 [==============================] - 6s 19us/sample - loss: 0.2565 - accuracy: 0.8890 - val_loss: 0.2585 - val_accuracy: 0.8890\n"
     ]
    },
    {
     "data": {
      "text/plain": [
       "<tensorflow.python.keras.callbacks.History at 0x249b479aba8>"
      ]
     },
     "execution_count": 85,
     "metadata": {},
     "output_type": "execute_result"
    }
   ],
   "source": [
    "model.fit(x=x_train, \n",
    "          y=y_train, \n",
    "          epochs=25,\n",
    "          batch_size=256,\n",
    "          validation_data=(x_test, y_test), \n",
    "          )"
   ]
  },
  {
   "cell_type": "code",
   "execution_count": 86,
   "metadata": {},
   "outputs": [],
   "source": [
    "losses = pd.DataFrame(model.history.history)"
   ]
  },
  {
   "cell_type": "code",
   "execution_count": 87,
   "metadata": {},
   "outputs": [
    {
     "data": {
      "text/plain": [
       "<matplotlib.axes._subplots.AxesSubplot at 0x249b68af2e8>"
      ]
     },
     "execution_count": 87,
     "metadata": {},
     "output_type": "execute_result"
    },
    {
     "data": {
      "image/png": "[encoded data removed]",
      "text/plain": [
       "<Figure size 432x288 with 1 Axes>"
      ]
     },
     "metadata": {
      "needs_background": "light"
     },
     "output_type": "display_data"
    }
   ],
   "source": [
    "losses[['loss','val_loss']].plot()"
   ]
  },
  {
   "cell_type": "code",
   "execution_count": 88,
   "metadata": {},
   "outputs": [
    {
     "data": {
      "text/plain": [
       "<matplotlib.axes._subplots.AxesSubplot at 0x249b691e128>"
      ]
     },
     "execution_count": 88,
     "metadata": {},
     "output_type": "execute_result"
    },
    {
     "data": {
      "image/png": "[encoded data removed]",
      "text/plain": [
       "<Figure size 432x288 with 1 Axes>"
      ]
     },
     "metadata": {
      "needs_background": "light"
     },
     "output_type": "display_data"
    }
   ],
   "source": [
    "losses[['accuracy','val_accuracy']].plot()"
   ]
  },
  {
   "cell_type": "code",
   "execution_count": 89,
   "metadata": {},
   "outputs": [],
   "source": [
    "predictions = model.predict_classes(x_test)"
   ]
  },
  {
   "cell_type": "code",
   "execution_count": 90,
   "metadata": {},
   "outputs": [
    {
     "name": "stdout",
     "output_type": "stream",
     "text": [
      "              precision    recall  f1-score   support\n",
      "\n",
      "           0       0.88      1.00      0.94     63623\n",
      "           1       0.96      0.45      0.61     15421\n",
      "\n",
      "    accuracy                           0.89     79044\n",
      "   macro avg       0.92      0.72      0.77     79044\n",
      "weighted avg       0.90      0.89      0.87     79044\n",
      "\n",
      "Confusion Matrix:\n",
      "\n",
      "[[63367   256]\n",
      " [ 8516  6905]]\n"
     ]
    },
    {
     "data": {
      "text/plain": [
       "<matplotlib.axes._subplots.AxesSubplot at 0x249b69b9c88>"
      ]
     },
     "execution_count": 90,
     "metadata": {},
     "output_type": "execute_result"
    },
    {
     "data": {
      "image/png": "[encoded data removed]",
      "text/plain": [
       "<Figure size 288x288 with 2 Axes>"
      ]
     },
     "metadata": {
      "needs_background": "light"
     },
     "output_type": "display_data"
    }
   ],
   "source": [
    "print(classification_report(y_test,predictions))\n",
    "plt.figure(figsize=(4,4))\n",
    "print('Confusion Matrix:\\n')\n",
    "print(confusion_matrix(y_test,predictions))\n",
    "sns.heatmap(confusion_matrix(y_test,predictions),annot=True,cmap='viridis')"
   ]
  },
  {
   "cell_type": "code",
   "execution_count": 91,
   "metadata": {},
   "outputs": [
    {
     "name": "stdout",
     "output_type": "stream",
     "text": [
      "predicted value: [[0]]\n",
      "actual label: 0\n"
     ]
    }
   ],
   "source": [
    "import random\n",
    "random.seed(42)\n",
    "random_ind = random.randint(0,len(df))\n",
    "new_customer = df.drop('loan_repaid',axis=1).iloc[random_ind]\n",
    "new=scaler.fit_transform(new_customer.values.reshape(1,78))\n",
    "print('predicted value:',model.predict_classes(new))\n",
    "print('actual label:',y[random_ind])"
   ]
  },
  {
   "cell_type": "markdown",
   "metadata": {},
   "source": [
    "## ANN WITH CLASS WEIGHT"
   ]
  },
  {
   "cell_type": "code",
   "execution_count": 92,
   "metadata": {},
   "outputs": [
    {
     "name": "stdout",
     "output_type": "stream",
     "text": [
      "Examples:\n",
      "    Total: 395219\n",
      "    Fraud: 77523 (19.62% of total)\n",
      "\n"
     ]
    }
   ],
   "source": [
    "normal, fraud = np.bincount(df['loan_repaid'])\n",
    "total = normal + fraud\n",
    "print('Examples:\\n    Total: {}\\n    Fraud: {} ({:.2f}% of total)\\n'.format(total, fraud, 100 * fraud / total))"
   ]
  },
  {
   "cell_type": "code",
   "execution_count": 93,
   "metadata": {},
   "outputs": [],
   "source": [
    "epochs=100\n",
    "batch_size= 256\n",
    "\n",
    "early_stopping = EarlyStopping(\n",
    "    monitor='val_accuracy', \n",
    "    verbose=1,\n",
    "    patience=5,\n",
    "    mode='max',\n",
    "    restore_best_weights=True)"
   ]
  },
  {
   "cell_type": "code",
   "execution_count": 94,
   "metadata": {},
   "outputs": [],
   "source": [
    "\n",
    "def build_model():\n",
    "    #1st layer\n",
    "    model.add(Dense(78,  activation='relu'))\n",
    "    model.add(Dropout(0.2))\n",
    "\n",
    "    # 2nd layer\n",
    "    model.add(Dense(39, activation='relu'))\n",
    "    model.add(Dropout(0.2))\n",
    "\n",
    "    # 3rd layer\n",
    "    model.add(Dense(19, activation='relu'))\n",
    "    model.add(Dropout(0.2))\n",
    "\n",
    "    # output layer\n",
    "    model.add(Dense(1,activation='sigmoid'))\n",
    "\n",
    "    # Compile model\n",
    "    model.compile(loss='binary_crossentropy',metrics=['accuracy'], optimizer='adam')\n",
    "    return model"
   ]
  },
  {
   "cell_type": "code",
   "execution_count": 95,
   "metadata": {},
   "outputs": [
    {
     "name": "stdout",
     "output_type": "stream",
     "text": [
      "Weight for class 0(Normal Transactions): 0.62\n",
      "Weight for class 1(Fraud Transactions): 2.55\n"
     ]
    },
    {
     "data": {
      "text/plain": [
       "{0: 0.6220081461522965, 1: 2.5490435096680986}"
      ]
     },
     "execution_count": 95,
     "metadata": {},
     "output_type": "execute_result"
    }
   ],
   "source": [
    "weight_for_normal = (1 / normal)*(total)/2.0 \n",
    "weight_for_fraud = (1 / fraud)*(total)/2.0\n",
    "\n",
    "class_weight = {0: weight_for_normal, 1: weight_for_fraud}\n",
    "\n",
    "print('Weight for class 0(Normal Transactions): {:.2f}'.format(weight_for_normal))\n",
    "print('Weight for class 1(Fraud Transactions): {:.2f}'.format(weight_for_fraud))\n",
    "class_weight"
   ]
  },
  {
   "cell_type": "code",
   "execution_count": 96,
   "metadata": {},
   "outputs": [
    {
     "name": "stdout",
     "output_type": "stream",
     "text": [
      "WARNING:tensorflow:sample_weight modes were coerced from\n",
      "  ...\n",
      "    to  \n",
      "  ['...']\n",
      "WARNING:tensorflow:sample_weight modes were coerced from\n",
      "  ...\n",
      "    to  \n",
      "  ['...']\n",
      "Train on 316175 samples, validate on 79044 samples\n",
      "Epoch 1/100\n",
      "316175/316175 [==============================] - 11s 34us/sample - loss: 0.3894 - accuracy: 0.7919 - val_loss: 0.3605 - val_accuracy: 0.8001\n",
      "Epoch 2/100\n",
      "316175/316175 [==============================] - 9s 27us/sample - loss: 0.3615 - accuracy: 0.7973 - val_loss: 0.3604 - val_accuracy: 0.7712\n",
      "Epoch 3/100\n",
      "316175/316175 [==============================] - 9s 28us/sample - loss: 0.3595 - accuracy: 0.7914 - val_loss: 0.3602 - val_accuracy: 0.7737\n",
      "Epoch 4/100\n",
      "316175/316175 [==============================] - 9s 28us/sample - loss: 0.3585 - accuracy: 0.7924 - val_loss: 0.3624 - val_accuracy: 0.8031\n",
      "Epoch 5/100\n",
      "316175/316175 [==============================] - 9s 27us/sample - loss: 0.3585 - accuracy: 0.7915 - val_loss: 0.3604 - val_accuracy: 0.7635\n",
      "Epoch 6/100\n",
      "316175/316175 [==============================] - 9s 27us/sample - loss: 0.3578 - accuracy: 0.7894 - val_loss: 0.3607 - val_accuracy: 0.7832\n",
      "Epoch 7/100\n",
      "316175/316175 [==============================] - 9s 27us/sample - loss: 0.3570 - accuracy: 0.7870 - val_loss: 0.3599 - val_accuracy: 0.7971\n",
      "Epoch 8/100\n",
      "316175/316175 [==============================] - 9s 28us/sample - loss: 0.3569 - accuracy: 0.7927 - val_loss: 0.3619 - val_accuracy: 0.8079\n",
      "Epoch 9/100\n",
      "316175/316175 [==============================] - 9s 28us/sample - loss: 0.3568 - accuracy: 0.7944 - val_loss: 0.3604 - val_accuracy: 0.7965\n",
      "Epoch 10/100\n",
      "316175/316175 [==============================] - 9s 27us/sample - loss: 0.3560 - accuracy: 0.7934 - val_loss: 0.3605 - val_accuracy: 0.7877\n",
      "Epoch 11/100\n",
      "316175/316175 [==============================] - 9s 28us/sample - loss: 0.3562 - accuracy: 0.7911 - val_loss: 0.3611 - val_accuracy: 0.8062\n",
      "Epoch 12/100\n",
      "316175/316175 [==============================] - 9s 27us/sample - loss: 0.3564 - accuracy: 0.7942 - val_loss: 0.3599 - val_accuracy: 0.7738\n",
      "Epoch 13/100\n",
      "315904/316175 [============================>.] - ETA: 0s - loss: 0.3560 - accuracy: 0.7938Restoring model weights from the end of the best epoch.\n",
      "316175/316175 [==============================] - 9s 28us/sample - loss: 0.3560 - accuracy: 0.7938 - val_loss: 0.3602 - val_accuracy: 0.7585\n",
      "Epoch 00013: early stopping\n"
     ]
    },
    {
     "data": {
      "text/plain": [
       "<tensorflow.python.keras.callbacks.History at 0x249b4821d68>"
      ]
     },
     "execution_count": 96,
     "metadata": {},
     "output_type": "execute_result"
    }
   ],
   "source": [
    "model = build_model()\n",
    "model.fit(x_train,y_train,batch_size=batch_size,epochs=epochs,callbacks = [early_stopping],validation_data=(x_test, y_test),class_weight=class_weight)"
   ]
  },
  {
   "cell_type": "code",
   "execution_count": 97,
   "metadata": {},
   "outputs": [
    {
     "data": {
      "text/plain": [
       "<matplotlib.axes._subplots.AxesSubplot at 0x249c2a25940>"
      ]
     },
     "execution_count": 97,
     "metadata": {},
     "output_type": "execute_result"
    },
    {
     "data": {
      "image/png": "[encoded data removed]",
      "text/plain": [
       "<Figure size 432x288 with 1 Axes>"
      ]
     },
     "metadata": {
      "needs_background": "light"
     },
     "output_type": "display_data"
    }
   ],
   "source": [
    "losses = pd.DataFrame(model.history.history)\n",
    "losses[['loss','val_loss']].plot()"
   ]
  },
  {
   "cell_type": "code",
   "execution_count": 98,
   "metadata": {},
   "outputs": [
    {
     "data": {
      "text/plain": [
       "<matplotlib.axes._subplots.AxesSubplot at 0x249c26e27b8>"
      ]
     },
     "execution_count": 98,
     "metadata": {},
     "output_type": "execute_result"
    },
    {
     "data": {
      "image/png": "[encoded data removed]",
      "text/plain": [
       "<Figure size 432x288 with 1 Axes>"
      ]
     },
     "metadata": {
      "needs_background": "light"
     },
     "output_type": "display_data"
    }
   ],
   "source": [
    "losses[['accuracy','val_accuracy']].plot()"
   ]
  },
  {
   "cell_type": "code",
   "execution_count": 99,
   "metadata": {},
   "outputs": [
    {
     "name": "stdout",
     "output_type": "stream",
     "text": [
      "              precision    recall  f1-score   support\n",
      "\n",
      "           0       0.94      0.81      0.87     63623\n",
      "           1       0.51      0.78      0.61     15421\n",
      "\n",
      "    accuracy                           0.81     79044\n",
      "   macro avg       0.72      0.80      0.74     79044\n",
      "weighted avg       0.85      0.81      0.82     79044\n",
      "\n",
      "Final AUPRC on the testing data using ANN: 0.4376\n",
      "Final AUROC the testing data using ANN: 0.7983\n",
      "Final F-score on the testing data using ANN: 0.7662\n"
     ]
    }
   ],
   "source": [
    "predictions = model.predict_classes(x_test)\n",
    "print(classification_report(y_test,predictions))\n",
    "print (\"Final AUPRC on the testing data using ANN: {:.4f}\".format(average_precision_score(y_test,predictions)))\n",
    "print (\"Final AUROC the testing data using ANN: {:.4f}\".format(roc_auc_score(y_test, predictions)))\n",
    "print (\"Final F-score on the testing data using ANN: {:.4f}\".format(fbeta_score(y_test,predictions, beta = 5)))"
   ]
  },
  {
   "cell_type": "code",
   "execution_count": 100,
   "metadata": {},
   "outputs": [
    {
     "name": "stdout",
     "output_type": "stream",
     "text": [
      "Confusion Matrix:\n",
      "\n",
      "[[51798 11825]\n",
      " [ 3356 12065]]\n"
     ]
    },
    {
     "data": {
      "text/plain": [
       "<matplotlib.axes._subplots.AxesSubplot at 0x249c2782d68>"
      ]
     },
     "execution_count": 100,
     "metadata": {},
     "output_type": "execute_result"
    },
    {
     "data": {
      "image/png": "[encoded data removed]",
      "text/plain": [
       "<Figure size 288x288 with 2 Axes>"
      ]
     },
     "metadata": {
      "needs_background": "light"
     },
     "output_type": "display_data"
    }
   ],
   "source": [
    "print('Confusion Matrix:\\n')\n",
    "print(confusion_matrix(y_test,predictions))\n",
    "plt.figure(figsize=(4,4))\n",
    "sns.heatmap(confusion_matrix(y_test,predictions),cmap='viridis',annot=True)"
   ]
  },
  {
   "cell_type": "markdown",
   "metadata": {},
   "source": [
    "## XGB WITH GRID SEARCH"
   ]
  },
  {
   "cell_type": "code",
   "execution_count": 101,
   "metadata": {},
   "outputs": [
    {
     "data": {
      "text/plain": [
       "5.091220894657177"
      ]
     },
     "execution_count": 101,
     "metadata": {},
     "output_type": "execute_result"
    }
   ],
   "source": [
    "sample_weight_pos=len(y_train)/y_train.sum()\n",
    "sample_weight_pos"
   ]
  },
  {
   "cell_type": "code",
   "execution_count": 102,
   "metadata": {},
   "outputs": [
    {
     "name": "stdout",
     "output_type": "stream",
     "text": [
      "[09:42:51] WARNING: C:\\Users\\Administrator\\workspace\\xgboost-win64_release_1.1.0\\src\\learner.cc:480: \n",
      "Parameters: { sample_weight_pos } might not be used.\n",
      "\n",
      "  This may not be accurate due to some parameters are only used in language bindings but\n",
      "  passed down to XGBoost core.  Or some parameters are not used but slip through this\n",
      "  verification. Please open an issue if you find above cases.\n",
      "\n",
      "\n",
      "[0]\tvalidation_0-auc:0.76393\tvalidation_1-auc:0.76195\n",
      "Multiple eval metrics have been passed: 'validation_1-auc' will be used for early stopping.\n",
      "\n",
      "Will train until validation_1-auc hasn't improved in 5 rounds.\n",
      "[1]\tvalidation_0-auc:0.84353\tvalidation_1-auc:0.84206\n",
      "[2]\tvalidation_0-auc:0.85958\tvalidation_1-auc:0.85818\n",
      "[3]\tvalidation_0-auc:0.86267\tvalidation_1-auc:0.86072\n",
      "[4]\tvalidation_0-auc:0.86188\tvalidation_1-auc:0.85914\n",
      "[5]\tvalidation_0-auc:0.86151\tvalidation_1-auc:0.85900\n",
      "[6]\tvalidation_0-auc:0.85814\tvalidation_1-auc:0.85584\n",
      "[7]\tvalidation_0-auc:0.85715\tvalidation_1-auc:0.85464\n",
      "[8]\tvalidation_0-auc:0.86179\tvalidation_1-auc:0.85908\n",
      "Stopping. Best iteration:\n",
      "[3]\tvalidation_0-auc:0.86267\tvalidation_1-auc:0.86072\n",
      "\n"
     ]
    },
    {
     "data": {
      "text/plain": [
       "XGBClassifier(base_score=0.5, booster='gbtree', colsample_bylevel=0.5,\n",
       "              colsample_bynode=1, colsample_bytree=0.5, gamma=1, gpu_id=-1,\n",
       "              importance_type='gain', interaction_constraints='',\n",
       "              learning_rate=0.01, max_delta_step=0, max_depth=6,\n",
       "              min_child_weight=1, missing=nan, monotone_constraints='()',\n",
       "              n_estimators=10000, n_jobs=0, num_parallel_tree=1, random_state=0,\n",
       "              reg_alpha=0, reg_lambda=1, sample_weight_pos=5.091220894657177,\n",
       "              scale_pos_weight=1, subsample=1, tree_method='exact',\n",
       "              validate_parameters=1, verbosity=None)"
      ]
     },
     "execution_count": 102,
     "metadata": {},
     "output_type": "execute_result"
    }
   ],
   "source": [
    "import xgboost as xgb\n",
    "r1=xgb.XGBClassifier(n_estimators=10000,max_depth=6,learning_rate=0.01,sample_weight_pos=sample_weight_pos,\n",
    "                     colsample_bytree=0.5,colsample_bylevel=0.5,gamma=1)\n",
    "r1.fit(x_train,y_train,eval_set=[(x_train,y_train),(x_test,y_test)],eval_metric=\"auc\",early_stopping_rounds=5)"
   ]
  },
  {
   "cell_type": "code",
   "execution_count": 103,
   "metadata": {},
   "outputs": [
    {
     "name": "stdout",
     "output_type": "stream",
     "text": [
      "Fitting 3 folds for each of 27 candidates, totalling 81 fits\n",
      "[Parallel(n_jobs=1)]: Using backend SequentialBackend with 1 concurrent workers.\n",
      "[CV] learning_rate=0.05, max_depth=2, n_estimators=200 ...............\n",
      "[09:42:58] WARNING: C:\\Users\\Administrator\\workspace\\xgboost-win64_release_1.1.0\\src\\learner.cc:480: \n",
      "Parameters: { sample_weight_pos } might not be used.\n",
      "\n",
      "  This may not be accurate due to some parameters are only used in language bindings but\n",
      "  passed down to XGBoost core.  Or some parameters are not used but slip through this\n",
      "  verification. Please open an issue if you find above cases.\n",
      "\n",
      "\n",
      "[CV]  learning_rate=0.05, max_depth=2, n_estimators=200, score=0.880, total=  26.5s\n",
      "[Parallel(n_jobs=1)]: Done   1 out of   1 | elapsed:   26.4s remaining:    0.0s\n",
      "[CV] learning_rate=0.05, max_depth=2, n_estimators=200 ...............\n",
      "[09:43:24] WARNING: C:\\Users\\Administrator\\workspace\\xgboost-win64_release_1.1.0\\src\\learner.cc:480: \n",
      "Parameters: { sample_weight_pos } might not be used.\n",
      "\n",
      "  This may not be accurate due to some parameters are only used in language bindings but\n",
      "  passed down to XGBoost core.  Or some parameters are not used but slip through this\n",
      "  verification. Please open an issue if you find above cases.\n",
      "\n",
      "\n",
      "[CV]  learning_rate=0.05, max_depth=2, n_estimators=200, score=0.882, total=  26.4s\n",
      "[Parallel(n_jobs=1)]: Done   2 out of   2 | elapsed:   52.9s remaining:    0.0s\n",
      "[CV] learning_rate=0.05, max_depth=2, n_estimators=200 ...............\n",
      "[09:43:51] WARNING: C:\\Users\\Administrator\\workspace\\xgboost-win64_release_1.1.0\\src\\learner.cc:480: \n",
      "Parameters: { sample_weight_pos } might not be used.\n",
      "\n",
      "  This may not be accurate due to some parameters are only used in language bindings but\n",
      "  passed down to XGBoost core.  Or some parameters are not used but slip through this\n",
      "  verification. Please open an issue if you find above cases.\n",
      "\n",
      "\n",
      "[CV]  learning_rate=0.05, max_depth=2, n_estimators=200, score=0.880, total=  26.2s\n",
      "[Parallel(n_jobs=1)]: Done   3 out of   3 | elapsed:  1.3min remaining:    0.0s\n",
      "[CV] learning_rate=0.05, max_depth=2, n_estimators=300 ...............\n",
      "[09:44:17] WARNING: C:\\Users\\Administrator\\workspace\\xgboost-win64_release_1.1.0\\src\\learner.cc:480: \n",
      "Parameters: { sample_weight_pos } might not be used.\n",
      "\n",
      "  This may not be accurate due to some parameters are only used in language bindings but\n",
      "  passed down to XGBoost core.  Or some parameters are not used but slip through this\n",
      "  verification. Please open an issue if you find above cases.\n",
      "\n",
      "\n",
      "[CV]  learning_rate=0.05, max_depth=2, n_estimators=300, score=0.889, total=  37.5s\n",
      "[Parallel(n_jobs=1)]: Done   4 out of   4 | elapsed:  1.9min remaining:    0.0s\n",
      "[CV] learning_rate=0.05, max_depth=2, n_estimators=300 ...............\n",
      "[09:44:54] WARNING: C:\\Users\\Administrator\\workspace\\xgboost-win64_release_1.1.0\\src\\learner.cc:480: \n",
      "Parameters: { sample_weight_pos } might not be used.\n",
      "\n",
      "  This may not be accurate due to some parameters are only used in language bindings but\n",
      "  passed down to XGBoost core.  Or some parameters are not used but slip through this\n",
      "  verification. Please open an issue if you find above cases.\n",
      "\n",
      "\n",
      "[CV]  learning_rate=0.05, max_depth=2, n_estimators=300, score=0.891, total=  38.6s\n",
      "[Parallel(n_jobs=1)]: Done   5 out of   5 | elapsed:  2.6min remaining:    0.0s\n",
      "[CV] learning_rate=0.05, max_depth=2, n_estimators=300 ...............\n",
      "[09:45:33] WARNING: C:\\Users\\Administrator\\workspace\\xgboost-win64_release_1.1.0\\src\\learner.cc:480: \n",
      "Parameters: { sample_weight_pos } might not be used.\n",
      "\n",
      "  This may not be accurate due to some parameters are only used in language bindings but\n",
      "  passed down to XGBoost core.  Or some parameters are not used but slip through this\n",
      "  verification. Please open an issue if you find above cases.\n",
      "\n",
      "\n",
      "[CV]  learning_rate=0.05, max_depth=2, n_estimators=300, score=0.889, total=  37.1s\n",
      "[Parallel(n_jobs=1)]: Done   6 out of   6 | elapsed:  3.2min remaining:    0.0s\n",
      "[CV] learning_rate=0.05, max_depth=2, n_estimators=400 ...............\n",
      "[09:46:10] WARNING: C:\\Users\\Administrator\\workspace\\xgboost-win64_release_1.1.0\\src\\learner.cc:480: \n",
      "Parameters: { sample_weight_pos } might not be used.\n",
      "\n",
      "  This may not be accurate due to some parameters are only used in language bindings but\n",
      "  passed down to XGBoost core.  Or some parameters are not used but slip through this\n",
      "  verification. Please open an issue if you find above cases.\n",
      "\n",
      "\n",
      "[CV]  learning_rate=0.05, max_depth=2, n_estimators=400, score=0.896, total=  49.3s\n",
      "[Parallel(n_jobs=1)]: Done   7 out of   7 | elapsed:  4.0min remaining:    0.0s\n",
      "[CV] learning_rate=0.05, max_depth=2, n_estimators=400 ...............\n",
      "[09:46:59] WARNING: C:\\Users\\Administrator\\workspace\\xgboost-win64_release_1.1.0\\src\\learner.cc:480: \n",
      "Parameters: { sample_weight_pos } might not be used.\n",
      "\n",
      "  This may not be accurate due to some parameters are only used in language bindings but\n",
      "  passed down to XGBoost core.  Or some parameters are not used but slip through this\n",
      "  verification. Please open an issue if you find above cases.\n",
      "\n",
      "\n",
      "[CV]  learning_rate=0.05, max_depth=2, n_estimators=400, score=0.898, total=  49.3s\n",
      "[Parallel(n_jobs=1)]: Done   8 out of   8 | elapsed:  4.9min remaining:    0.0s\n",
      "[CV] learning_rate=0.05, max_depth=2, n_estimators=400 ...............\n",
      "[09:47:49] WARNING: C:\\Users\\Administrator\\workspace\\xgboost-win64_release_1.1.0\\src\\learner.cc:480: \n",
      "Parameters: { sample_weight_pos } might not be used.\n",
      "\n",
      "  This may not be accurate due to some parameters are only used in language bindings but\n",
      "  passed down to XGBoost core.  Or some parameters are not used but slip through this\n",
      "  verification. Please open an issue if you find above cases.\n",
      "\n",
      "\n",
      "[CV]  learning_rate=0.05, max_depth=2, n_estimators=400, score=0.896, total=  52.1s\n",
      "[Parallel(n_jobs=1)]: Done   9 out of   9 | elapsed:  5.7min remaining:    0.0s\n",
      "[CV] learning_rate=0.05, max_depth=4, n_estimators=200 ...............\n",
      "[09:48:41] WARNING: C:\\Users\\Administrator\\workspace\\xgboost-win64_release_1.1.0\\src\\learner.cc:480: \n",
      "Parameters: { sample_weight_pos } might not be used.\n",
      "\n",
      "  This may not be accurate due to some parameters are only used in language bindings but\n",
      "  passed down to XGBoost core.  Or some parameters are not used but slip through this\n",
      "  verification. Please open an issue if you find above cases.\n",
      "\n",
      "\n",
      "[CV]  learning_rate=0.05, max_depth=4, n_estimators=200, score=0.895, total=  43.6s\n",
      "[Parallel(n_jobs=1)]: Done  10 out of  10 | elapsed:  6.4min remaining:    0.0s\n",
      "[CV] learning_rate=0.05, max_depth=4, n_estimators=200 ...............\n",
      "[09:49:25] WARNING: C:\\Users\\Administrator\\workspace\\xgboost-win64_release_1.1.0\\src\\learner.cc:480: \n",
      "Parameters: { sample_weight_pos } might not be used.\n",
      "\n",
      "  This may not be accurate due to some parameters are only used in language bindings but\n",
      "  passed down to XGBoost core.  Or some parameters are not used but slip through this\n",
      "  verification. Please open an issue if you find above cases.\n",
      "\n",
      "\n",
      "[CV]  learning_rate=0.05, max_depth=4, n_estimators=200, score=0.896, total=  41.6s\n",
      "[Parallel(n_jobs=1)]: Done  11 out of  11 | elapsed:  7.1min remaining:    0.0s\n",
      "[CV] learning_rate=0.05, max_depth=4, n_estimators=200 ...............\n",
      "[09:50:06] WARNING: C:\\Users\\Administrator\\workspace\\xgboost-win64_release_1.1.0\\src\\learner.cc:480: \n",
      "Parameters: { sample_weight_pos } might not be used.\n",
      "\n",
      "  This may not be accurate due to some parameters are only used in language bindings but\n",
      "  passed down to XGBoost core.  Or some parameters are not used but slip through this\n",
      "  verification. Please open an issue if you find above cases.\n",
      "\n",
      "\n",
      "[CV]  learning_rate=0.05, max_depth=4, n_estimators=200, score=0.895, total=  41.7s\n",
      "[Parallel(n_jobs=1)]: Done  12 out of  12 | elapsed:  7.8min remaining:    0.0s\n",
      "[CV] learning_rate=0.05, max_depth=4, n_estimators=300 ...............\n",
      "[09:50:48] WARNING: C:\\Users\\Administrator\\workspace\\xgboost-win64_release_1.1.0\\src\\learner.cc:480: \n",
      "Parameters: { sample_weight_pos } might not be used.\n",
      "\n",
      "  This may not be accurate due to some parameters are only used in language bindings but\n",
      "  passed down to XGBoost core.  Or some parameters are not used but slip through this\n",
      "  verification. Please open an issue if you find above cases.\n",
      "\n",
      "\n",
      "[CV]  learning_rate=0.05, max_depth=4, n_estimators=300, score=0.902, total= 1.0min\n",
      "[Parallel(n_jobs=1)]: Done  13 out of  13 | elapsed:  8.9min remaining:    0.0s\n",
      "[CV] learning_rate=0.05, max_depth=4, n_estimators=300 ...............\n"
     ]
    },
    {
     "name": "stdout",
     "output_type": "stream",
     "text": [
      "[09:51:50] WARNING: C:\\Users\\Administrator\\workspace\\xgboost-win64_release_1.1.0\\src\\learner.cc:480: \n",
      "Parameters: { sample_weight_pos } might not be used.\n",
      "\n",
      "  This may not be accurate due to some parameters are only used in language bindings but\n",
      "  passed down to XGBoost core.  Or some parameters are not used but slip through this\n",
      "  verification. Please open an issue if you find above cases.\n",
      "\n",
      "\n",
      "[CV]  learning_rate=0.05, max_depth=4, n_estimators=300, score=0.903, total= 1.1min\n",
      "[Parallel(n_jobs=1)]: Done  14 out of  14 | elapsed: 10.0min remaining:    0.0s\n",
      "[CV] learning_rate=0.05, max_depth=4, n_estimators=300 ...............\n",
      "[09:52:57] WARNING: C:\\Users\\Administrator\\workspace\\xgboost-win64_release_1.1.0\\src\\learner.cc:480: \n",
      "Parameters: { sample_weight_pos } might not be used.\n",
      "\n",
      "  This may not be accurate due to some parameters are only used in language bindings but\n",
      "  passed down to XGBoost core.  Or some parameters are not used but slip through this\n",
      "  verification. Please open an issue if you find above cases.\n",
      "\n",
      "\n",
      "[CV]  learning_rate=0.05, max_depth=4, n_estimators=300, score=0.902, total= 1.9min\n",
      "[Parallel(n_jobs=1)]: Done  15 out of  15 | elapsed: 11.9min remaining:    0.0s\n",
      "[CV] learning_rate=0.05, max_depth=4, n_estimators=400 ...............\n",
      "[09:54:50] WARNING: C:\\Users\\Administrator\\workspace\\xgboost-win64_release_1.1.0\\src\\learner.cc:480: \n",
      "Parameters: { sample_weight_pos } might not be used.\n",
      "\n",
      "  This may not be accurate due to some parameters are only used in language bindings but\n",
      "  passed down to XGBoost core.  Or some parameters are not used but slip through this\n",
      "  verification. Please open an issue if you find above cases.\n",
      "\n",
      "\n",
      "[CV]  learning_rate=0.05, max_depth=4, n_estimators=400, score=0.904, total= 1.7min\n",
      "[Parallel(n_jobs=1)]: Done  16 out of  16 | elapsed: 13.5min remaining:    0.0s\n",
      "[CV] learning_rate=0.05, max_depth=4, n_estimators=400 ...............\n",
      "[09:56:30] WARNING: C:\\Users\\Administrator\\workspace\\xgboost-win64_release_1.1.0\\src\\learner.cc:480: \n",
      "Parameters: { sample_weight_pos } might not be used.\n",
      "\n",
      "  This may not be accurate due to some parameters are only used in language bindings but\n",
      "  passed down to XGBoost core.  Or some parameters are not used but slip through this\n",
      "  verification. Please open an issue if you find above cases.\n",
      "\n",
      "\n",
      "[CV]  learning_rate=0.05, max_depth=4, n_estimators=400, score=0.906, total= 1.6min\n",
      "[Parallel(n_jobs=1)]: Done  17 out of  17 | elapsed: 15.1min remaining:    0.0s\n",
      "[CV] learning_rate=0.05, max_depth=4, n_estimators=400 ...............\n",
      "[09:58:06] WARNING: C:\\Users\\Administrator\\workspace\\xgboost-win64_release_1.1.0\\src\\learner.cc:480: \n",
      "Parameters: { sample_weight_pos } might not be used.\n",
      "\n",
      "  This may not be accurate due to some parameters are only used in language bindings but\n",
      "  passed down to XGBoost core.  Or some parameters are not used but slip through this\n",
      "  verification. Please open an issue if you find above cases.\n",
      "\n",
      "\n",
      "[CV]  learning_rate=0.05, max_depth=4, n_estimators=400, score=0.905, total= 1.8min\n",
      "[Parallel(n_jobs=1)]: Done  18 out of  18 | elapsed: 17.0min remaining:    0.0s\n",
      "[CV] learning_rate=0.05, max_depth=6, n_estimators=200 ...............\n",
      "[09:59:56] WARNING: C:\\Users\\Administrator\\workspace\\xgboost-win64_release_1.1.0\\src\\learner.cc:480: \n",
      "Parameters: { sample_weight_pos } might not be used.\n",
      "\n",
      "  This may not be accurate due to some parameters are only used in language bindings but\n",
      "  passed down to XGBoost core.  Or some parameters are not used but slip through this\n",
      "  verification. Please open an issue if you find above cases.\n",
      "\n",
      "\n",
      "[CV]  learning_rate=0.05, max_depth=6, n_estimators=200, score=0.901, total= 1.5min\n",
      "[Parallel(n_jobs=1)]: Done  19 out of  19 | elapsed: 18.5min remaining:    0.0s\n",
      "[CV] learning_rate=0.05, max_depth=6, n_estimators=200 ...............\n",
      "[10:01:27] WARNING: C:\\Users\\Administrator\\workspace\\xgboost-win64_release_1.1.0\\src\\learner.cc:480: \n",
      "Parameters: { sample_weight_pos } might not be used.\n",
      "\n",
      "  This may not be accurate due to some parameters are only used in language bindings but\n",
      "  passed down to XGBoost core.  Or some parameters are not used but slip through this\n",
      "  verification. Please open an issue if you find above cases.\n",
      "\n",
      "\n",
      "[CV]  learning_rate=0.05, max_depth=6, n_estimators=200, score=0.902, total= 1.6min\n",
      "[Parallel(n_jobs=1)]: Done  20 out of  20 | elapsed: 20.1min remaining:    0.0s\n",
      "[CV] learning_rate=0.05, max_depth=6, n_estimators=200 ...............\n",
      "[10:03:05] WARNING: C:\\Users\\Administrator\\workspace\\xgboost-win64_release_1.1.0\\src\\learner.cc:480: \n",
      "Parameters: { sample_weight_pos } might not be used.\n",
      "\n",
      "  This may not be accurate due to some parameters are only used in language bindings but\n",
      "  passed down to XGBoost core.  Or some parameters are not used but slip through this\n",
      "  verification. Please open an issue if you find above cases.\n",
      "\n",
      "\n",
      "[CV]  learning_rate=0.05, max_depth=6, n_estimators=200, score=0.901, total= 1.2min\n",
      "[Parallel(n_jobs=1)]: Done  21 out of  21 | elapsed: 21.3min remaining:    0.0s\n",
      "[CV] learning_rate=0.05, max_depth=6, n_estimators=300 ...............\n",
      "[10:04:17] WARNING: C:\\Users\\Administrator\\workspace\\xgboost-win64_release_1.1.0\\src\\learner.cc:480: \n",
      "Parameters: { sample_weight_pos } might not be used.\n",
      "\n",
      "  This may not be accurate due to some parameters are only used in language bindings but\n",
      "  passed down to XGBoost core.  Or some parameters are not used but slip through this\n",
      "  verification. Please open an issue if you find above cases.\n",
      "\n",
      "\n",
      "[CV]  learning_rate=0.05, max_depth=6, n_estimators=300, score=0.905, total= 1.8min\n",
      "[Parallel(n_jobs=1)]: Done  22 out of  22 | elapsed: 23.1min remaining:    0.0s\n",
      "[CV] learning_rate=0.05, max_depth=6, n_estimators=300 ...............\n",
      "[10:06:02] WARNING: C:\\Users\\Administrator\\workspace\\xgboost-win64_release_1.1.0\\src\\learner.cc:480: \n",
      "Parameters: { sample_weight_pos } might not be used.\n",
      "\n",
      "  This may not be accurate due to some parameters are only used in language bindings but\n",
      "  passed down to XGBoost core.  Or some parameters are not used but slip through this\n",
      "  verification. Please open an issue if you find above cases.\n",
      "\n",
      "\n",
      "[CV]  learning_rate=0.05, max_depth=6, n_estimators=300, score=0.906, total= 1.6min\n",
      "[Parallel(n_jobs=1)]: Done  23 out of  23 | elapsed: 24.7min remaining:    0.0s\n",
      "[CV] learning_rate=0.05, max_depth=6, n_estimators=300 ...............\n",
      "[10:07:40] WARNING: C:\\Users\\Administrator\\workspace\\xgboost-win64_release_1.1.0\\src\\learner.cc:480: \n",
      "Parameters: { sample_weight_pos } might not be used.\n",
      "\n",
      "  This may not be accurate due to some parameters are only used in language bindings but\n",
      "  passed down to XGBoost core.  Or some parameters are not used but slip through this\n",
      "  verification. Please open an issue if you find above cases.\n",
      "\n",
      "\n",
      "[CV]  learning_rate=0.05, max_depth=6, n_estimators=300, score=0.905, total= 1.7min\n",
      "[Parallel(n_jobs=1)]: Done  24 out of  24 | elapsed: 26.4min remaining:    0.0s\n",
      "[CV] learning_rate=0.05, max_depth=6, n_estimators=400 ...............\n",
      "[10:09:20] WARNING: C:\\Users\\Administrator\\workspace\\xgboost-win64_release_1.1.0\\src\\learner.cc:480: \n",
      "Parameters: { sample_weight_pos } might not be used.\n",
      "\n",
      "  This may not be accurate due to some parameters are only used in language bindings but\n",
      "  passed down to XGBoost core.  Or some parameters are not used but slip through this\n",
      "  verification. Please open an issue if you find above cases.\n",
      "\n",
      "\n",
      "[CV]  learning_rate=0.05, max_depth=6, n_estimators=400, score=0.906, total= 2.2min\n",
      "[Parallel(n_jobs=1)]: Done  25 out of  25 | elapsed: 28.5min remaining:    0.0s\n",
      "[CV] learning_rate=0.05, max_depth=6, n_estimators=400 ...............\n",
      "[10:11:31] WARNING: C:\\Users\\Administrator\\workspace\\xgboost-win64_release_1.1.0\\src\\learner.cc:480: \n",
      "Parameters: { sample_weight_pos } might not be used.\n",
      "\n",
      "  This may not be accurate due to some parameters are only used in language bindings but\n",
      "  passed down to XGBoost core.  Or some parameters are not used but slip through this\n",
      "  verification. Please open an issue if you find above cases.\n",
      "\n",
      "\n",
      "[CV]  learning_rate=0.05, max_depth=6, n_estimators=400, score=0.907, total= 2.4min\n",
      "[Parallel(n_jobs=1)]: Done  26 out of  26 | elapsed: 31.0min remaining:    0.0s\n",
      "[CV] learning_rate=0.05, max_depth=6, n_estimators=400 ...............\n",
      "[10:13:55] WARNING: C:\\Users\\Administrator\\workspace\\xgboost-win64_release_1.1.0\\src\\learner.cc:480: \n",
      "Parameters: { sample_weight_pos } might not be used.\n",
      "\n",
      "  This may not be accurate due to some parameters are only used in language bindings but\n",
      "  passed down to XGBoost core.  Or some parameters are not used but slip through this\n",
      "  verification. Please open an issue if you find above cases.\n",
      "\n",
      "\n"
     ]
    },
    {
     "name": "stdout",
     "output_type": "stream",
     "text": [
      "[CV]  learning_rate=0.05, max_depth=6, n_estimators=400, score=0.906, total= 2.4min\n",
      "[Parallel(n_jobs=1)]: Done  27 out of  27 | elapsed: 33.4min remaining:    0.0s\n",
      "[CV] learning_rate=0.1, max_depth=2, n_estimators=200 ................\n",
      "[10:16:21] WARNING: C:\\Users\\Administrator\\workspace\\xgboost-win64_release_1.1.0\\src\\learner.cc:480: \n",
      "Parameters: { sample_weight_pos } might not be used.\n",
      "\n",
      "  This may not be accurate due to some parameters are only used in language bindings but\n",
      "  passed down to XGBoost core.  Or some parameters are not used but slip through this\n",
      "  verification. Please open an issue if you find above cases.\n",
      "\n",
      "\n",
      "[CV]  learning_rate=0.1, max_depth=2, n_estimators=200, score=0.895, total=  32.4s\n",
      "[Parallel(n_jobs=1)]: Done  28 out of  28 | elapsed: 33.9min remaining:    0.0s\n",
      "[CV] learning_rate=0.1, max_depth=2, n_estimators=200 ................\n",
      "[10:16:53] WARNING: C:\\Users\\Administrator\\workspace\\xgboost-win64_release_1.1.0\\src\\learner.cc:480: \n",
      "Parameters: { sample_weight_pos } might not be used.\n",
      "\n",
      "  This may not be accurate due to some parameters are only used in language bindings but\n",
      "  passed down to XGBoost core.  Or some parameters are not used but slip through this\n",
      "  verification. Please open an issue if you find above cases.\n",
      "\n",
      "\n",
      "[CV]  learning_rate=0.1, max_depth=2, n_estimators=200, score=0.897, total=  35.2s\n",
      "[Parallel(n_jobs=1)]: Done  29 out of  29 | elapsed: 34.5min remaining:    0.0s\n",
      "[CV] learning_rate=0.1, max_depth=2, n_estimators=200 ................\n",
      "[10:17:28] WARNING: C:\\Users\\Administrator\\workspace\\xgboost-win64_release_1.1.0\\src\\learner.cc:480: \n",
      "Parameters: { sample_weight_pos } might not be used.\n",
      "\n",
      "  This may not be accurate due to some parameters are only used in language bindings but\n",
      "  passed down to XGBoost core.  Or some parameters are not used but slip through this\n",
      "  verification. Please open an issue if you find above cases.\n",
      "\n",
      "\n",
      "[CV]  learning_rate=0.1, max_depth=2, n_estimators=200, score=0.895, total=  32.2s\n",
      "[Parallel(n_jobs=1)]: Done  30 out of  30 | elapsed: 35.0min remaining:    0.0s\n",
      "[CV] learning_rate=0.1, max_depth=2, n_estimators=300 ................\n",
      "[10:18:01] WARNING: C:\\Users\\Administrator\\workspace\\xgboost-win64_release_1.1.0\\src\\learner.cc:480: \n",
      "Parameters: { sample_weight_pos } might not be used.\n",
      "\n",
      "  This may not be accurate due to some parameters are only used in language bindings but\n",
      "  passed down to XGBoost core.  Or some parameters are not used but slip through this\n",
      "  verification. Please open an issue if you find above cases.\n",
      "\n",
      "\n",
      "[CV]  learning_rate=0.1, max_depth=2, n_estimators=300, score=0.901, total=  51.9s\n",
      "[Parallel(n_jobs=1)]: Done  31 out of  31 | elapsed: 35.9min remaining:    0.0s\n",
      "[CV] learning_rate=0.1, max_depth=2, n_estimators=300 ................\n",
      "[10:18:52] WARNING: C:\\Users\\Administrator\\workspace\\xgboost-win64_release_1.1.0\\src\\learner.cc:480: \n",
      "Parameters: { sample_weight_pos } might not be used.\n",
      "\n",
      "  This may not be accurate due to some parameters are only used in language bindings but\n",
      "  passed down to XGBoost core.  Or some parameters are not used but slip through this\n",
      "  verification. Please open an issue if you find above cases.\n",
      "\n",
      "\n",
      "[CV]  learning_rate=0.1, max_depth=2, n_estimators=300, score=0.903, total=  44.4s\n",
      "[Parallel(n_jobs=1)]: Done  32 out of  32 | elapsed: 36.7min remaining:    0.0s\n",
      "[CV] learning_rate=0.1, max_depth=2, n_estimators=300 ................\n",
      "[10:19:37] WARNING: C:\\Users\\Administrator\\workspace\\xgboost-win64_release_1.1.0\\src\\learner.cc:480: \n",
      "Parameters: { sample_weight_pos } might not be used.\n",
      "\n",
      "  This may not be accurate due to some parameters are only used in language bindings but\n",
      "  passed down to XGBoost core.  Or some parameters are not used but slip through this\n",
      "  verification. Please open an issue if you find above cases.\n",
      "\n",
      "\n",
      "[CV]  learning_rate=0.1, max_depth=2, n_estimators=300, score=0.901, total=  45.4s\n",
      "[Parallel(n_jobs=1)]: Done  33 out of  33 | elapsed: 37.4min remaining:    0.0s\n",
      "[CV] learning_rate=0.1, max_depth=2, n_estimators=400 ................\n",
      "[10:20:22] WARNING: C:\\Users\\Administrator\\workspace\\xgboost-win64_release_1.1.0\\src\\learner.cc:480: \n",
      "Parameters: { sample_weight_pos } might not be used.\n",
      "\n",
      "  This may not be accurate due to some parameters are only used in language bindings but\n",
      "  passed down to XGBoost core.  Or some parameters are not used but slip through this\n",
      "  verification. Please open an issue if you find above cases.\n",
      "\n",
      "\n",
      "[CV]  learning_rate=0.1, max_depth=2, n_estimators=400, score=0.903, total= 1.1min\n",
      "[Parallel(n_jobs=1)]: Done  34 out of  34 | elapsed: 38.5min remaining:    0.0s\n",
      "[CV] learning_rate=0.1, max_depth=2, n_estimators=400 ................\n",
      "[10:21:29] WARNING: C:\\Users\\Administrator\\workspace\\xgboost-win64_release_1.1.0\\src\\learner.cc:480: \n",
      "Parameters: { sample_weight_pos } might not be used.\n",
      "\n",
      "  This may not be accurate due to some parameters are only used in language bindings but\n",
      "  passed down to XGBoost core.  Or some parameters are not used but slip through this\n",
      "  verification. Please open an issue if you find above cases.\n",
      "\n",
      "\n",
      "[CV]  learning_rate=0.1, max_depth=2, n_estimators=400, score=0.905, total= 1.2min\n",
      "[Parallel(n_jobs=1)]: Done  35 out of  35 | elapsed: 39.7min remaining:    0.0s\n",
      "[CV] learning_rate=0.1, max_depth=2, n_estimators=400 ................\n",
      "[10:22:40] WARNING: C:\\Users\\Administrator\\workspace\\xgboost-win64_release_1.1.0\\src\\learner.cc:480: \n",
      "Parameters: { sample_weight_pos } might not be used.\n",
      "\n",
      "  This may not be accurate due to some parameters are only used in language bindings but\n",
      "  passed down to XGBoost core.  Or some parameters are not used but slip through this\n",
      "  verification. Please open an issue if you find above cases.\n",
      "\n",
      "\n",
      "[CV]  learning_rate=0.1, max_depth=2, n_estimators=400, score=0.904, total= 1.0min\n",
      "[Parallel(n_jobs=1)]: Done  36 out of  36 | elapsed: 40.7min remaining:    0.0s\n",
      "[CV] learning_rate=0.1, max_depth=4, n_estimators=200 ................\n",
      "[10:23:42] WARNING: C:\\Users\\Administrator\\workspace\\xgboost-win64_release_1.1.0\\src\\learner.cc:480: \n",
      "Parameters: { sample_weight_pos } might not be used.\n",
      "\n",
      "  This may not be accurate due to some parameters are only used in language bindings but\n",
      "  passed down to XGBoost core.  Or some parameters are not used but slip through this\n",
      "  verification. Please open an issue if you find above cases.\n",
      "\n",
      "\n",
      "[CV]  learning_rate=0.1, max_depth=4, n_estimators=200, score=0.904, total=  55.8s\n",
      "[Parallel(n_jobs=1)]: Done  37 out of  37 | elapsed: 41.7min remaining:    0.0s\n",
      "[CV] learning_rate=0.1, max_depth=4, n_estimators=200 ................\n",
      "[10:24:38] WARNING: C:\\Users\\Administrator\\workspace\\xgboost-win64_release_1.1.0\\src\\learner.cc:480: \n",
      "Parameters: { sample_weight_pos } might not be used.\n",
      "\n",
      "  This may not be accurate due to some parameters are only used in language bindings but\n",
      "  passed down to XGBoost core.  Or some parameters are not used but slip through this\n",
      "  verification. Please open an issue if you find above cases.\n",
      "\n",
      "\n",
      "[CV]  learning_rate=0.1, max_depth=4, n_estimators=200, score=0.905, total=  58.2s\n",
      "[Parallel(n_jobs=1)]: Done  38 out of  38 | elapsed: 42.6min remaining:    0.0s\n",
      "[CV] learning_rate=0.1, max_depth=4, n_estimators=200 ................\n",
      "[10:25:36] WARNING: C:\\Users\\Administrator\\workspace\\xgboost-win64_release_1.1.0\\src\\learner.cc:480: \n",
      "Parameters: { sample_weight_pos } might not be used.\n",
      "\n",
      "  This may not be accurate due to some parameters are only used in language bindings but\n",
      "  passed down to XGBoost core.  Or some parameters are not used but slip through this\n",
      "  verification. Please open an issue if you find above cases.\n",
      "\n",
      "\n",
      "[CV]  learning_rate=0.1, max_depth=4, n_estimators=200, score=0.904, total=  53.6s\n",
      "[Parallel(n_jobs=1)]: Done  39 out of  39 | elapsed: 43.5min remaining:    0.0s\n",
      "[CV] learning_rate=0.1, max_depth=4, n_estimators=300 ................\n",
      "[10:26:30] WARNING: C:\\Users\\Administrator\\workspace\\xgboost-win64_release_1.1.0\\src\\learner.cc:480: \n",
      "Parameters: { sample_weight_pos } might not be used.\n",
      "\n",
      "  This may not be accurate due to some parameters are only used in language bindings but\n",
      "  passed down to XGBoost core.  Or some parameters are not used but slip through this\n",
      "  verification. Please open an issue if you find above cases.\n",
      "\n",
      "\n",
      "[CV]  learning_rate=0.1, max_depth=4, n_estimators=300, score=0.906, total= 1.2min\n",
      "[Parallel(n_jobs=1)]: Done  40 out of  40 | elapsed: 44.8min remaining:    0.0s\n",
      "[CV] learning_rate=0.1, max_depth=4, n_estimators=300 ................\n"
     ]
    },
    {
     "name": "stdout",
     "output_type": "stream",
     "text": [
      "[10:27:44] WARNING: C:\\Users\\Administrator\\workspace\\xgboost-win64_release_1.1.0\\src\\learner.cc:480: \n",
      "Parameters: { sample_weight_pos } might not be used.\n",
      "\n",
      "  This may not be accurate due to some parameters are only used in language bindings but\n",
      "  passed down to XGBoost core.  Or some parameters are not used but slip through this\n",
      "  verification. Please open an issue if you find above cases.\n",
      "\n",
      "\n",
      "[CV]  learning_rate=0.1, max_depth=4, n_estimators=300, score=0.907, total= 1.4min\n",
      "[Parallel(n_jobs=1)]: Done  41 out of  41 | elapsed: 46.1min remaining:    0.0s\n",
      "[CV] learning_rate=0.1, max_depth=4, n_estimators=300 ................\n",
      "[10:29:05] WARNING: C:\\Users\\Administrator\\workspace\\xgboost-win64_release_1.1.0\\src\\learner.cc:480: \n",
      "Parameters: { sample_weight_pos } might not be used.\n",
      "\n",
      "  This may not be accurate due to some parameters are only used in language bindings but\n",
      "  passed down to XGBoost core.  Or some parameters are not used but slip through this\n",
      "  verification. Please open an issue if you find above cases.\n",
      "\n",
      "\n",
      "[CV]  learning_rate=0.1, max_depth=4, n_estimators=300, score=0.906, total= 1.3min\n",
      "[Parallel(n_jobs=1)]: Done  42 out of  42 | elapsed: 47.4min remaining:    0.0s\n",
      "[CV] learning_rate=0.1, max_depth=4, n_estimators=400 ................\n",
      "[10:30:23] WARNING: C:\\Users\\Administrator\\workspace\\xgboost-win64_release_1.1.0\\src\\learner.cc:480: \n",
      "Parameters: { sample_weight_pos } might not be used.\n",
      "\n",
      "  This may not be accurate due to some parameters are only used in language bindings but\n",
      "  passed down to XGBoost core.  Or some parameters are not used but slip through this\n",
      "  verification. Please open an issue if you find above cases.\n",
      "\n",
      "\n",
      "[CV]  learning_rate=0.1, max_depth=4, n_estimators=400, score=0.906, total= 1.8min\n",
      "[Parallel(n_jobs=1)]: Done  43 out of  43 | elapsed: 49.2min remaining:    0.0s\n",
      "[CV] learning_rate=0.1, max_depth=4, n_estimators=400 ................\n",
      "[10:32:11] WARNING: C:\\Users\\Administrator\\workspace\\xgboost-win64_release_1.1.0\\src\\learner.cc:480: \n",
      "Parameters: { sample_weight_pos } might not be used.\n",
      "\n",
      "  This may not be accurate due to some parameters are only used in language bindings but\n",
      "  passed down to XGBoost core.  Or some parameters are not used but slip through this\n",
      "  verification. Please open an issue if you find above cases.\n",
      "\n",
      "\n",
      "[CV]  learning_rate=0.1, max_depth=4, n_estimators=400, score=0.908, total= 1.8min\n",
      "[Parallel(n_jobs=1)]: Done  44 out of  44 | elapsed: 51.0min remaining:    0.0s\n",
      "[CV] learning_rate=0.1, max_depth=4, n_estimators=400 ................\n",
      "[10:34:01] WARNING: C:\\Users\\Administrator\\workspace\\xgboost-win64_release_1.1.0\\src\\learner.cc:480: \n",
      "Parameters: { sample_weight_pos } might not be used.\n",
      "\n",
      "  This may not be accurate due to some parameters are only used in language bindings but\n",
      "  passed down to XGBoost core.  Or some parameters are not used but slip through this\n",
      "  verification. Please open an issue if you find above cases.\n",
      "\n",
      "\n",
      "[CV]  learning_rate=0.1, max_depth=4, n_estimators=400, score=0.907, total= 1.7min\n",
      "[Parallel(n_jobs=1)]: Done  45 out of  45 | elapsed: 52.8min remaining:    0.0s\n",
      "[CV] learning_rate=0.1, max_depth=6, n_estimators=200 ................\n",
      "[10:35:44] WARNING: C:\\Users\\Administrator\\workspace\\xgboost-win64_release_1.1.0\\src\\learner.cc:480: \n",
      "Parameters: { sample_weight_pos } might not be used.\n",
      "\n",
      "  This may not be accurate due to some parameters are only used in language bindings but\n",
      "  passed down to XGBoost core.  Or some parameters are not used but slip through this\n",
      "  verification. Please open an issue if you find above cases.\n",
      "\n",
      "\n",
      "[CV]  learning_rate=0.1, max_depth=6, n_estimators=200, score=0.905, total= 1.2min\n",
      "[Parallel(n_jobs=1)]: Done  46 out of  46 | elapsed: 54.0min remaining:    0.0s\n",
      "[CV] learning_rate=0.1, max_depth=6, n_estimators=200 ................\n",
      "[10:36:57] WARNING: C:\\Users\\Administrator\\workspace\\xgboost-win64_release_1.1.0\\src\\learner.cc:480: \n",
      "Parameters: { sample_weight_pos } might not be used.\n",
      "\n",
      "  This may not be accurate due to some parameters are only used in language bindings but\n",
      "  passed down to XGBoost core.  Or some parameters are not used but slip through this\n",
      "  verification. Please open an issue if you find above cases.\n",
      "\n",
      "\n",
      "[CV]  learning_rate=0.1, max_depth=6, n_estimators=200, score=0.907, total= 1.3min\n",
      "[Parallel(n_jobs=1)]: Done  47 out of  47 | elapsed: 55.3min remaining:    0.0s\n",
      "[CV] learning_rate=0.1, max_depth=6, n_estimators=200 ................\n",
      "[10:38:13] WARNING: C:\\Users\\Administrator\\workspace\\xgboost-win64_release_1.1.0\\src\\learner.cc:480: \n",
      "Parameters: { sample_weight_pos } might not be used.\n",
      "\n",
      "  This may not be accurate due to some parameters are only used in language bindings but\n",
      "  passed down to XGBoost core.  Or some parameters are not used but slip through this\n",
      "  verification. Please open an issue if you find above cases.\n",
      "\n",
      "\n",
      "[CV]  learning_rate=0.1, max_depth=6, n_estimators=200, score=0.906, total= 1.1min\n",
      "[Parallel(n_jobs=1)]: Done  48 out of  48 | elapsed: 56.4min remaining:    0.0s\n",
      "[CV] learning_rate=0.1, max_depth=6, n_estimators=300 ................\n",
      "[10:39:22] WARNING: C:\\Users\\Administrator\\workspace\\xgboost-win64_release_1.1.0\\src\\learner.cc:480: \n",
      "Parameters: { sample_weight_pos } might not be used.\n",
      "\n",
      "  This may not be accurate due to some parameters are only used in language bindings but\n",
      "  passed down to XGBoost core.  Or some parameters are not used but slip through this\n",
      "  verification. Please open an issue if you find above cases.\n",
      "\n",
      "\n",
      "[CV]  learning_rate=0.1, max_depth=6, n_estimators=300, score=0.906, total= 1.7min\n",
      "[Parallel(n_jobs=1)]: Done  49 out of  49 | elapsed: 58.0min remaining:    0.0s\n",
      "[CV] learning_rate=0.1, max_depth=6, n_estimators=300 ................\n",
      "[10:41:01] WARNING: C:\\Users\\Administrator\\workspace\\xgboost-win64_release_1.1.0\\src\\learner.cc:480: \n",
      "Parameters: { sample_weight_pos } might not be used.\n",
      "\n",
      "  This may not be accurate due to some parameters are only used in language bindings but\n",
      "  passed down to XGBoost core.  Or some parameters are not used but slip through this\n",
      "  verification. Please open an issue if you find above cases.\n",
      "\n",
      "\n",
      "[CV]  learning_rate=0.1, max_depth=6, n_estimators=300, score=0.908, total= 1.6min\n",
      "[Parallel(n_jobs=1)]: Done  50 out of  50 | elapsed: 59.7min remaining:    0.0s\n",
      "[CV] learning_rate=0.1, max_depth=6, n_estimators=300 ................\n",
      "[10:42:39] WARNING: C:\\Users\\Administrator\\workspace\\xgboost-win64_release_1.1.0\\src\\learner.cc:480: \n",
      "Parameters: { sample_weight_pos } might not be used.\n",
      "\n",
      "  This may not be accurate due to some parameters are only used in language bindings but\n",
      "  passed down to XGBoost core.  Or some parameters are not used but slip through this\n",
      "  verification. Please open an issue if you find above cases.\n",
      "\n",
      "\n",
      "[CV]  learning_rate=0.1, max_depth=6, n_estimators=300, score=0.907, total= 1.6min\n",
      "[Parallel(n_jobs=1)]: Done  51 out of  51 | elapsed: 61.3min remaining:    0.0s\n",
      "[CV] learning_rate=0.1, max_depth=6, n_estimators=400 ................\n",
      "[10:44:17] WARNING: C:\\Users\\Administrator\\workspace\\xgboost-win64_release_1.1.0\\src\\learner.cc:480: \n",
      "Parameters: { sample_weight_pos } might not be used.\n",
      "\n",
      "  This may not be accurate due to some parameters are only used in language bindings but\n",
      "  passed down to XGBoost core.  Or some parameters are not used but slip through this\n",
      "  verification. Please open an issue if you find above cases.\n",
      "\n",
      "\n",
      "[CV]  learning_rate=0.1, max_depth=6, n_estimators=400, score=0.907, total= 2.1min\n",
      "[Parallel(n_jobs=1)]: Done  52 out of  52 | elapsed: 63.4min remaining:    0.0s\n",
      "[CV] learning_rate=0.1, max_depth=6, n_estimators=400 ................\n",
      "[10:46:25] WARNING: C:\\Users\\Administrator\\workspace\\xgboost-win64_release_1.1.0\\src\\learner.cc:480: \n",
      "Parameters: { sample_weight_pos } might not be used.\n",
      "\n",
      "  This may not be accurate due to some parameters are only used in language bindings but\n",
      "  passed down to XGBoost core.  Or some parameters are not used but slip through this\n",
      "  verification. Please open an issue if you find above cases.\n",
      "\n",
      "\n",
      "[CV]  learning_rate=0.1, max_depth=6, n_estimators=400, score=0.908, total= 2.1min\n",
      "[Parallel(n_jobs=1)]: Done  53 out of  53 | elapsed: 65.6min remaining:    0.0s\n",
      "[CV] learning_rate=0.1, max_depth=6, n_estimators=400 ................\n",
      "[10:48:32] WARNING: C:\\Users\\Administrator\\workspace\\xgboost-win64_release_1.1.0\\src\\learner.cc:480: \n",
      "Parameters: { sample_weight_pos } might not be used.\n",
      "\n",
      "  This may not be accurate due to some parameters are only used in language bindings but\n",
      "  passed down to XGBoost core.  Or some parameters are not used but slip through this\n",
      "  verification. Please open an issue if you find above cases.\n",
      "\n",
      "\n"
     ]
    },
    {
     "name": "stdout",
     "output_type": "stream",
     "text": [
      "[CV]  learning_rate=0.1, max_depth=6, n_estimators=400, score=0.907, total= 2.2min\n",
      "[Parallel(n_jobs=1)]: Done  54 out of  54 | elapsed: 67.8min remaining:    0.0s\n",
      "[CV] learning_rate=0.2, max_depth=2, n_estimators=200 ................\n",
      "[10:50:44] WARNING: C:\\Users\\Administrator\\workspace\\xgboost-win64_release_1.1.0\\src\\learner.cc:480: \n",
      "Parameters: { sample_weight_pos } might not be used.\n",
      "\n",
      "  This may not be accurate due to some parameters are only used in language bindings but\n",
      "  passed down to XGBoost core.  Or some parameters are not used but slip through this\n",
      "  verification. Please open an issue if you find above cases.\n",
      "\n",
      "\n",
      "[CV]  learning_rate=0.2, max_depth=2, n_estimators=200, score=0.903, total=  30.0s\n",
      "[Parallel(n_jobs=1)]: Done  55 out of  55 | elapsed: 68.3min remaining:    0.0s\n",
      "[CV] learning_rate=0.2, max_depth=2, n_estimators=200 ................\n",
      "[10:51:14] WARNING: C:\\Users\\Administrator\\workspace\\xgboost-win64_release_1.1.0\\src\\learner.cc:480: \n",
      "Parameters: { sample_weight_pos } might not be used.\n",
      "\n",
      "  This may not be accurate due to some parameters are only used in language bindings but\n",
      "  passed down to XGBoost core.  Or some parameters are not used but slip through this\n",
      "  verification. Please open an issue if you find above cases.\n",
      "\n",
      "\n",
      "[CV]  learning_rate=0.2, max_depth=2, n_estimators=200, score=0.904, total=  37.7s\n",
      "[Parallel(n_jobs=1)]: Done  56 out of  56 | elapsed: 68.9min remaining:    0.0s\n",
      "[CV] learning_rate=0.2, max_depth=2, n_estimators=200 ................\n",
      "[10:51:52] WARNING: C:\\Users\\Administrator\\workspace\\xgboost-win64_release_1.1.0\\src\\learner.cc:480: \n",
      "Parameters: { sample_weight_pos } might not be used.\n",
      "\n",
      "  This may not be accurate due to some parameters are only used in language bindings but\n",
      "  passed down to XGBoost core.  Or some parameters are not used but slip through this\n",
      "  verification. Please open an issue if you find above cases.\n",
      "\n",
      "\n",
      "[CV]  learning_rate=0.2, max_depth=2, n_estimators=200, score=0.903, total=  33.8s\n",
      "[Parallel(n_jobs=1)]: Done  57 out of  57 | elapsed: 69.5min remaining:    0.0s\n",
      "[CV] learning_rate=0.2, max_depth=2, n_estimators=300 ................\n",
      "[10:52:26] WARNING: C:\\Users\\Administrator\\workspace\\xgboost-win64_release_1.1.0\\src\\learner.cc:480: \n",
      "Parameters: { sample_weight_pos } might not be used.\n",
      "\n",
      "  This may not be accurate due to some parameters are only used in language bindings but\n",
      "  passed down to XGBoost core.  Or some parameters are not used but slip through this\n",
      "  verification. Please open an issue if you find above cases.\n",
      "\n",
      "\n",
      "[CV]  learning_rate=0.2, max_depth=2, n_estimators=300, score=0.905, total=  48.7s\n",
      "[Parallel(n_jobs=1)]: Done  58 out of  58 | elapsed: 70.3min remaining:    0.0s\n",
      "[CV] learning_rate=0.2, max_depth=2, n_estimators=300 ................\n",
      "[10:53:15] WARNING: C:\\Users\\Administrator\\workspace\\xgboost-win64_release_1.1.0\\src\\learner.cc:480: \n",
      "Parameters: { sample_weight_pos } might not be used.\n",
      "\n",
      "  This may not be accurate due to some parameters are only used in language bindings but\n",
      "  passed down to XGBoost core.  Or some parameters are not used but slip through this\n",
      "  verification. Please open an issue if you find above cases.\n",
      "\n",
      "\n",
      "[CV]  learning_rate=0.2, max_depth=2, n_estimators=300, score=0.906, total=  48.6s\n",
      "[Parallel(n_jobs=1)]: Done  59 out of  59 | elapsed: 71.1min remaining:    0.0s\n",
      "[CV] learning_rate=0.2, max_depth=2, n_estimators=300 ................\n",
      "[10:54:03] WARNING: C:\\Users\\Administrator\\workspace\\xgboost-win64_release_1.1.0\\src\\learner.cc:480: \n",
      "Parameters: { sample_weight_pos } might not be used.\n",
      "\n",
      "  This may not be accurate due to some parameters are only used in language bindings but\n",
      "  passed down to XGBoost core.  Or some parameters are not used but slip through this\n",
      "  verification. Please open an issue if you find above cases.\n",
      "\n",
      "\n",
      "[CV]  learning_rate=0.2, max_depth=2, n_estimators=300, score=0.905, total=  47.5s\n",
      "[Parallel(n_jobs=1)]: Done  60 out of  60 | elapsed: 71.9min remaining:    0.0s\n",
      "[CV] learning_rate=0.2, max_depth=2, n_estimators=400 ................\n",
      "[10:54:51] WARNING: C:\\Users\\Administrator\\workspace\\xgboost-win64_release_1.1.0\\src\\learner.cc:480: \n",
      "Parameters: { sample_weight_pos } might not be used.\n",
      "\n",
      "  This may not be accurate due to some parameters are only used in language bindings but\n",
      "  passed down to XGBoost core.  Or some parameters are not used but slip through this\n",
      "  verification. Please open an issue if you find above cases.\n",
      "\n",
      "\n",
      "[CV]  learning_rate=0.2, max_depth=2, n_estimators=400, score=0.906, total= 1.0min\n",
      "[Parallel(n_jobs=1)]: Done  61 out of  61 | elapsed: 72.9min remaining:    0.0s\n",
      "[CV] learning_rate=0.2, max_depth=2, n_estimators=400 ................\n",
      "[10:55:53] WARNING: C:\\Users\\Administrator\\workspace\\xgboost-win64_release_1.1.0\\src\\learner.cc:480: \n",
      "Parameters: { sample_weight_pos } might not be used.\n",
      "\n",
      "  This may not be accurate due to some parameters are only used in language bindings but\n",
      "  passed down to XGBoost core.  Or some parameters are not used but slip through this\n",
      "  verification. Please open an issue if you find above cases.\n",
      "\n",
      "\n",
      "[CV]  learning_rate=0.2, max_depth=2, n_estimators=400, score=0.907, total= 1.0min\n",
      "[Parallel(n_jobs=1)]: Done  62 out of  62 | elapsed: 73.9min remaining:    0.0s\n",
      "[CV] learning_rate=0.2, max_depth=2, n_estimators=400 ................\n",
      "[10:56:54] WARNING: C:\\Users\\Administrator\\workspace\\xgboost-win64_release_1.1.0\\src\\learner.cc:480: \n",
      "Parameters: { sample_weight_pos } might not be used.\n",
      "\n",
      "  This may not be accurate due to some parameters are only used in language bindings but\n",
      "  passed down to XGBoost core.  Or some parameters are not used but slip through this\n",
      "  verification. Please open an issue if you find above cases.\n",
      "\n",
      "\n",
      "[CV]  learning_rate=0.2, max_depth=2, n_estimators=400, score=0.906, total=  56.5s\n",
      "[Parallel(n_jobs=1)]: Done  63 out of  63 | elapsed: 74.9min remaining:    0.0s\n",
      "[CV] learning_rate=0.2, max_depth=4, n_estimators=200 ................\n",
      "[10:57:51] WARNING: C:\\Users\\Administrator\\workspace\\xgboost-win64_release_1.1.0\\src\\learner.cc:480: \n",
      "Parameters: { sample_weight_pos } might not be used.\n",
      "\n",
      "  This may not be accurate due to some parameters are only used in language bindings but\n",
      "  passed down to XGBoost core.  Or some parameters are not used but slip through this\n",
      "  verification. Please open an issue if you find above cases.\n",
      "\n",
      "\n",
      "[CV]  learning_rate=0.2, max_depth=4, n_estimators=200, score=0.906, total=  51.2s\n",
      "[Parallel(n_jobs=1)]: Done  64 out of  64 | elapsed: 75.7min remaining:    0.0s\n",
      "[CV] learning_rate=0.2, max_depth=4, n_estimators=200 ................\n",
      "[10:58:42] WARNING: C:\\Users\\Administrator\\workspace\\xgboost-win64_release_1.1.0\\src\\learner.cc:480: \n",
      "Parameters: { sample_weight_pos } might not be used.\n",
      "\n",
      "  This may not be accurate due to some parameters are only used in language bindings but\n",
      "  passed down to XGBoost core.  Or some parameters are not used but slip through this\n",
      "  verification. Please open an issue if you find above cases.\n",
      "\n",
      "\n",
      "[CV]  learning_rate=0.2, max_depth=4, n_estimators=200, score=0.908, total=  46.6s\n",
      "[Parallel(n_jobs=1)]: Done  65 out of  65 | elapsed: 76.5min remaining:    0.0s\n",
      "[CV] learning_rate=0.2, max_depth=4, n_estimators=200 ................\n",
      "[10:59:28] WARNING: C:\\Users\\Administrator\\workspace\\xgboost-win64_release_1.1.0\\src\\learner.cc:480: \n",
      "Parameters: { sample_weight_pos } might not be used.\n",
      "\n",
      "  This may not be accurate due to some parameters are only used in language bindings but\n",
      "  passed down to XGBoost core.  Or some parameters are not used but slip through this\n",
      "  verification. Please open an issue if you find above cases.\n",
      "\n",
      "\n",
      "[CV]  learning_rate=0.2, max_depth=4, n_estimators=200, score=0.906, total=  44.0s\n",
      "[Parallel(n_jobs=1)]: Done  66 out of  66 | elapsed: 77.2min remaining:    0.0s\n",
      "[CV] learning_rate=0.2, max_depth=4, n_estimators=300 ................\n",
      "[11:00:12] WARNING: C:\\Users\\Administrator\\workspace\\xgboost-win64_release_1.1.0\\src\\learner.cc:480: \n",
      "Parameters: { sample_weight_pos } might not be used.\n",
      "\n",
      "  This may not be accurate due to some parameters are only used in language bindings but\n",
      "  passed down to XGBoost core.  Or some parameters are not used but slip through this\n",
      "  verification. Please open an issue if you find above cases.\n",
      "\n",
      "\n",
      "[CV]  learning_rate=0.2, max_depth=4, n_estimators=300, score=0.907, total= 1.1min\n",
      "[Parallel(n_jobs=1)]: Done  67 out of  67 | elapsed: 78.3min remaining:    0.0s\n",
      "[CV] learning_rate=0.2, max_depth=4, n_estimators=300 ................\n"
     ]
    },
    {
     "name": "stdout",
     "output_type": "stream",
     "text": [
      "[11:01:16] WARNING: C:\\Users\\Administrator\\workspace\\xgboost-win64_release_1.1.0\\src\\learner.cc:480: \n",
      "Parameters: { sample_weight_pos } might not be used.\n",
      "\n",
      "  This may not be accurate due to some parameters are only used in language bindings but\n",
      "  passed down to XGBoost core.  Or some parameters are not used but slip through this\n",
      "  verification. Please open an issue if you find above cases.\n",
      "\n",
      "\n",
      "[CV]  learning_rate=0.2, max_depth=4, n_estimators=300, score=0.909, total= 1.2min\n",
      "[Parallel(n_jobs=1)]: Done  68 out of  68 | elapsed: 79.5min remaining:    0.0s\n",
      "[CV] learning_rate=0.2, max_depth=4, n_estimators=300 ................\n",
      "[11:02:30] WARNING: C:\\Users\\Administrator\\workspace\\xgboost-win64_release_1.1.0\\src\\learner.cc:480: \n",
      "Parameters: { sample_weight_pos } might not be used.\n",
      "\n",
      "  This may not be accurate due to some parameters are only used in language bindings but\n",
      "  passed down to XGBoost core.  Or some parameters are not used but slip through this\n",
      "  verification. Please open an issue if you find above cases.\n",
      "\n",
      "\n",
      "[CV]  learning_rate=0.2, max_depth=4, n_estimators=300, score=0.907, total= 1.3min\n",
      "[Parallel(n_jobs=1)]: Done  69 out of  69 | elapsed: 80.9min remaining:    0.0s\n",
      "[CV] learning_rate=0.2, max_depth=4, n_estimators=400 ................\n",
      "[11:03:49] WARNING: C:\\Users\\Administrator\\workspace\\xgboost-win64_release_1.1.0\\src\\learner.cc:480: \n",
      "Parameters: { sample_weight_pos } might not be used.\n",
      "\n",
      "  This may not be accurate due to some parameters are only used in language bindings but\n",
      "  passed down to XGBoost core.  Or some parameters are not used but slip through this\n",
      "  verification. Please open an issue if you find above cases.\n",
      "\n",
      "\n",
      "[CV]  learning_rate=0.2, max_depth=4, n_estimators=400, score=0.907, total= 1.8min\n",
      "[Parallel(n_jobs=1)]: Done  70 out of  70 | elapsed: 82.6min remaining:    0.0s\n",
      "[CV] learning_rate=0.2, max_depth=4, n_estimators=400 ................\n",
      "[11:05:36] WARNING: C:\\Users\\Administrator\\workspace\\xgboost-win64_release_1.1.0\\src\\learner.cc:480: \n",
      "Parameters: { sample_weight_pos } might not be used.\n",
      "\n",
      "  This may not be accurate due to some parameters are only used in language bindings but\n",
      "  passed down to XGBoost core.  Or some parameters are not used but slip through this\n",
      "  verification. Please open an issue if you find above cases.\n",
      "\n",
      "\n",
      "[CV]  learning_rate=0.2, max_depth=4, n_estimators=400, score=0.909, total= 1.6min\n",
      "[Parallel(n_jobs=1)]: Done  71 out of  71 | elapsed: 84.2min remaining:    0.0s\n",
      "[CV] learning_rate=0.2, max_depth=4, n_estimators=400 ................\n",
      "[11:07:11] WARNING: C:\\Users\\Administrator\\workspace\\xgboost-win64_release_1.1.0\\src\\learner.cc:480: \n",
      "Parameters: { sample_weight_pos } might not be used.\n",
      "\n",
      "  This may not be accurate due to some parameters are only used in language bindings but\n",
      "  passed down to XGBoost core.  Or some parameters are not used but slip through this\n",
      "  verification. Please open an issue if you find above cases.\n",
      "\n",
      "\n",
      "[CV]  learning_rate=0.2, max_depth=4, n_estimators=400, score=0.907, total= 1.6min\n",
      "[Parallel(n_jobs=1)]: Done  72 out of  72 | elapsed: 85.8min remaining:    0.0s\n",
      "[CV] learning_rate=0.2, max_depth=6, n_estimators=200 ................\n",
      "[11:08:45] WARNING: C:\\Users\\Administrator\\workspace\\xgboost-win64_release_1.1.0\\src\\learner.cc:480: \n",
      "Parameters: { sample_weight_pos } might not be used.\n",
      "\n",
      "  This may not be accurate due to some parameters are only used in language bindings but\n",
      "  passed down to XGBoost core.  Or some parameters are not used but slip through this\n",
      "  verification. Please open an issue if you find above cases.\n",
      "\n",
      "\n",
      "[CV]  learning_rate=0.2, max_depth=6, n_estimators=200, score=0.906, total= 1.2min\n",
      "[Parallel(n_jobs=1)]: Done  73 out of  73 | elapsed: 87.0min remaining:    0.0s\n",
      "[CV] learning_rate=0.2, max_depth=6, n_estimators=200 ................\n",
      "[11:09:56] WARNING: C:\\Users\\Administrator\\workspace\\xgboost-win64_release_1.1.0\\src\\learner.cc:480: \n",
      "Parameters: { sample_weight_pos } might not be used.\n",
      "\n",
      "  This may not be accurate due to some parameters are only used in language bindings but\n",
      "  passed down to XGBoost core.  Or some parameters are not used but slip through this\n",
      "  verification. Please open an issue if you find above cases.\n",
      "\n",
      "\n",
      "[CV]  learning_rate=0.2, max_depth=6, n_estimators=200, score=0.907, total= 1.2min\n",
      "[Parallel(n_jobs=1)]: Done  74 out of  74 | elapsed: 88.2min remaining:    0.0s\n",
      "[CV] learning_rate=0.2, max_depth=6, n_estimators=200 ................\n",
      "[11:11:07] WARNING: C:\\Users\\Administrator\\workspace\\xgboost-win64_release_1.1.0\\src\\learner.cc:480: \n",
      "Parameters: { sample_weight_pos } might not be used.\n",
      "\n",
      "  This may not be accurate due to some parameters are only used in language bindings but\n",
      "  passed down to XGBoost core.  Or some parameters are not used but slip through this\n",
      "  verification. Please open an issue if you find above cases.\n",
      "\n",
      "\n",
      "[CV]  learning_rate=0.2, max_depth=6, n_estimators=200, score=0.906, total= 1.1min\n",
      "[Parallel(n_jobs=1)]: Done  75 out of  75 | elapsed: 89.2min remaining:    0.0s\n",
      "[CV] learning_rate=0.2, max_depth=6, n_estimators=300 ................\n",
      "[11:12:11] WARNING: C:\\Users\\Administrator\\workspace\\xgboost-win64_release_1.1.0\\src\\learner.cc:480: \n",
      "Parameters: { sample_weight_pos } might not be used.\n",
      "\n",
      "  This may not be accurate due to some parameters are only used in language bindings but\n",
      "  passed down to XGBoost core.  Or some parameters are not used but slip through this\n",
      "  verification. Please open an issue if you find above cases.\n",
      "\n",
      "\n",
      "[CV]  learning_rate=0.2, max_depth=6, n_estimators=300, score=0.906, total= 1.9min\n",
      "[Parallel(n_jobs=1)]: Done  76 out of  76 | elapsed: 91.1min remaining:    0.0s\n",
      "[CV] learning_rate=0.2, max_depth=6, n_estimators=300 ................\n",
      "[11:14:06] WARNING: C:\\Users\\Administrator\\workspace\\xgboost-win64_release_1.1.0\\src\\learner.cc:480: \n",
      "Parameters: { sample_weight_pos } might not be used.\n",
      "\n",
      "  This may not be accurate due to some parameters are only used in language bindings but\n",
      "  passed down to XGBoost core.  Or some parameters are not used but slip through this\n",
      "  verification. Please open an issue if you find above cases.\n",
      "\n",
      "\n",
      "[CV]  learning_rate=0.2, max_depth=6, n_estimators=300, score=0.907, total= 1.6min\n",
      "[Parallel(n_jobs=1)]: Done  77 out of  77 | elapsed: 92.7min remaining:    0.0s\n",
      "[CV] learning_rate=0.2, max_depth=6, n_estimators=300 ................\n",
      "[11:15:39] WARNING: C:\\Users\\Administrator\\workspace\\xgboost-win64_release_1.1.0\\src\\learner.cc:480: \n",
      "Parameters: { sample_weight_pos } might not be used.\n",
      "\n",
      "  This may not be accurate due to some parameters are only used in language bindings but\n",
      "  passed down to XGBoost core.  Or some parameters are not used but slip through this\n",
      "  verification. Please open an issue if you find above cases.\n",
      "\n",
      "\n",
      "[CV]  learning_rate=0.2, max_depth=6, n_estimators=300, score=0.906, total= 1.6min\n",
      "[Parallel(n_jobs=1)]: Done  78 out of  78 | elapsed: 94.3min remaining:    0.0s\n",
      "[CV] learning_rate=0.2, max_depth=6, n_estimators=400 ................\n",
      "[11:17:14] WARNING: C:\\Users\\Administrator\\workspace\\xgboost-win64_release_1.1.0\\src\\learner.cc:480: \n",
      "Parameters: { sample_weight_pos } might not be used.\n",
      "\n",
      "  This may not be accurate due to some parameters are only used in language bindings but\n",
      "  passed down to XGBoost core.  Or some parameters are not used but slip through this\n",
      "  verification. Please open an issue if you find above cases.\n",
      "\n",
      "\n",
      "[CV]  learning_rate=0.2, max_depth=6, n_estimators=400, score=0.905, total= 3.2min\n",
      "[Parallel(n_jobs=1)]: Done  79 out of  79 | elapsed: 97.5min remaining:    0.0s\n",
      "[CV] learning_rate=0.2, max_depth=6, n_estimators=400 ................\n",
      "[11:20:27] WARNING: C:\\Users\\Administrator\\workspace\\xgboost-win64_release_1.1.0\\src\\learner.cc:480: \n",
      "Parameters: { sample_weight_pos } might not be used.\n",
      "\n",
      "  This may not be accurate due to some parameters are only used in language bindings but\n",
      "  passed down to XGBoost core.  Or some parameters are not used but slip through this\n",
      "  verification. Please open an issue if you find above cases.\n",
      "\n",
      "\n",
      "[CV]  learning_rate=0.2, max_depth=6, n_estimators=400, score=0.906, total= 2.3min\n",
      "[Parallel(n_jobs=1)]: Done  80 out of  80 | elapsed: 99.8min remaining:    0.0s\n",
      "[CV] learning_rate=0.2, max_depth=6, n_estimators=400 ................\n",
      "[11:22:48] WARNING: C:\\Users\\Administrator\\workspace\\xgboost-win64_release_1.1.0\\src\\learner.cc:480: \n",
      "Parameters: { sample_weight_pos } might not be used.\n",
      "\n",
      "  This may not be accurate due to some parameters are only used in language bindings but\n",
      "  passed down to XGBoost core.  Or some parameters are not used but slip through this\n",
      "  verification. Please open an issue if you find above cases.\n",
      "\n",
      "\n"
     ]
    },
    {
     "name": "stdout",
     "output_type": "stream",
     "text": [
      "[CV]  learning_rate=0.2, max_depth=6, n_estimators=400, score=0.905, total= 2.3min\n",
      "[Parallel(n_jobs=1)]: Done  81 out of  81 | elapsed: 102.2min remaining:    0.0s\n",
      "[Parallel(n_jobs=1)]: Done  81 out of  81 | elapsed: 102.2min finished\n",
      "[11:25:08] WARNING: C:\\Users\\Administrator\\workspace\\xgboost-win64_release_1.1.0\\src\\learner.cc:480: \n",
      "Parameters: { sample_weight_pos } might not be used.\n",
      "\n",
      "  This may not be accurate due to some parameters are only used in language bindings but\n",
      "  passed down to XGBoost core.  Or some parameters are not used but slip through this\n",
      "  verification. Please open an issue if you find above cases.\n",
      "\n",
      "\n"
     ]
    },
    {
     "data": {
      "text/plain": [
       "{'learning_rate': 0.2, 'max_depth': 4, 'n_estimators': 400}"
      ]
     },
     "execution_count": 103,
     "metadata": {},
     "output_type": "execute_result"
    }
   ],
   "source": [
    "r1=xgb.XGBClassifier(sample_weight_pos=sample_weight_pos,colsample_bytree=0.5,colsample_bylevel=0.5)\n",
    "params={\"n_estimators\":[200,300,400],\"learning_rate\":[0.05,0.1,0.2],\"max_depth\":[2,4,6]}\n",
    "gs1=GridSearchCV(r1,param_grid=params,cv=3,scoring=\"roc_auc\",verbose=10000)\n",
    "gs1.fit(x_train,y_train)\n",
    "gs1.best_params_"
   ]
  },
  {
   "cell_type": "code",
   "execution_count": 104,
   "metadata": {},
   "outputs": [
    {
     "name": "stdout",
     "output_type": "stream",
     "text": [
      "[11:27:28] WARNING: C:\\Users\\Administrator\\workspace\\xgboost-win64_release_1.1.0\\src\\learner.cc:480: \n",
      "Parameters: { sample_weight_pos } might not be used.\n",
      "\n",
      "  This may not be accurate due to some parameters are only used in language bindings but\n",
      "  passed down to XGBoost core.  Or some parameters are not used but slip through this\n",
      "  verification. Please open an issue if you find above cases.\n",
      "\n",
      "\n"
     ]
    }
   ],
   "source": [
    "\n",
    "r1=xgb.XGBClassifier(n_estimators=400,max_depth=4,learning_rate=0.2,sample_weight_pos=sample_weight_pos,\n",
    "                     colsample_bytree=0.5,colsample_bylevel=0.5).fit(x_train,y_train)"
   ]
  },
  {
   "cell_type": "code",
   "execution_count": 105,
   "metadata": {},
   "outputs": [
    {
     "data": {
      "text/plain": [
       "array([[252312,   1761],\n",
       "       [ 32086,  30016]], dtype=int64)"
      ]
     },
     "execution_count": 105,
     "metadata": {},
     "output_type": "execute_result"
    }
   ],
   "source": [
    "confusion_matrix(y_train,r1.predict(x_train))#train data"
   ]
  },
  {
   "cell_type": "code",
   "execution_count": 106,
   "metadata": {},
   "outputs": [
    {
     "data": {
      "text/plain": [
       "array([[63050,   573],\n",
       "       [ 8111,  7310]], dtype=int64)"
      ]
     },
     "execution_count": 106,
     "metadata": {},
     "output_type": "execute_result"
    }
   ],
   "source": [
    "confusion_matrix(y_test,r1.predict(x_test))#test data"
   ]
  },
  {
   "cell_type": "code",
   "execution_count": 107,
   "metadata": {},
   "outputs": [],
   "source": [
    "def roc_evaluation(r,x_train,x_test,y_train,y_test):\n",
    "    plt.figure()\n",
    "    fpr,tpr,_=roc_curve(y_train,r.predict_proba(x_train)[:,1])\n",
    "    plt.plot(fpr,tpr,label=\"train_roc_curve\")\n",
    "    fpr,tpr,_=roc_curve(y_test,r.predict_proba(x_test)[:,1])\n",
    "    plt.plot(fpr,tpr,label=\"test_roc_curve\")\n",
    "    plt.legend()\n",
    "    plt.xlabel(\"FPR\")\n",
    "    plt.ylabel(\"TPR\")\n",
    "    plt.title(\"ROC_CURVE\")\n",
    "    print(\"roc_auc score of train set is {}\".format(roc_auc_score(y_train,r.predict_proba(x_train)[:,1])))\n",
    "    print(\"roc_auc score of test set is {}\".format(roc_auc_score(y_test,r.predict_proba(x_test)[:,1])))\n"
   ]
  },
  {
   "cell_type": "code",
   "execution_count": 108,
   "metadata": {},
   "outputs": [
    {
     "name": "stdout",
     "output_type": "stream",
     "text": [
      "roc_auc score of train set is 0.9190734581504749\n",
      "roc_auc score of test set is 0.907215858507957\n"
     ]
    },
    {
     "data": {
      "image/png": "[encoded data removed]",
      "text/plain": [
       "<Figure size 432x288 with 1 Axes>"
      ]
     },
     "metadata": {
      "needs_background": "light"
     },
     "output_type": "display_data"
    }
   ],
   "source": [
    "roc_evaluation(r1,x_train,x_test,y_train,y_test)"
   ]
  },
  {
   "cell_type": "markdown",
   "metadata": {},
   "source": [
    "## Decision Tree , Random Forest and Gradient Boost with Grid search"
   ]
  },
  {
   "cell_type": "code",
   "execution_count": 109,
   "metadata": {},
   "outputs": [],
   "source": [
    "def train_classifier(classifier, sample_size, x_train, y_train, x_test, y_test): \n",
    "    '''\n",
    "    inputs:\n",
    "       - classifier: classifier to be trained and predicted on\n",
    "       - sample_size: sample size of training set\n",
    "       - x_train=feature trainings set\n",
    "       - y_train: label training set\n",
    "       - X_test: features testing set\n",
    "       - y_test: labael testing set\n",
    "    '''\n",
    "    \n",
    "    results = {}\n",
    "    \n",
    "    # Fit the clasifier to the training data using slicing with 'sample_size'\n",
    "   \n",
    "    classifier.fit(x_train[:sample_size],y_train[:sample_size])\n",
    "    \n",
    "    \n",
    "    #  predictions on the test set and training set,\n",
    "  \n",
    "    predictions_test = classifier.predict(x_test)\n",
    "    predictions_train =classifier.predict(x_train)\n",
    "            \n",
    "    #accuracy on training samples\n",
    "    results['auprc_train'] = average_precision_score(y_train, predictions_train)\n",
    "        \n",
    "    # accuracy on test set\n",
    "    results['auprc_test'] = average_precision_score(y_test, predictions_test)\n",
    "    \n",
    "    #  F-score training set\n",
    "    results['f_train'] = fbeta_score( y_train, predictions_train, beta=5)\n",
    "        \n",
    "    # F-score on test set\n",
    "    results['f_test'] = fbeta_score(y_test, predictions_test, beta=5)\n",
    "    \n",
    "    #  accuracy on training samples\n",
    "    results['auroc_train'] = roc_auc_score(y_train, predictions_train)\n",
    "        \n",
    "    # accuracy on test set\n",
    "    results['auroc_test'] = roc_auc_score(y_test, predictions_test)\n",
    "       \n",
    "    #PRINT THE RESULT\n",
    "    print (\"{} trained on {} samples.\".format(classifier.__class__.__name__, sample_size))\n",
    "    print(results)"
   ]
  },
  {
   "cell_type": "code",
   "execution_count": 110,
   "metadata": {},
   "outputs": [
    {
     "name": "stdout",
     "output_type": "stream",
     "text": [
      "DecisionTreeClassifier trained on 316175 samples.\n",
      "{'auprc_train': 1.0, 'auprc_test': 0.41770792101622894, 'f_train': 1.0, 'f_test': 0.5971976107516177, 'auroc_train': 1.0, 'auroc_test': 0.7438617527617379}\n",
      "-------------------------------------------------------------------------------------------------------------------\n",
      "GradientBoostingClassifier trained on 316175 samples.\n",
      "{'auprc_train': 0.5426663060039074, 'auprc_test': 0.5420588285714277, 'f_train': 0.4457148499460092, 'f_test': 0.4467813959178679, 'auroc_train': 0.7175410742402675, 'auroc_test': 0.7179928886162001}\n",
      "-------------------------------------------------------------------------------------------------------------------\n",
      "RandomForestClassifier trained on 316175 samples.\n",
      "{'auprc_train': 0.9999741205288549, 'auprc_test': 0.5412739932092744, 'f_train': 0.9999690335366798, 'f_test': 0.4617644587806686, 'auroc_train': 0.999983897459019, 'auroc_test': 0.723921739861331}\n",
      "-------------------------------------------------------------------------------------------------------------------\n"
     ]
    }
   ],
   "source": [
    "clf_A = DecisionTreeClassifier(random_state=40)\n",
    "clf_B = GradientBoostingClassifier()\n",
    "clf_C=  RandomForestClassifier()  \n",
    "\n",
    "# Collect results on the classifier\n",
    "for clf in [clf_A, clf_B,clf_C]:\n",
    "    samples = len(x_train)\n",
    "        \n",
    "    clf_name = clf.__class__.__name__\n",
    "    \n",
    "    for i, samples in enumerate([samples]):\n",
    "        train_classifier(clf, samples, x_train, y_train, x_test, y_test)\n",
    "        print(\"-------------------------------------------------------------------------------------------------------------------\")"
   ]
  },
  {
   "cell_type": "code",
   "execution_count": 111,
   "metadata": {},
   "outputs": [
    {
     "name": "stdout",
     "output_type": "stream",
     "text": [
      "Unoptimized model\n",
      "------\n",
      "AUPRC on testing data: 0.4169\n",
      "AUROC on testing data: 0.7440\n",
      "F-score on testing data: 0.5988\n",
      "\n",
      "Optimized Model\n",
      "------\n",
      "Final AUPRC on the testing data: 0.5243\n",
      "Final AUROC the testing data: 0.7275\n",
      "Final F-score on the testing data: 0.4766\n",
      "Area Under ROC Curve:  0.8895632431518781\n"
     ]
    },
    {
     "data": {
      "image/png": "[encoded data removed]",
      "text/plain": [
       "<Figure size 432x288 with 1 Axes>"
      ]
     },
     "metadata": {
      "needs_background": "light"
     },
     "output_type": "display_data"
    }
   ],
   "source": [
    "#Initialize the classifier\n",
    "clf = DecisionTreeClassifier(random_state=42)\n",
    "\n",
    "#parameters for tuning\n",
    "\n",
    "parameters = {\n",
    "              'max_features': [None, 'sqrt', 'log2'],\n",
    "              'max_depth':[8,15,None],\n",
    "              'min_samples_split':[5,10,20],\n",
    "              }\n",
    "\n",
    "# grid search using roc_auc score\n",
    "gs2 = GridSearchCV(clf, parameters, scoring=\"roc_auc\")\n",
    "\n",
    "# find the best parameter\n",
    "grid_fit = gs2.fit(x_train, y_train)\n",
    "\n",
    "# obtain the estimator\n",
    "best_clf = grid_fit.best_estimator_\n",
    "\n",
    "#predictions using the unoptimized model and optimized model\n",
    "predictions = (clf.fit(x_train, y_train)).predict(x_test)\n",
    "best_predictions = best_clf.predict(x_test)\n",
    "\n",
    "# score before optimization \n",
    "print (\"Unoptimized model\\n------\")\n",
    "print (\"AUPRC on testing data: {:.4f}\".format(average_precision_score(y_test, predictions)))\n",
    "print (\"AUROC on testing data: {:.4f}\".format(roc_auc_score(y_test, predictions)))\n",
    "print (\"F-score on testing data: {:.4f}\".format(fbeta_score(y_test, predictions, beta = 5)))\n",
    "\n",
    "#score after optimization\n",
    "print (\"\\nOptimized Model\\n------\")\n",
    "print (\"Final AUPRC on the testing data: {:.4f}\".format(average_precision_score(y_test, best_predictions)))\n",
    "print (\"Final AUROC the testing data: {:.4f}\".format(roc_auc_score(y_test, best_predictions)))\n",
    "print (\"Final F-score on the testing data: {:.4f}\".format(fbeta_score(y_test, best_predictions, beta = 5)))\n",
    "\n",
    "probas_ = best_clf.predict_proba(x_test)\n",
    "fpr, tpr, thresholds = roc_curve(y_test, probas_[:, 1])\n",
    "area = auc(fpr, tpr)\n",
    "print(\"Area Under ROC Curve: \",area)\n",
    "\n",
    "#plot roc curve\n",
    "plt.plot(fpr, tpr, label='ROC curve for Optimized Model')\n",
    "plt.xlabel('FPR')\n",
    "plt.ylabel('TPR')\n",
    "plt.ylim([0.0, 1.05])\n",
    "plt.xlim([0.0, 1.0])\n",
    "plt.legend(loc=\"lower left\")\n",
    "plt.show()"
   ]
  },
  {
   "cell_type": "code",
   "execution_count": 112,
   "metadata": {},
   "outputs": [
    {
     "name": "stdout",
     "output_type": "stream",
     "text": [
      "Fitting 3 folds for each of 54 candidates, totalling 162 fits\n",
      "[Parallel(n_jobs=1)]: Using backend SequentialBackend with 1 concurrent workers.\n",
      "[CV] learning_rate=0.1, max_depth=3, max_features=0.5, n_estimators=100 \n",
      "[CV]  learning_rate=0.1, max_depth=3, max_features=0.5, n_estimators=100, score=0.899, total= 2.4min\n",
      "[Parallel(n_jobs=1)]: Done   1 out of   1 | elapsed:  2.3min remaining:    0.0s\n",
      "[CV] learning_rate=0.1, max_depth=3, max_features=0.5, n_estimators=100 \n",
      "[CV]  learning_rate=0.1, max_depth=3, max_features=0.5, n_estimators=100, score=0.901, total= 2.4min\n",
      "[Parallel(n_jobs=1)]: Done   2 out of   2 | elapsed:  4.8min remaining:    0.0s\n",
      "[CV] learning_rate=0.1, max_depth=3, max_features=0.5, n_estimators=100 \n",
      "[CV]  learning_rate=0.1, max_depth=3, max_features=0.5, n_estimators=100, score=0.900, total= 2.4min\n",
      "[Parallel(n_jobs=1)]: Done   3 out of   3 | elapsed:  7.2min remaining:    0.0s\n",
      "[CV] learning_rate=0.1, max_depth=3, max_features=0.5, n_estimators=200 \n",
      "[CV]  learning_rate=0.1, max_depth=3, max_features=0.5, n_estimators=200, score=0.904, total= 4.8min\n",
      "[Parallel(n_jobs=1)]: Done   4 out of   4 | elapsed: 11.9min remaining:    0.0s\n",
      "[CV] learning_rate=0.1, max_depth=3, max_features=0.5, n_estimators=200 \n",
      "[CV]  learning_rate=0.1, max_depth=3, max_features=0.5, n_estimators=200, score=0.906, total= 4.6min\n",
      "[Parallel(n_jobs=1)]: Done   5 out of   5 | elapsed: 16.5min remaining:    0.0s\n",
      "[CV] learning_rate=0.1, max_depth=3, max_features=0.5, n_estimators=200 \n",
      "[CV]  learning_rate=0.1, max_depth=3, max_features=0.5, n_estimators=200, score=0.905, total= 4.6min\n",
      "[Parallel(n_jobs=1)]: Done   6 out of   6 | elapsed: 21.1min remaining:    0.0s\n",
      "[CV] learning_rate=0.1, max_depth=3, max_features=0.5, n_estimators=400 \n",
      "[CV]  learning_rate=0.1, max_depth=3, max_features=0.5, n_estimators=400, score=0.906, total=11.4min\n",
      "[Parallel(n_jobs=1)]: Done   7 out of   7 | elapsed: 32.5min remaining:    0.0s\n",
      "[CV] learning_rate=0.1, max_depth=3, max_features=0.5, n_estimators=400 \n",
      "[CV]  learning_rate=0.1, max_depth=3, max_features=0.5, n_estimators=400, score=0.907, total=15.4min\n",
      "[Parallel(n_jobs=1)]: Done   8 out of   8 | elapsed: 47.9min remaining:    0.0s\n",
      "[CV] learning_rate=0.1, max_depth=3, max_features=0.5, n_estimators=400 \n",
      "[CV]  learning_rate=0.1, max_depth=3, max_features=0.5, n_estimators=400, score=0.907, total=16.5min\n",
      "[Parallel(n_jobs=1)]: Done   9 out of   9 | elapsed: 64.4min remaining:    0.0s\n",
      "[CV] learning_rate=0.1, max_depth=3, max_features=0.75, n_estimators=100 \n",
      "[CV]  learning_rate=0.1, max_depth=3, max_features=0.75, n_estimators=100, score=0.900, total= 5.4min\n",
      "[Parallel(n_jobs=1)]: Done  10 out of  10 | elapsed: 69.8min remaining:    0.0s\n",
      "[CV] learning_rate=0.1, max_depth=3, max_features=0.75, n_estimators=100 \n",
      "[CV]  learning_rate=0.1, max_depth=3, max_features=0.75, n_estimators=100, score=0.901, total= 5.7min\n",
      "[Parallel(n_jobs=1)]: Done  11 out of  11 | elapsed: 75.6min remaining:    0.0s\n",
      "[CV] learning_rate=0.1, max_depth=3, max_features=0.75, n_estimators=100 \n",
      "[CV]  learning_rate=0.1, max_depth=3, max_features=0.75, n_estimators=100, score=0.900, total= 5.5min\n",
      "[Parallel(n_jobs=1)]: Done  12 out of  12 | elapsed: 81.0min remaining:    0.0s\n",
      "[CV] learning_rate=0.1, max_depth=3, max_features=0.75, n_estimators=200 \n",
      "[CV]  learning_rate=0.1, max_depth=3, max_features=0.75, n_estimators=200, score=0.904, total=11.0min\n",
      "[Parallel(n_jobs=1)]: Done  13 out of  13 | elapsed: 92.0min remaining:    0.0s\n",
      "[CV] learning_rate=0.1, max_depth=3, max_features=0.75, n_estimators=200 \n",
      "[CV]  learning_rate=0.1, max_depth=3, max_features=0.75, n_estimators=200, score=0.906, total=10.8min\n",
      "[Parallel(n_jobs=1)]: Done  14 out of  14 | elapsed: 102.8min remaining:    0.0s\n",
      "[CV] learning_rate=0.1, max_depth=3, max_features=0.75, n_estimators=200 \n",
      "[CV]  learning_rate=0.1, max_depth=3, max_features=0.75, n_estimators=200, score=0.905, total=11.8min\n",
      "[Parallel(n_jobs=1)]: Done  15 out of  15 | elapsed: 114.6min remaining:    0.0s\n",
      "[CV] learning_rate=0.1, max_depth=3, max_features=0.75, n_estimators=400 \n",
      "[CV]  learning_rate=0.1, max_depth=3, max_features=0.75, n_estimators=400, score=0.906, total=24.6min\n",
      "[Parallel(n_jobs=1)]: Done  16 out of  16 | elapsed: 139.2min remaining:    0.0s\n",
      "[CV] learning_rate=0.1, max_depth=3, max_features=0.75, n_estimators=400 \n",
      "[CV]  learning_rate=0.1, max_depth=3, max_features=0.75, n_estimators=400, score=0.908, total=21.2min\n",
      "[Parallel(n_jobs=1)]: Done  17 out of  17 | elapsed: 160.5min remaining:    0.0s\n",
      "[CV] learning_rate=0.1, max_depth=3, max_features=0.75, n_estimators=400 \n",
      "[CV]  learning_rate=0.1, max_depth=3, max_features=0.75, n_estimators=400, score=0.907, total=20.1min\n",
      "[Parallel(n_jobs=1)]: Done  18 out of  18 | elapsed: 180.6min remaining:    0.0s\n",
      "[CV] learning_rate=0.1, max_depth=4, max_features=0.5, n_estimators=100 \n",
      "[CV]  learning_rate=0.1, max_depth=4, max_features=0.5, n_estimators=100, score=0.903, total= 4.7min\n",
      "[Parallel(n_jobs=1)]: Done  19 out of  19 | elapsed: 185.3min remaining:    0.0s\n",
      "[CV] learning_rate=0.1, max_depth=4, max_features=0.5, n_estimators=100 \n",
      "[CV]  learning_rate=0.1, max_depth=4, max_features=0.5, n_estimators=100, score=0.905, total= 4.7min\n",
      "[Parallel(n_jobs=1)]: Done  20 out of  20 | elapsed: 190.0min remaining:    0.0s\n",
      "[CV] learning_rate=0.1, max_depth=4, max_features=0.5, n_estimators=100 \n",
      "[CV]  learning_rate=0.1, max_depth=4, max_features=0.5, n_estimators=100, score=0.904, total= 4.6min\n",
      "[Parallel(n_jobs=1)]: Done  21 out of  21 | elapsed: 194.6min remaining:    0.0s\n",
      "[CV] learning_rate=0.1, max_depth=4, max_features=0.5, n_estimators=200 \n",
      "[CV]  learning_rate=0.1, max_depth=4, max_features=0.5, n_estimators=200, score=0.906, total= 9.4min\n",
      "[Parallel(n_jobs=1)]: Done  22 out of  22 | elapsed: 204.1min remaining:    0.0s\n",
      "[CV] learning_rate=0.1, max_depth=4, max_features=0.5, n_estimators=200 \n",
      "[CV]  learning_rate=0.1, max_depth=4, max_features=0.5, n_estimators=200, score=0.907, total= 9.3min\n",
      "[Parallel(n_jobs=1)]: Done  23 out of  23 | elapsed: 213.4min remaining:    0.0s\n",
      "[CV] learning_rate=0.1, max_depth=4, max_features=0.5, n_estimators=200 \n",
      "[CV]  learning_rate=0.1, max_depth=4, max_features=0.5, n_estimators=200, score=0.906, total= 9.4min\n",
      "[Parallel(n_jobs=1)]: Done  24 out of  24 | elapsed: 222.8min remaining:    0.0s\n",
      "[CV] learning_rate=0.1, max_depth=4, max_features=0.5, n_estimators=400 \n",
      "[CV]  learning_rate=0.1, max_depth=4, max_features=0.5, n_estimators=400, score=0.907, total=18.9min\n",
      "[Parallel(n_jobs=1)]: Done  25 out of  25 | elapsed: 241.7min remaining:    0.0s\n",
      "[CV] learning_rate=0.1, max_depth=4, max_features=0.5, n_estimators=400 \n",
      "[CV]  learning_rate=0.1, max_depth=4, max_features=0.5, n_estimators=400, score=0.909, total=19.0min\n",
      "[Parallel(n_jobs=1)]: Done  26 out of  26 | elapsed: 260.7min remaining:    0.0s\n",
      "[CV] learning_rate=0.1, max_depth=4, max_features=0.5, n_estimators=400 \n",
      "[CV]  learning_rate=0.1, max_depth=4, max_features=0.5, n_estimators=400, score=0.908, total=18.5min\n",
      "[Parallel(n_jobs=1)]: Done  27 out of  27 | elapsed: 279.3min remaining:    0.0s\n",
      "[CV] learning_rate=0.1, max_depth=4, max_features=0.75, n_estimators=100 \n",
      "[CV]  learning_rate=0.1, max_depth=4, max_features=0.75, n_estimators=100, score=0.904, total= 6.8min\n",
      "[Parallel(n_jobs=1)]: Done  28 out of  28 | elapsed: 286.1min remaining:    0.0s\n",
      "[CV] learning_rate=0.1, max_depth=4, max_features=0.75, n_estimators=100 \n",
      "[CV]  learning_rate=0.1, max_depth=4, max_features=0.75, n_estimators=100, score=0.905, total= 4.5min\n",
      "[Parallel(n_jobs=1)]: Done  29 out of  29 | elapsed: 290.6min remaining:    0.0s\n",
      "[CV] learning_rate=0.1, max_depth=4, max_features=0.75, n_estimators=100 \n",
      "[CV]  learning_rate=0.1, max_depth=4, max_features=0.75, n_estimators=100, score=0.904, total= 3.8min\n",
      "[Parallel(n_jobs=1)]: Done  30 out of  30 | elapsed: 294.5min remaining:    0.0s\n",
      "[CV] learning_rate=0.1, max_depth=4, max_features=0.75, n_estimators=200 \n",
      "[CV]  learning_rate=0.1, max_depth=4, max_features=0.75, n_estimators=200, score=0.906, total= 7.9min\n",
      "[Parallel(n_jobs=1)]: Done  31 out of  31 | elapsed: 302.4min remaining:    0.0s\n",
      "[CV] learning_rate=0.1, max_depth=4, max_features=0.75, n_estimators=200 \n",
      "[CV]  learning_rate=0.1, max_depth=4, max_features=0.75, n_estimators=200, score=0.907, total= 7.9min\n",
      "[Parallel(n_jobs=1)]: Done  32 out of  32 | elapsed: 310.3min remaining:    0.0s\n",
      "[CV] learning_rate=0.1, max_depth=4, max_features=0.75, n_estimators=200 \n"
     ]
    },
    {
     "name": "stdout",
     "output_type": "stream",
     "text": [
      "[CV]  learning_rate=0.1, max_depth=4, max_features=0.75, n_estimators=200, score=0.907, total= 9.2min\n",
      "[Parallel(n_jobs=1)]: Done  33 out of  33 | elapsed: 319.5min remaining:    0.0s\n",
      "[CV] learning_rate=0.1, max_depth=4, max_features=0.75, n_estimators=400 \n",
      "[CV]  learning_rate=0.1, max_depth=4, max_features=0.75, n_estimators=400, score=0.907, total=20.5min\n",
      "[Parallel(n_jobs=1)]: Done  34 out of  34 | elapsed: 340.0min remaining:    0.0s\n",
      "[CV] learning_rate=0.1, max_depth=4, max_features=0.75, n_estimators=400 \n",
      "[CV]  learning_rate=0.1, max_depth=4, max_features=0.75, n_estimators=400, score=0.909, total=19.3min\n",
      "[Parallel(n_jobs=1)]: Done  35 out of  35 | elapsed: 359.3min remaining:    0.0s\n",
      "[CV] learning_rate=0.1, max_depth=4, max_features=0.75, n_estimators=400 \n",
      "[CV]  learning_rate=0.1, max_depth=4, max_features=0.75, n_estimators=400, score=0.908, total=21.3min\n",
      "[Parallel(n_jobs=1)]: Done  36 out of  36 | elapsed: 380.6min remaining:    0.0s\n",
      "[CV] learning_rate=0.1, max_depth=6, max_features=0.5, n_estimators=100 \n",
      "[CV]  learning_rate=0.1, max_depth=6, max_features=0.5, n_estimators=100, score=0.906, total= 3.8min\n",
      "[Parallel(n_jobs=1)]: Done  37 out of  37 | elapsed: 384.5min remaining:    0.0s\n",
      "[CV] learning_rate=0.1, max_depth=6, max_features=0.5, n_estimators=100 \n",
      "[CV]  learning_rate=0.1, max_depth=6, max_features=0.5, n_estimators=100, score=0.907, total= 4.1min\n",
      "[Parallel(n_jobs=1)]: Done  38 out of  38 | elapsed: 388.5min remaining:    0.0s\n",
      "[CV] learning_rate=0.1, max_depth=6, max_features=0.5, n_estimators=100 \n",
      "[CV]  learning_rate=0.1, max_depth=6, max_features=0.5, n_estimators=100, score=0.906, total= 4.1min\n",
      "[Parallel(n_jobs=1)]: Done  39 out of  39 | elapsed: 392.7min remaining:    0.0s\n",
      "[CV] learning_rate=0.1, max_depth=6, max_features=0.5, n_estimators=200 \n",
      "[CV]  learning_rate=0.1, max_depth=6, max_features=0.5, n_estimators=200, score=0.907, total= 8.7min\n",
      "[Parallel(n_jobs=1)]: Done  40 out of  40 | elapsed: 401.4min remaining:    0.0s\n",
      "[CV] learning_rate=0.1, max_depth=6, max_features=0.5, n_estimators=200 \n",
      "[CV]  learning_rate=0.1, max_depth=6, max_features=0.5, n_estimators=200, score=0.909, total= 9.3min\n",
      "[Parallel(n_jobs=1)]: Done  41 out of  41 | elapsed: 410.6min remaining:    0.0s\n",
      "[CV] learning_rate=0.1, max_depth=6, max_features=0.5, n_estimators=200 \n",
      "[CV]  learning_rate=0.1, max_depth=6, max_features=0.5, n_estimators=200, score=0.908, total= 8.3min\n",
      "[Parallel(n_jobs=1)]: Done  42 out of  42 | elapsed: 419.0min remaining:    0.0s\n",
      "[CV] learning_rate=0.1, max_depth=6, max_features=0.5, n_estimators=400 \n",
      "[CV]  learning_rate=0.1, max_depth=6, max_features=0.5, n_estimators=400, score=0.907, total=21.5min\n",
      "[Parallel(n_jobs=1)]: Done  43 out of  43 | elapsed: 440.5min remaining:    0.0s\n",
      "[CV] learning_rate=0.1, max_depth=6, max_features=0.5, n_estimators=400 \n",
      "[CV]  learning_rate=0.1, max_depth=6, max_features=0.5, n_estimators=400, score=0.909, total=24.0min\n",
      "[Parallel(n_jobs=1)]: Done  44 out of  44 | elapsed: 464.5min remaining:    0.0s\n",
      "[CV] learning_rate=0.1, max_depth=6, max_features=0.5, n_estimators=400 \n",
      "[CV]  learning_rate=0.1, max_depth=6, max_features=0.5, n_estimators=400, score=0.908, total=20.2min\n",
      "[Parallel(n_jobs=1)]: Done  45 out of  45 | elapsed: 484.7min remaining:    0.0s\n",
      "[CV] learning_rate=0.1, max_depth=6, max_features=0.75, n_estimators=100 \n",
      "[CV]  learning_rate=0.1, max_depth=6, max_features=0.75, n_estimators=100, score=0.906, total= 6.2min\n",
      "[Parallel(n_jobs=1)]: Done  46 out of  46 | elapsed: 490.8min remaining:    0.0s\n",
      "[CV] learning_rate=0.1, max_depth=6, max_features=0.75, n_estimators=100 \n",
      "[CV]  learning_rate=0.1, max_depth=6, max_features=0.75, n_estimators=100, score=0.907, total= 6.5min\n",
      "[Parallel(n_jobs=1)]: Done  47 out of  47 | elapsed: 497.4min remaining:    0.0s\n",
      "[CV] learning_rate=0.1, max_depth=6, max_features=0.75, n_estimators=100 \n",
      "[CV]  learning_rate=0.1, max_depth=6, max_features=0.75, n_estimators=100, score=0.906, total= 6.7min\n",
      "[Parallel(n_jobs=1)]: Done  48 out of  48 | elapsed: 504.0min remaining:    0.0s\n",
      "[CV] learning_rate=0.1, max_depth=6, max_features=0.75, n_estimators=200 \n",
      "[CV]  learning_rate=0.1, max_depth=6, max_features=0.75, n_estimators=200, score=0.907, total=13.7min\n",
      "[Parallel(n_jobs=1)]: Done  49 out of  49 | elapsed: 517.7min remaining:    0.0s\n",
      "[CV] learning_rate=0.1, max_depth=6, max_features=0.75, n_estimators=200 \n",
      "[CV]  learning_rate=0.1, max_depth=6, max_features=0.75, n_estimators=200, score=0.909, total=14.5min\n",
      "[Parallel(n_jobs=1)]: Done  50 out of  50 | elapsed: 532.2min remaining:    0.0s\n",
      "[CV] learning_rate=0.1, max_depth=6, max_features=0.75, n_estimators=200 \n",
      "[CV]  learning_rate=0.1, max_depth=6, max_features=0.75, n_estimators=200, score=0.908, total=12.5min\n",
      "[Parallel(n_jobs=1)]: Done  51 out of  51 | elapsed: 544.7min remaining:    0.0s\n",
      "[CV] learning_rate=0.1, max_depth=6, max_features=0.75, n_estimators=400 \n",
      "[CV]  learning_rate=0.1, max_depth=6, max_features=0.75, n_estimators=400, score=0.907, total=26.2min\n",
      "[Parallel(n_jobs=1)]: Done  52 out of  52 | elapsed: 570.9min remaining:    0.0s\n",
      "[CV] learning_rate=0.1, max_depth=6, max_features=0.75, n_estimators=400 \n",
      "[CV]  learning_rate=0.1, max_depth=6, max_features=0.75, n_estimators=400, score=0.908, total=27.3min\n",
      "[Parallel(n_jobs=1)]: Done  53 out of  53 | elapsed: 598.2min remaining:    0.0s\n",
      "[CV] learning_rate=0.1, max_depth=6, max_features=0.75, n_estimators=400 \n",
      "[CV]  learning_rate=0.1, max_depth=6, max_features=0.75, n_estimators=400, score=0.908, total=41.1min\n",
      "[Parallel(n_jobs=1)]: Done  54 out of  54 | elapsed: 639.2min remaining:    0.0s\n",
      "[CV] learning_rate=0.2, max_depth=3, max_features=0.5, n_estimators=100 \n",
      "[CV]  learning_rate=0.2, max_depth=3, max_features=0.5, n_estimators=100, score=0.904, total= 3.8min\n",
      "[Parallel(n_jobs=1)]: Done  55 out of  55 | elapsed: 643.1min remaining:    0.0s\n",
      "[CV] learning_rate=0.2, max_depth=3, max_features=0.5, n_estimators=100 \n",
      "[CV]  learning_rate=0.2, max_depth=3, max_features=0.5, n_estimators=100, score=0.905, total= 3.7min\n",
      "[Parallel(n_jobs=1)]: Done  56 out of  56 | elapsed: 646.8min remaining:    0.0s\n",
      "[CV] learning_rate=0.2, max_depth=3, max_features=0.5, n_estimators=100 \n",
      "[CV]  learning_rate=0.2, max_depth=3, max_features=0.5, n_estimators=100, score=0.905, total= 3.7min\n",
      "[Parallel(n_jobs=1)]: Done  57 out of  57 | elapsed: 650.5min remaining:    0.0s\n",
      "[CV] learning_rate=0.2, max_depth=3, max_features=0.5, n_estimators=200 \n",
      "[CV]  learning_rate=0.2, max_depth=3, max_features=0.5, n_estimators=200, score=0.906, total= 7.5min\n",
      "[Parallel(n_jobs=1)]: Done  58 out of  58 | elapsed: 658.0min remaining:    0.0s\n",
      "[CV] learning_rate=0.2, max_depth=3, max_features=0.5, n_estimators=200 \n",
      "[CV]  learning_rate=0.2, max_depth=3, max_features=0.5, n_estimators=200, score=0.907, total= 7.4min\n",
      "[Parallel(n_jobs=1)]: Done  59 out of  59 | elapsed: 665.4min remaining:    0.0s\n",
      "[CV] learning_rate=0.2, max_depth=3, max_features=0.5, n_estimators=200 \n",
      "[CV]  learning_rate=0.2, max_depth=3, max_features=0.5, n_estimators=200, score=0.907, total= 7.5min\n",
      "[Parallel(n_jobs=1)]: Done  60 out of  60 | elapsed: 672.9min remaining:    0.0s\n",
      "[CV] learning_rate=0.2, max_depth=3, max_features=0.5, n_estimators=400 \n",
      "[CV]  learning_rate=0.2, max_depth=3, max_features=0.5, n_estimators=400, score=0.907, total=14.9min\n",
      "[Parallel(n_jobs=1)]: Done  61 out of  61 | elapsed: 687.8min remaining:    0.0s\n",
      "[CV] learning_rate=0.2, max_depth=3, max_features=0.5, n_estimators=400 \n",
      "[CV]  learning_rate=0.2, max_depth=3, max_features=0.5, n_estimators=400, score=0.909, total=15.4min\n",
      "[Parallel(n_jobs=1)]: Done  62 out of  62 | elapsed: 703.3min remaining:    0.0s\n",
      "[CV] learning_rate=0.2, max_depth=3, max_features=0.5, n_estimators=400 \n",
      "[CV]  learning_rate=0.2, max_depth=3, max_features=0.5, n_estimators=400, score=0.908, total=14.8min\n",
      "[Parallel(n_jobs=1)]: Done  63 out of  63 | elapsed: 718.1min remaining:    0.0s\n",
      "[CV] learning_rate=0.2, max_depth=3, max_features=0.75, n_estimators=100 \n",
      "[CV]  learning_rate=0.2, max_depth=3, max_features=0.75, n_estimators=100, score=0.904, total= 5.2min\n",
      "[Parallel(n_jobs=1)]: Done  64 out of  64 | elapsed: 723.2min remaining:    0.0s\n",
      "[CV] learning_rate=0.2, max_depth=3, max_features=0.75, n_estimators=100 \n",
      "[CV]  learning_rate=0.2, max_depth=3, max_features=0.75, n_estimators=100, score=0.906, total= 5.3min\n",
      "[Parallel(n_jobs=1)]: Done  65 out of  65 | elapsed: 728.5min remaining:    0.0s\n",
      "[CV] learning_rate=0.2, max_depth=3, max_features=0.75, n_estimators=100 \n"
     ]
    },
    {
     "name": "stdout",
     "output_type": "stream",
     "text": [
      "[CV]  learning_rate=0.2, max_depth=3, max_features=0.75, n_estimators=100, score=0.905, total= 5.5min\n",
      "[Parallel(n_jobs=1)]: Done  66 out of  66 | elapsed: 734.0min remaining:    0.0s\n",
      "[CV] learning_rate=0.2, max_depth=3, max_features=0.75, n_estimators=200 \n",
      "[CV]  learning_rate=0.2, max_depth=3, max_features=0.75, n_estimators=200, score=0.906, total=10.8min\n",
      "[Parallel(n_jobs=1)]: Done  67 out of  67 | elapsed: 744.8min remaining:    0.0s\n",
      "[CV] learning_rate=0.2, max_depth=3, max_features=0.75, n_estimators=200 \n",
      "[CV]  learning_rate=0.2, max_depth=3, max_features=0.75, n_estimators=200, score=0.908, total=11.3min\n",
      "[Parallel(n_jobs=1)]: Done  68 out of  68 | elapsed: 756.1min remaining:    0.0s\n",
      "[CV] learning_rate=0.2, max_depth=3, max_features=0.75, n_estimators=200 \n",
      "[CV]  learning_rate=0.2, max_depth=3, max_features=0.75, n_estimators=200, score=0.907, total= 8.3min\n",
      "[Parallel(n_jobs=1)]: Done  69 out of  69 | elapsed: 764.4min remaining:    0.0s\n",
      "[CV] learning_rate=0.2, max_depth=3, max_features=0.75, n_estimators=400 \n",
      "[CV]  learning_rate=0.2, max_depth=3, max_features=0.75, n_estimators=400, score=0.907, total=21.8min\n",
      "[Parallel(n_jobs=1)]: Done  70 out of  70 | elapsed: 786.2min remaining:    0.0s\n",
      "[CV] learning_rate=0.2, max_depth=3, max_features=0.75, n_estimators=400 \n",
      "[CV]  learning_rate=0.2, max_depth=3, max_features=0.75, n_estimators=400, score=0.909, total=21.4min\n",
      "[Parallel(n_jobs=1)]: Done  71 out of  71 | elapsed: 807.6min remaining:    0.0s\n",
      "[CV] learning_rate=0.2, max_depth=3, max_features=0.75, n_estimators=400 \n",
      "[CV]  learning_rate=0.2, max_depth=3, max_features=0.75, n_estimators=400, score=0.908, total=22.8min\n",
      "[Parallel(n_jobs=1)]: Done  72 out of  72 | elapsed: 830.4min remaining:    0.0s\n",
      "[CV] learning_rate=0.2, max_depth=4, max_features=0.5, n_estimators=100 \n",
      "[CV]  learning_rate=0.2, max_depth=4, max_features=0.5, n_estimators=100, score=0.906, total= 5.0min\n",
      "[Parallel(n_jobs=1)]: Done  73 out of  73 | elapsed: 835.4min remaining:    0.0s\n",
      "[CV] learning_rate=0.2, max_depth=4, max_features=0.5, n_estimators=100 \n",
      "[CV]  learning_rate=0.2, max_depth=4, max_features=0.5, n_estimators=100, score=0.907, total= 4.8min\n",
      "[Parallel(n_jobs=1)]: Done  74 out of  74 | elapsed: 840.2min remaining:    0.0s\n",
      "[CV] learning_rate=0.2, max_depth=4, max_features=0.5, n_estimators=100 \n",
      "[CV]  learning_rate=0.2, max_depth=4, max_features=0.5, n_estimators=100, score=0.907, total= 4.7min\n",
      "[Parallel(n_jobs=1)]: Done  75 out of  75 | elapsed: 845.0min remaining:    0.0s\n",
      "[CV] learning_rate=0.2, max_depth=4, max_features=0.5, n_estimators=200 \n",
      "[CV]  learning_rate=0.2, max_depth=4, max_features=0.5, n_estimators=200, score=0.907, total= 8.5min\n",
      "[Parallel(n_jobs=1)]: Done  76 out of  76 | elapsed: 853.5min remaining:    0.0s\n",
      "[CV] learning_rate=0.2, max_depth=4, max_features=0.5, n_estimators=200 \n",
      "[CV]  learning_rate=0.2, max_depth=4, max_features=0.5, n_estimators=200, score=0.908, total= 9.7min\n",
      "[Parallel(n_jobs=1)]: Done  77 out of  77 | elapsed: 863.2min remaining:    0.0s\n",
      "[CV] learning_rate=0.2, max_depth=4, max_features=0.5, n_estimators=200 \n",
      "[CV]  learning_rate=0.2, max_depth=4, max_features=0.5, n_estimators=200, score=0.908, total= 9.7min\n",
      "[Parallel(n_jobs=1)]: Done  78 out of  78 | elapsed: 873.0min remaining:    0.0s\n",
      "[CV] learning_rate=0.2, max_depth=4, max_features=0.5, n_estimators=400 \n",
      "[CV]  learning_rate=0.2, max_depth=4, max_features=0.5, n_estimators=400, score=0.907, total=18.8min\n",
      "[Parallel(n_jobs=1)]: Done  79 out of  79 | elapsed: 891.8min remaining:    0.0s\n",
      "[CV] learning_rate=0.2, max_depth=4, max_features=0.5, n_estimators=400 \n",
      "[CV]  learning_rate=0.2, max_depth=4, max_features=0.5, n_estimators=400, score=0.909, total=19.2min\n",
      "[Parallel(n_jobs=1)]: Done  80 out of  80 | elapsed: 911.0min remaining:    0.0s\n",
      "[CV] learning_rate=0.2, max_depth=4, max_features=0.5, n_estimators=400 \n",
      "[CV]  learning_rate=0.2, max_depth=4, max_features=0.5, n_estimators=400, score=0.908, total=19.1min\n",
      "[Parallel(n_jobs=1)]: Done  81 out of  81 | elapsed: 930.2min remaining:    0.0s\n",
      "[CV] learning_rate=0.2, max_depth=4, max_features=0.75, n_estimators=100 \n",
      "[CV]  learning_rate=0.2, max_depth=4, max_features=0.75, n_estimators=100, score=0.906, total= 6.4min\n",
      "[Parallel(n_jobs=1)]: Done  82 out of  82 | elapsed: 936.6min remaining:    0.0s\n",
      "[CV] learning_rate=0.2, max_depth=4, max_features=0.75, n_estimators=100 \n",
      "[CV]  learning_rate=0.2, max_depth=4, max_features=0.75, n_estimators=100, score=0.907, total= 6.6min\n",
      "[Parallel(n_jobs=1)]: Done  83 out of  83 | elapsed: 943.2min remaining:    0.0s\n",
      "[CV] learning_rate=0.2, max_depth=4, max_features=0.75, n_estimators=100 \n",
      "[CV]  learning_rate=0.2, max_depth=4, max_features=0.75, n_estimators=100, score=0.907, total= 7.0min\n",
      "[Parallel(n_jobs=1)]: Done  84 out of  84 | elapsed: 950.2min remaining:    0.0s\n",
      "[CV] learning_rate=0.2, max_depth=4, max_features=0.75, n_estimators=200 \n",
      "[CV]  learning_rate=0.2, max_depth=4, max_features=0.75, n_estimators=200, score=0.907, total=13.7min\n",
      "[Parallel(n_jobs=1)]: Done  85 out of  85 | elapsed: 963.9min remaining:    0.0s\n",
      "[CV] learning_rate=0.2, max_depth=4, max_features=0.75, n_estimators=200 \n",
      "[CV]  learning_rate=0.2, max_depth=4, max_features=0.75, n_estimators=200, score=0.909, total=13.7min\n",
      "[Parallel(n_jobs=1)]: Done  86 out of  86 | elapsed: 977.6min remaining:    0.0s\n",
      "[CV] learning_rate=0.2, max_depth=4, max_features=0.75, n_estimators=200 \n",
      "[CV]  learning_rate=0.2, max_depth=4, max_features=0.75, n_estimators=200, score=0.908, total=14.0min\n",
      "[Parallel(n_jobs=1)]: Done  87 out of  87 | elapsed: 991.6min remaining:    0.0s\n",
      "[CV] learning_rate=0.2, max_depth=4, max_features=0.75, n_estimators=400 \n",
      "[CV]  learning_rate=0.2, max_depth=4, max_features=0.75, n_estimators=400, score=0.907, total=27.9min\n",
      "[Parallel(n_jobs=1)]: Done  88 out of  88 | elapsed: 1019.5min remaining:    0.0s\n",
      "[CV] learning_rate=0.2, max_depth=4, max_features=0.75, n_estimators=400 \n",
      "[CV]  learning_rate=0.2, max_depth=4, max_features=0.75, n_estimators=400, score=0.909, total=27.2min\n",
      "[Parallel(n_jobs=1)]: Done  89 out of  89 | elapsed: 1046.7min remaining:    0.0s\n",
      "[CV] learning_rate=0.2, max_depth=4, max_features=0.75, n_estimators=400 \n",
      "[CV]  learning_rate=0.2, max_depth=4, max_features=0.75, n_estimators=400, score=0.908, total=27.4min\n",
      "[Parallel(n_jobs=1)]: Done  90 out of  90 | elapsed: 1074.2min remaining:    0.0s\n",
      "[CV] learning_rate=0.2, max_depth=6, max_features=0.5, n_estimators=100 \n",
      "[CV]  learning_rate=0.2, max_depth=6, max_features=0.5, n_estimators=100, score=0.907, total= 7.2min\n",
      "[Parallel(n_jobs=1)]: Done  91 out of  91 | elapsed: 1081.4min remaining:    0.0s\n",
      "[CV] learning_rate=0.2, max_depth=6, max_features=0.5, n_estimators=100 \n",
      "[CV]  learning_rate=0.2, max_depth=6, max_features=0.5, n_estimators=100, score=0.908, total= 6.9min\n",
      "[Parallel(n_jobs=1)]: Done  92 out of  92 | elapsed: 1088.3min remaining:    0.0s\n",
      "[CV] learning_rate=0.2, max_depth=6, max_features=0.5, n_estimators=100 \n",
      "[CV]  learning_rate=0.2, max_depth=6, max_features=0.5, n_estimators=100, score=0.907, total= 7.2min\n",
      "[Parallel(n_jobs=1)]: Done  93 out of  93 | elapsed: 1095.5min remaining:    0.0s\n",
      "[CV] learning_rate=0.2, max_depth=6, max_features=0.5, n_estimators=200 \n",
      "[CV]  learning_rate=0.2, max_depth=6, max_features=0.5, n_estimators=200, score=0.906, total=14.0min\n",
      "[Parallel(n_jobs=1)]: Done  94 out of  94 | elapsed: 1109.5min remaining:    0.0s\n",
      "[CV] learning_rate=0.2, max_depth=6, max_features=0.5, n_estimators=200 \n",
      "[CV]  learning_rate=0.2, max_depth=6, max_features=0.5, n_estimators=200, score=0.908, total=14.0min\n",
      "[Parallel(n_jobs=1)]: Done  95 out of  95 | elapsed: 1123.5min remaining:    0.0s\n",
      "[CV] learning_rate=0.2, max_depth=6, max_features=0.5, n_estimators=200 \n",
      "[CV]  learning_rate=0.2, max_depth=6, max_features=0.5, n_estimators=200, score=0.906, total=13.6min\n",
      "[Parallel(n_jobs=1)]: Done  96 out of  96 | elapsed: 1137.1min remaining:    0.0s\n",
      "[CV] learning_rate=0.2, max_depth=6, max_features=0.5, n_estimators=400 \n",
      "[CV]  learning_rate=0.2, max_depth=6, max_features=0.5, n_estimators=400, score=0.904, total=28.8min\n",
      "[Parallel(n_jobs=1)]: Done  97 out of  97 | elapsed: 1165.9min remaining:    0.0s\n",
      "[CV] learning_rate=0.2, max_depth=6, max_features=0.5, n_estimators=400 \n"
     ]
    },
    {
     "name": "stdout",
     "output_type": "stream",
     "text": [
      "[CV]  learning_rate=0.2, max_depth=6, max_features=0.5, n_estimators=400, score=0.905, total=28.4min\n",
      "[Parallel(n_jobs=1)]: Done  98 out of  98 | elapsed: 1194.3min remaining:    0.0s\n",
      "[CV] learning_rate=0.2, max_depth=6, max_features=0.5, n_estimators=400 \n",
      "[CV]  learning_rate=0.2, max_depth=6, max_features=0.5, n_estimators=400, score=0.904, total=24.0min\n",
      "[Parallel(n_jobs=1)]: Done  99 out of  99 | elapsed: 1218.3min remaining:    0.0s\n",
      "[CV] learning_rate=0.2, max_depth=6, max_features=0.75, n_estimators=100 \n",
      "[CV]  learning_rate=0.2, max_depth=6, max_features=0.75, n_estimators=100, score=0.906, total= 9.2min\n",
      "[Parallel(n_jobs=1)]: Done 100 out of 100 | elapsed: 1227.5min remaining:    0.0s\n",
      "[CV] learning_rate=0.2, max_depth=6, max_features=0.75, n_estimators=100 \n",
      "[CV]  learning_rate=0.2, max_depth=6, max_features=0.75, n_estimators=100, score=0.908, total= 9.0min\n",
      "[Parallel(n_jobs=1)]: Done 101 out of 101 | elapsed: 1236.5min remaining:    0.0s\n",
      "[CV] learning_rate=0.2, max_depth=6, max_features=0.75, n_estimators=100 \n",
      "[CV]  learning_rate=0.2, max_depth=6, max_features=0.75, n_estimators=100, score=0.907, total= 8.8min\n",
      "[Parallel(n_jobs=1)]: Done 102 out of 102 | elapsed: 1245.3min remaining:    0.0s\n",
      "[CV] learning_rate=0.2, max_depth=6, max_features=0.75, n_estimators=200 \n",
      "[CV]  learning_rate=0.2, max_depth=6, max_features=0.75, n_estimators=200, score=0.906, total=16.8min\n",
      "[Parallel(n_jobs=1)]: Done 103 out of 103 | elapsed: 1262.1min remaining:    0.0s\n",
      "[CV] learning_rate=0.2, max_depth=6, max_features=0.75, n_estimators=200 \n",
      "[CV]  learning_rate=0.2, max_depth=6, max_features=0.75, n_estimators=200, score=0.907, total=17.0min\n",
      "[Parallel(n_jobs=1)]: Done 104 out of 104 | elapsed: 1279.0min remaining:    0.0s\n",
      "[CV] learning_rate=0.2, max_depth=6, max_features=0.75, n_estimators=200 \n",
      "[CV]  learning_rate=0.2, max_depth=6, max_features=0.75, n_estimators=200, score=0.907, total=18.0min\n",
      "[Parallel(n_jobs=1)]: Done 105 out of 105 | elapsed: 1297.1min remaining:    0.0s\n",
      "[CV] learning_rate=0.2, max_depth=6, max_features=0.75, n_estimators=400 \n",
      "[CV]  learning_rate=0.2, max_depth=6, max_features=0.75, n_estimators=400, score=0.903, total=42.3min\n",
      "[Parallel(n_jobs=1)]: Done 106 out of 106 | elapsed: 1339.3min remaining:    0.0s\n",
      "[CV] learning_rate=0.2, max_depth=6, max_features=0.75, n_estimators=400 \n",
      "[CV]  learning_rate=0.2, max_depth=6, max_features=0.75, n_estimators=400, score=0.905, total=38.5min\n",
      "[Parallel(n_jobs=1)]: Done 107 out of 107 | elapsed: 1377.8min remaining:    0.0s\n",
      "[CV] learning_rate=0.2, max_depth=6, max_features=0.75, n_estimators=400 \n",
      "[CV]  learning_rate=0.2, max_depth=6, max_features=0.75, n_estimators=400, score=0.904, total=41.1min\n",
      "[Parallel(n_jobs=1)]: Done 108 out of 108 | elapsed: 1418.9min remaining:    0.0s\n",
      "[CV] learning_rate=0.5, max_depth=3, max_features=0.5, n_estimators=100 \n",
      "[CV]  learning_rate=0.5, max_depth=3, max_features=0.5, n_estimators=100, score=0.906, total= 2.4min\n",
      "[Parallel(n_jobs=1)]: Done 109 out of 109 | elapsed: 1421.4min remaining:    0.0s\n",
      "[CV] learning_rate=0.5, max_depth=3, max_features=0.5, n_estimators=100 \n",
      "[CV]  learning_rate=0.5, max_depth=3, max_features=0.5, n_estimators=100, score=0.907, total= 3.7min\n",
      "[Parallel(n_jobs=1)]: Done 110 out of 110 | elapsed: 1425.1min remaining:    0.0s\n",
      "[CV] learning_rate=0.5, max_depth=3, max_features=0.5, n_estimators=100 \n",
      "[CV]  learning_rate=0.5, max_depth=3, max_features=0.5, n_estimators=100, score=0.906, total= 3.7min\n",
      "[Parallel(n_jobs=1)]: Done 111 out of 111 | elapsed: 1428.8min remaining:    0.0s\n",
      "[CV] learning_rate=0.5, max_depth=3, max_features=0.5, n_estimators=200 \n",
      "[CV]  learning_rate=0.5, max_depth=3, max_features=0.5, n_estimators=200, score=0.906, total= 5.3min\n",
      "[Parallel(n_jobs=1)]: Done 112 out of 112 | elapsed: 1434.1min remaining:    0.0s\n",
      "[CV] learning_rate=0.5, max_depth=3, max_features=0.5, n_estimators=200 \n",
      "[CV]  learning_rate=0.5, max_depth=3, max_features=0.5, n_estimators=200, score=0.908, total= 5.2min\n",
      "[Parallel(n_jobs=1)]: Done 113 out of 113 | elapsed: 1439.3min remaining:    0.0s\n",
      "[CV] learning_rate=0.5, max_depth=3, max_features=0.5, n_estimators=200 \n",
      "[CV]  learning_rate=0.5, max_depth=3, max_features=0.5, n_estimators=200, score=0.907, total= 7.3min\n",
      "[Parallel(n_jobs=1)]: Done 114 out of 114 | elapsed: 1446.6min remaining:    0.0s\n",
      "[CV] learning_rate=0.5, max_depth=3, max_features=0.5, n_estimators=400 \n",
      "[CV]  learning_rate=0.5, max_depth=3, max_features=0.5, n_estimators=400, score=0.906, total=14.2min\n",
      "[Parallel(n_jobs=1)]: Done 115 out of 115 | elapsed: 1460.8min remaining:    0.0s\n",
      "[CV] learning_rate=0.5, max_depth=3, max_features=0.5, n_estimators=400 \n",
      "[CV]  learning_rate=0.5, max_depth=3, max_features=0.5, n_estimators=400, score=0.907, total=15.2min\n",
      "[Parallel(n_jobs=1)]: Done 116 out of 116 | elapsed: 1476.0min remaining:    0.0s\n",
      "[CV] learning_rate=0.5, max_depth=3, max_features=0.5, n_estimators=400 \n",
      "[CV]  learning_rate=0.5, max_depth=3, max_features=0.5, n_estimators=400, score=0.906, total=15.1min\n",
      "[Parallel(n_jobs=1)]: Done 117 out of 117 | elapsed: 1491.1min remaining:    0.0s\n",
      "[CV] learning_rate=0.5, max_depth=3, max_features=0.75, n_estimators=100 \n",
      "[CV]  learning_rate=0.5, max_depth=3, max_features=0.75, n_estimators=100, score=0.906, total= 5.4min\n",
      "[Parallel(n_jobs=1)]: Done 118 out of 118 | elapsed: 1496.5min remaining:    0.0s\n",
      "[CV] learning_rate=0.5, max_depth=3, max_features=0.75, n_estimators=100 \n",
      "[CV]  learning_rate=0.5, max_depth=3, max_features=0.75, n_estimators=100, score=0.907, total= 5.3min\n",
      "[Parallel(n_jobs=1)]: Done 119 out of 119 | elapsed: 1501.8min remaining:    0.0s\n",
      "[CV] learning_rate=0.5, max_depth=3, max_features=0.75, n_estimators=100 \n",
      "[CV]  learning_rate=0.5, max_depth=3, max_features=0.75, n_estimators=100, score=0.906, total= 5.2min\n",
      "[Parallel(n_jobs=1)]: Done 120 out of 120 | elapsed: 1507.0min remaining:    0.0s\n",
      "[CV] learning_rate=0.5, max_depth=3, max_features=0.75, n_estimators=200 \n",
      "[CV]  learning_rate=0.5, max_depth=3, max_features=0.75, n_estimators=200, score=0.907, total=10.7min\n",
      "[Parallel(n_jobs=1)]: Done 121 out of 121 | elapsed: 1517.6min remaining:    0.0s\n",
      "[CV] learning_rate=0.5, max_depth=3, max_features=0.75, n_estimators=200 \n",
      "[CV]  learning_rate=0.5, max_depth=3, max_features=0.75, n_estimators=200, score=0.908, total=10.0min\n",
      "[Parallel(n_jobs=1)]: Done 122 out of 122 | elapsed: 1527.6min remaining:    0.0s\n",
      "[CV] learning_rate=0.5, max_depth=3, max_features=0.75, n_estimators=200 \n",
      "[CV]  learning_rate=0.5, max_depth=3, max_features=0.75, n_estimators=200, score=0.907, total=10.6min\n",
      "[Parallel(n_jobs=1)]: Done 123 out of 123 | elapsed: 1538.2min remaining:    0.0s\n",
      "[CV] learning_rate=0.5, max_depth=3, max_features=0.75, n_estimators=400 \n",
      "[CV]  learning_rate=0.5, max_depth=3, max_features=0.75, n_estimators=400, score=0.906, total=20.9min\n",
      "[Parallel(n_jobs=1)]: Done 124 out of 124 | elapsed: 1559.1min remaining:    0.0s\n",
      "[CV] learning_rate=0.5, max_depth=3, max_features=0.75, n_estimators=400 \n",
      "[CV]  learning_rate=0.5, max_depth=3, max_features=0.75, n_estimators=400, score=0.907, total=20.2min\n",
      "[Parallel(n_jobs=1)]: Done 125 out of 125 | elapsed: 1579.3min remaining:    0.0s\n",
      "[CV] learning_rate=0.5, max_depth=3, max_features=0.75, n_estimators=400 \n",
      "[CV]  learning_rate=0.5, max_depth=3, max_features=0.75, n_estimators=400, score=0.906, total=20.4min\n",
      "[Parallel(n_jobs=1)]: Done 126 out of 126 | elapsed: 1599.6min remaining:    0.0s\n",
      "[CV] learning_rate=0.5, max_depth=4, max_features=0.5, n_estimators=100 \n",
      "[CV]  learning_rate=0.5, max_depth=4, max_features=0.5, n_estimators=100, score=0.906, total= 4.9min\n",
      "[Parallel(n_jobs=1)]: Done 127 out of 127 | elapsed: 1604.6min remaining:    0.0s\n",
      "[CV] learning_rate=0.5, max_depth=4, max_features=0.5, n_estimators=100 \n",
      "[CV]  learning_rate=0.5, max_depth=4, max_features=0.5, n_estimators=100, score=0.907, total= 5.0min\n",
      "[Parallel(n_jobs=1)]: Done 128 out of 128 | elapsed: 1609.6min remaining:    0.0s\n",
      "[CV] learning_rate=0.5, max_depth=4, max_features=0.5, n_estimators=100 \n",
      "[CV]  learning_rate=0.5, max_depth=4, max_features=0.5, n_estimators=100, score=0.906, total= 4.8min\n",
      "[Parallel(n_jobs=1)]: Done 129 out of 129 | elapsed: 1614.3min remaining:    0.0s\n",
      "[CV] learning_rate=0.5, max_depth=4, max_features=0.5, n_estimators=200 \n"
     ]
    },
    {
     "name": "stdout",
     "output_type": "stream",
     "text": [
      "[CV]  learning_rate=0.5, max_depth=4, max_features=0.5, n_estimators=200, score=0.905, total= 9.9min\n",
      "[Parallel(n_jobs=1)]: Done 130 out of 130 | elapsed: 1624.2min remaining:    0.0s\n",
      "[CV] learning_rate=0.5, max_depth=4, max_features=0.5, n_estimators=200 \n",
      "[CV]  learning_rate=0.5, max_depth=4, max_features=0.5, n_estimators=200, score=0.906, total= 9.6min\n",
      "[Parallel(n_jobs=1)]: Done 131 out of 131 | elapsed: 1633.8min remaining:    0.0s\n",
      "[CV] learning_rate=0.5, max_depth=4, max_features=0.5, n_estimators=200 \n",
      "[CV]  learning_rate=0.5, max_depth=4, max_features=0.5, n_estimators=200, score=0.905, total= 9.7min\n",
      "[Parallel(n_jobs=1)]: Done 132 out of 132 | elapsed: 1643.5min remaining:    0.0s\n",
      "[CV] learning_rate=0.5, max_depth=4, max_features=0.5, n_estimators=400 \n",
      "[CV]  learning_rate=0.5, max_depth=4, max_features=0.5, n_estimators=400, score=0.901, total=19.1min\n",
      "[Parallel(n_jobs=1)]: Done 133 out of 133 | elapsed: 1662.6min remaining:    0.0s\n",
      "[CV] learning_rate=0.5, max_depth=4, max_features=0.5, n_estimators=400 \n",
      "[CV]  learning_rate=0.5, max_depth=4, max_features=0.5, n_estimators=400, score=0.903, total=19.1min\n",
      "[Parallel(n_jobs=1)]: Done 134 out of 134 | elapsed: 1681.7min remaining:    0.0s\n",
      "[CV] learning_rate=0.5, max_depth=4, max_features=0.5, n_estimators=400 \n",
      "[CV]  learning_rate=0.5, max_depth=4, max_features=0.5, n_estimators=400, score=0.902, total=18.5min\n",
      "[Parallel(n_jobs=1)]: Done 135 out of 135 | elapsed: 1700.2min remaining:    0.0s\n",
      "[CV] learning_rate=0.5, max_depth=4, max_features=0.75, n_estimators=100 \n",
      "[CV]  learning_rate=0.5, max_depth=4, max_features=0.75, n_estimators=100, score=0.906, total= 6.8min\n",
      "[Parallel(n_jobs=1)]: Done 136 out of 136 | elapsed: 1707.0min remaining:    0.0s\n",
      "[CV] learning_rate=0.5, max_depth=4, max_features=0.75, n_estimators=100 \n",
      "[CV]  learning_rate=0.5, max_depth=4, max_features=0.75, n_estimators=100, score=0.907, total= 6.9min\n",
      "[Parallel(n_jobs=1)]: Done 137 out of 137 | elapsed: 1713.9min remaining:    0.0s\n",
      "[CV] learning_rate=0.5, max_depth=4, max_features=0.75, n_estimators=100 \n",
      "[CV]  learning_rate=0.5, max_depth=4, max_features=0.75, n_estimators=100, score=0.906, total= 6.8min\n",
      "[Parallel(n_jobs=1)]: Done 138 out of 138 | elapsed: 1720.6min remaining:    0.0s\n",
      "[CV] learning_rate=0.5, max_depth=4, max_features=0.75, n_estimators=200 \n",
      "[CV]  learning_rate=0.5, max_depth=4, max_features=0.75, n_estimators=200, score=0.905, total=14.1min\n",
      "[Parallel(n_jobs=1)]: Done 139 out of 139 | elapsed: 1734.7min remaining:    0.0s\n",
      "[CV] learning_rate=0.5, max_depth=4, max_features=0.75, n_estimators=200 \n",
      "[CV]  learning_rate=0.5, max_depth=4, max_features=0.75, n_estimators=200, score=0.906, total=14.6min\n",
      "[Parallel(n_jobs=1)]: Done 140 out of 140 | elapsed: 1749.3min remaining:    0.0s\n",
      "[CV] learning_rate=0.5, max_depth=4, max_features=0.75, n_estimators=200 \n",
      "[CV]  learning_rate=0.5, max_depth=4, max_features=0.75, n_estimators=200, score=0.905, total=14.5min\n",
      "[Parallel(n_jobs=1)]: Done 141 out of 141 | elapsed: 1763.9min remaining:    0.0s\n",
      "[CV] learning_rate=0.5, max_depth=4, max_features=0.75, n_estimators=400 \n",
      "[CV]  learning_rate=0.5, max_depth=4, max_features=0.75, n_estimators=400, score=0.902, total=27.7min\n",
      "[Parallel(n_jobs=1)]: Done 142 out of 142 | elapsed: 1791.5min remaining:    0.0s\n",
      "[CV] learning_rate=0.5, max_depth=4, max_features=0.75, n_estimators=400 \n",
      "[CV]  learning_rate=0.5, max_depth=4, max_features=0.75, n_estimators=400, score=0.903, total=27.0min\n",
      "[Parallel(n_jobs=1)]: Done 143 out of 143 | elapsed: 1818.5min remaining:    0.0s\n",
      "[CV] learning_rate=0.5, max_depth=4, max_features=0.75, n_estimators=400 \n",
      "[CV]  learning_rate=0.5, max_depth=4, max_features=0.75, n_estimators=400, score=0.901, total=27.3min\n",
      "[Parallel(n_jobs=1)]: Done 144 out of 144 | elapsed: 1845.8min remaining:    0.0s\n",
      "[CV] learning_rate=0.5, max_depth=6, max_features=0.5, n_estimators=100 \n",
      "[CV]  learning_rate=0.5, max_depth=6, max_features=0.5, n_estimators=100, score=0.902, total= 7.6min\n",
      "[Parallel(n_jobs=1)]: Done 145 out of 145 | elapsed: 1853.4min remaining:    0.0s\n",
      "[CV] learning_rate=0.5, max_depth=6, max_features=0.5, n_estimators=100 \n",
      "[CV]  learning_rate=0.5, max_depth=6, max_features=0.5, n_estimators=100, score=0.903, total= 7.5min\n",
      "[Parallel(n_jobs=1)]: Done 146 out of 146 | elapsed: 1860.9min remaining:    0.0s\n",
      "[CV] learning_rate=0.5, max_depth=6, max_features=0.5, n_estimators=100 \n",
      "[CV]  learning_rate=0.5, max_depth=6, max_features=0.5, n_estimators=100, score=0.903, total= 7.6min\n",
      "[Parallel(n_jobs=1)]: Done 147 out of 147 | elapsed: 1868.5min remaining:    0.0s\n",
      "[CV] learning_rate=0.5, max_depth=6, max_features=0.5, n_estimators=200 \n",
      "[CV]  learning_rate=0.5, max_depth=6, max_features=0.5, n_estimators=200, score=0.897, total=15.0min\n",
      "[Parallel(n_jobs=1)]: Done 148 out of 148 | elapsed: 1883.5min remaining:    0.0s\n",
      "[CV] learning_rate=0.5, max_depth=6, max_features=0.5, n_estimators=200 \n",
      "[CV]  learning_rate=0.5, max_depth=6, max_features=0.5, n_estimators=200, score=0.899, total=14.8min\n",
      "[Parallel(n_jobs=1)]: Done 149 out of 149 | elapsed: 1898.3min remaining:    0.0s\n",
      "[CV] learning_rate=0.5, max_depth=6, max_features=0.5, n_estimators=200 \n",
      "[CV]  learning_rate=0.5, max_depth=6, max_features=0.5, n_estimators=200, score=0.898, total=15.0min\n",
      "[Parallel(n_jobs=1)]: Done 150 out of 150 | elapsed: 1913.3min remaining:    0.0s\n",
      "[CV] learning_rate=0.5, max_depth=6, max_features=0.5, n_estimators=400 \n",
      "[CV]  learning_rate=0.5, max_depth=6, max_features=0.5, n_estimators=400, score=0.891, total=29.2min\n",
      "[Parallel(n_jobs=1)]: Done 151 out of 151 | elapsed: 1942.5min remaining:    0.0s\n",
      "[CV] learning_rate=0.5, max_depth=6, max_features=0.5, n_estimators=400 \n",
      "[CV]  learning_rate=0.5, max_depth=6, max_features=0.5, n_estimators=400, score=0.892, total=28.0min\n",
      "[Parallel(n_jobs=1)]: Done 152 out of 152 | elapsed: 1970.5min remaining:    0.0s\n",
      "[CV] learning_rate=0.5, max_depth=6, max_features=0.5, n_estimators=400 \n",
      "[CV]  learning_rate=0.5, max_depth=6, max_features=0.5, n_estimators=400, score=0.892, total=29.6min\n",
      "[Parallel(n_jobs=1)]: Done 153 out of 153 | elapsed: 2000.1min remaining:    0.0s\n",
      "[CV] learning_rate=0.5, max_depth=6, max_features=0.75, n_estimators=100 \n",
      "[CV]  learning_rate=0.5, max_depth=6, max_features=0.75, n_estimators=100, score=0.901, total=10.5min\n",
      "[Parallel(n_jobs=1)]: Done 154 out of 154 | elapsed: 2010.6min remaining:    0.0s\n",
      "[CV] learning_rate=0.5, max_depth=6, max_features=0.75, n_estimators=100 \n",
      "[CV]  learning_rate=0.5, max_depth=6, max_features=0.75, n_estimators=100, score=0.903, total=10.6min\n",
      "[Parallel(n_jobs=1)]: Done 155 out of 155 | elapsed: 2021.2min remaining:    0.0s\n",
      "[CV] learning_rate=0.5, max_depth=6, max_features=0.75, n_estimators=100 \n",
      "[CV]  learning_rate=0.5, max_depth=6, max_features=0.75, n_estimators=100, score=0.901, total=10.1min\n",
      "[Parallel(n_jobs=1)]: Done 156 out of 156 | elapsed: 2031.3min remaining:    0.0s\n",
      "[CV] learning_rate=0.5, max_depth=6, max_features=0.75, n_estimators=200 \n",
      "[CV]  learning_rate=0.5, max_depth=6, max_features=0.75, n_estimators=200, score=0.896, total=20.0min\n",
      "[Parallel(n_jobs=1)]: Done 157 out of 157 | elapsed: 2051.2min remaining:    0.0s\n",
      "[CV] learning_rate=0.5, max_depth=6, max_features=0.75, n_estimators=200 \n",
      "[CV]  learning_rate=0.5, max_depth=6, max_features=0.75, n_estimators=200, score=0.898, total=19.9min\n",
      "[Parallel(n_jobs=1)]: Done 158 out of 158 | elapsed: 2071.2min remaining:    0.0s\n",
      "[CV] learning_rate=0.5, max_depth=6, max_features=0.75, n_estimators=200 \n",
      "[CV]  learning_rate=0.5, max_depth=6, max_features=0.75, n_estimators=200, score=0.897, total=20.7min\n",
      "[Parallel(n_jobs=1)]: Done 159 out of 159 | elapsed: 2091.9min remaining:    0.0s\n",
      "[CV] learning_rate=0.5, max_depth=6, max_features=0.75, n_estimators=400 \n",
      "[CV]  learning_rate=0.5, max_depth=6, max_features=0.75, n_estimators=400, score=0.891, total=41.2min\n",
      "[Parallel(n_jobs=1)]: Done 160 out of 160 | elapsed: 2133.1min remaining:    0.0s\n",
      "[CV] learning_rate=0.5, max_depth=6, max_features=0.75, n_estimators=400 \n",
      "[CV]  learning_rate=0.5, max_depth=6, max_features=0.75, n_estimators=400, score=0.892, total=40.8min\n",
      "[Parallel(n_jobs=1)]: Done 161 out of 161 | elapsed: 2173.9min remaining:    0.0s\n",
      "[CV] learning_rate=0.5, max_depth=6, max_features=0.75, n_estimators=400 \n"
     ]
    },
    {
     "name": "stdout",
     "output_type": "stream",
     "text": [
      "[CV]  learning_rate=0.5, max_depth=6, max_features=0.75, n_estimators=400, score=0.892, total=35.1min\n",
      "[Parallel(n_jobs=1)]: Done 162 out of 162 | elapsed: 2209.1min remaining:    0.0s\n",
      "[Parallel(n_jobs=1)]: Done 162 out of 162 | elapsed: 2209.1min finished\n"
     ]
    }
   ],
   "source": [
    "#Initialize the classifier\n",
    "clf = GradientBoostingClassifier(random_state=42)\n",
    "\n",
    "#parameters to tune\n",
    "parameters = {\n",
    "              'max_features': [0.5,0.75],\n",
    "              'max_depth':[3,4,6],\n",
    "              'learning_rate':[0.1,0.2,0.5],\n",
    "              'n_estimators':[100,200,400],\n",
    "              }\n",
    "\n",
    "# grid search using roc score\n",
    "gs2 = GridSearchCV(clf, parameters,cv=3,verbose=1000,scoring=\"roc_auc\")\n",
    "\n",
    "# fit grid search\n",
    "grid_fit = gs2.fit(x_train, y_train)\n",
    "\n",
    "# best estimator\n",
    "best_clf = grid_fit.best_estimator_"
   ]
  },
  {
   "cell_type": "code",
   "execution_count": 113,
   "metadata": {},
   "outputs": [
    {
     "name": "stdout",
     "output_type": "stream",
     "text": [
      "Unoptimized model\n",
      "------\n",
      "AUPRC on testing data: 0.5421\n",
      "AUROC on testing data: 0.7180\n",
      "F-score on testing data: 0.4468\n",
      "\n",
      "Optimized Model\n",
      "------\n",
      "Final AUPRC on the testing data: 0.5430\n",
      "Final AUROC the testing data: 0.7324\n",
      "Final F-score on the testing data: 0.4825\n",
      "Area Under ROC Curve:  0.9078508730527075\n",
      "{'learning_rate': 0.1, 'max_depth': 4, 'max_features': 0.5, 'n_estimators': 400}\n"
     ]
    },
    {
     "data": {
      "image/png": "[encoded data removed]",
      "text/plain": [
       "<Figure size 432x288 with 1 Axes>"
      ]
     },
     "metadata": {
      "needs_background": "light"
     },
     "output_type": "display_data"
    }
   ],
   "source": [
    "# predictions using the unoptimized model and optimized model\n",
    "predictions = (clf.fit(x_train, y_train)).predict(x_test)\n",
    "best_predictions = best_clf.predict(x_test)\n",
    "\n",
    "# score before optimization\n",
    "print (\"Unoptimized model\\n------\")\n",
    "print (\"AUPRC on testing data: {:.4f}\".format(average_precision_score(y_test, predictions)))\n",
    "print (\"AUROC on testing data: {:.4f}\".format(roc_auc_score(y_test, predictions)))\n",
    "print (\"F-score on testing data: {:.4f}\".format(fbeta_score(y_test, predictions, beta = 5)))\n",
    "\n",
    "#score after optimization\n",
    "print (\"\\nOptimized Model\\n------\")\n",
    "print (\"Final AUPRC on the testing data: {:.4f}\".format(average_precision_score(y_test, best_predictions)))\n",
    "print (\"Final AUROC the testing data: {:.4f}\".format(roc_auc_score(y_test, best_predictions)))\n",
    "print (\"Final F-score on the testing data: {:.4f}\".format(fbeta_score(y_test, best_predictions, beta = 5)))\n",
    "\n",
    "probas_ = best_clf.predict_proba(x_test)\n",
    "fpr, tpr, thresholds = roc_curve(y_test, probas_[:, 1])\n",
    "area = auc(fpr, tpr)\n",
    "print(\"Area Under ROC Curve: \",area)\n",
    "print(gs2.best_params_)\n",
    "\n",
    "#plot roc curve\n",
    "plt.plot(fpr, tpr, label='ROC curve for Optimized Model')\n",
    "plt.xlabel('FPR')\n",
    "plt.ylabel('TPR')\n",
    "plt.ylim([0.0, 1.05])\n",
    "plt.xlim([0.0, 1.0])\n",
    "plt.legend(loc=\"lower left\")\n",
    "plt.show()"
   ]
  },
  {
   "cell_type": "code",
   "execution_count": 114,
   "metadata": {},
   "outputs": [
    {
     "name": "stdout",
     "output_type": "stream",
     "text": [
      "Fitting 3 folds for each of 18 candidates, totalling 54 fits\n",
      "[Parallel(n_jobs=1)]: Using backend SequentialBackend with 1 concurrent workers.\n",
      "[CV] max_depth=8, max_features=0.5, n_estimators=200 .................\n",
      "[CV]  max_depth=8, max_features=0.5, n_estimators=200, score=0.877, total= 9.2min\n",
      "[Parallel(n_jobs=1)]: Done   1 out of   1 | elapsed:  9.2min remaining:    0.0s\n",
      "[CV] max_depth=8, max_features=0.5, n_estimators=200 .................\n",
      "[CV]  max_depth=8, max_features=0.5, n_estimators=200, score=0.881, total=10.9min\n",
      "[Parallel(n_jobs=1)]: Done   2 out of   2 | elapsed: 20.1min remaining:    0.0s\n",
      "[CV] max_depth=8, max_features=0.5, n_estimators=200 .................\n",
      "[CV]  max_depth=8, max_features=0.5, n_estimators=200, score=0.878, total= 8.5min\n",
      "[Parallel(n_jobs=1)]: Done   3 out of   3 | elapsed: 28.7min remaining:    0.0s\n",
      "[CV] max_depth=8, max_features=0.5, n_estimators=300 .................\n",
      "[CV]  max_depth=8, max_features=0.5, n_estimators=300, score=0.877, total=16.4min\n",
      "[Parallel(n_jobs=1)]: Done   4 out of   4 | elapsed: 45.1min remaining:    0.0s\n",
      "[CV] max_depth=8, max_features=0.5, n_estimators=300 .................\n",
      "[CV]  max_depth=8, max_features=0.5, n_estimators=300, score=0.881, total=15.9min\n",
      "[Parallel(n_jobs=1)]: Done   5 out of   5 | elapsed: 61.0min remaining:    0.0s\n",
      "[CV] max_depth=8, max_features=0.5, n_estimators=300 .................\n",
      "[CV]  max_depth=8, max_features=0.5, n_estimators=300, score=0.878, total=16.0min\n",
      "[Parallel(n_jobs=1)]: Done   6 out of   6 | elapsed: 77.0min remaining:    0.0s\n",
      "[CV] max_depth=8, max_features=0.5, n_estimators=400 .................\n",
      "[CV]  max_depth=8, max_features=0.5, n_estimators=400, score=0.877, total=21.3min\n",
      "[Parallel(n_jobs=1)]: Done   7 out of   7 | elapsed: 98.3min remaining:    0.0s\n",
      "[CV] max_depth=8, max_features=0.5, n_estimators=400 .................\n",
      "[CV]  max_depth=8, max_features=0.5, n_estimators=400, score=0.880, total=21.1min\n",
      "[Parallel(n_jobs=1)]: Done   8 out of   8 | elapsed: 119.4min remaining:    0.0s\n",
      "[CV] max_depth=8, max_features=0.5, n_estimators=400 .................\n",
      "[CV]  max_depth=8, max_features=0.5, n_estimators=400, score=0.879, total=21.4min\n",
      "[Parallel(n_jobs=1)]: Done   9 out of   9 | elapsed: 140.8min remaining:    0.0s\n",
      "[CV] max_depth=8, max_features=0.75, n_estimators=200 ................\n",
      "[CV]  max_depth=8, max_features=0.75, n_estimators=200, score=0.876, total=15.3min\n",
      "[Parallel(n_jobs=1)]: Done  10 out of  10 | elapsed: 156.1min remaining:    0.0s\n",
      "[CV] max_depth=8, max_features=0.75, n_estimators=200 ................\n",
      "[CV]  max_depth=8, max_features=0.75, n_estimators=200, score=0.878, total=15.3min\n",
      "[Parallel(n_jobs=1)]: Done  11 out of  11 | elapsed: 171.4min remaining:    0.0s\n",
      "[CV] max_depth=8, max_features=0.75, n_estimators=200 ................\n",
      "[CV]  max_depth=8, max_features=0.75, n_estimators=200, score=0.876, total=15.1min\n",
      "[Parallel(n_jobs=1)]: Done  12 out of  12 | elapsed: 186.5min remaining:    0.0s\n",
      "[CV] max_depth=8, max_features=0.75, n_estimators=300 ................\n",
      "[CV]  max_depth=8, max_features=0.75, n_estimators=300, score=0.875, total=21.8min\n",
      "[Parallel(n_jobs=1)]: Done  13 out of  13 | elapsed: 208.3min remaining:    0.0s\n",
      "[CV] max_depth=8, max_features=0.75, n_estimators=300 ................\n",
      "[CV]  max_depth=8, max_features=0.75, n_estimators=300, score=0.878, total=23.1min\n",
      "[Parallel(n_jobs=1)]: Done  14 out of  14 | elapsed: 231.3min remaining:    0.0s\n",
      "[CV] max_depth=8, max_features=0.75, n_estimators=300 ................\n",
      "[CV]  max_depth=8, max_features=0.75, n_estimators=300, score=0.876, total=22.8min\n",
      "[Parallel(n_jobs=1)]: Done  15 out of  15 | elapsed: 254.2min remaining:    0.0s\n",
      "[CV] max_depth=8, max_features=0.75, n_estimators=400 ................\n",
      "[CV]  max_depth=8, max_features=0.75, n_estimators=400, score=0.875, total=30.5min\n",
      "[Parallel(n_jobs=1)]: Done  16 out of  16 | elapsed: 284.6min remaining:    0.0s\n",
      "[CV] max_depth=8, max_features=0.75, n_estimators=400 ................\n",
      "[CV]  max_depth=8, max_features=0.75, n_estimators=400, score=0.878, total=30.7min\n",
      "[Parallel(n_jobs=1)]: Done  17 out of  17 | elapsed: 315.3min remaining:    0.0s\n",
      "[CV] max_depth=8, max_features=0.75, n_estimators=400 ................\n",
      "[CV]  max_depth=8, max_features=0.75, n_estimators=400, score=0.876, total=31.0min\n",
      "[Parallel(n_jobs=1)]: Done  18 out of  18 | elapsed: 346.4min remaining:    0.0s\n",
      "[CV] max_depth=12, max_features=0.5, n_estimators=200 ................\n",
      "[CV]  max_depth=12, max_features=0.5, n_estimators=200, score=0.889, total=12.9min\n",
      "[Parallel(n_jobs=1)]: Done  19 out of  19 | elapsed: 359.3min remaining:    0.0s\n",
      "[CV] max_depth=12, max_features=0.5, n_estimators=200 ................\n",
      "[CV]  max_depth=12, max_features=0.5, n_estimators=200, score=0.891, total=13.0min\n",
      "[Parallel(n_jobs=1)]: Done  20 out of  20 | elapsed: 372.3min remaining:    0.0s\n",
      "[CV] max_depth=12, max_features=0.5, n_estimators=200 ................\n",
      "[CV]  max_depth=12, max_features=0.5, n_estimators=200, score=0.890, total=14.3min\n",
      "[Parallel(n_jobs=1)]: Done  21 out of  21 | elapsed: 386.5min remaining:    0.0s\n",
      "[CV] max_depth=12, max_features=0.5, n_estimators=300 ................\n",
      "[CV]  max_depth=12, max_features=0.5, n_estimators=300, score=0.889, total=21.3min\n",
      "[Parallel(n_jobs=1)]: Done  22 out of  22 | elapsed: 407.9min remaining:    0.0s\n",
      "[CV] max_depth=12, max_features=0.5, n_estimators=300 ................\n",
      "[CV]  max_depth=12, max_features=0.5, n_estimators=300, score=0.891, total=21.6min\n",
      "[Parallel(n_jobs=1)]: Done  23 out of  23 | elapsed: 429.5min remaining:    0.0s\n",
      "[CV] max_depth=12, max_features=0.5, n_estimators=300 ................\n",
      "[CV]  max_depth=12, max_features=0.5, n_estimators=300, score=0.890, total=21.1min\n",
      "[Parallel(n_jobs=1)]: Done  24 out of  24 | elapsed: 450.6min remaining:    0.0s\n",
      "[CV] max_depth=12, max_features=0.5, n_estimators=400 ................\n",
      "[CV]  max_depth=12, max_features=0.5, n_estimators=400, score=0.890, total=28.7min\n",
      "[Parallel(n_jobs=1)]: Done  25 out of  25 | elapsed: 479.3min remaining:    0.0s\n",
      "[CV] max_depth=12, max_features=0.5, n_estimators=400 ................\n",
      "[CV]  max_depth=12, max_features=0.5, n_estimators=400, score=0.891, total=28.8min\n",
      "[Parallel(n_jobs=1)]: Done  26 out of  26 | elapsed: 508.1min remaining:    0.0s\n",
      "[CV] max_depth=12, max_features=0.5, n_estimators=400 ................\n",
      "[CV]  max_depth=12, max_features=0.5, n_estimators=400, score=0.890, total=28.7min\n",
      "[Parallel(n_jobs=1)]: Done  27 out of  27 | elapsed: 536.8min remaining:    0.0s\n",
      "[CV] max_depth=12, max_features=0.75, n_estimators=200 ...............\n",
      "[CV]  max_depth=12, max_features=0.75, n_estimators=200, score=0.886, total=21.0min\n",
      "[Parallel(n_jobs=1)]: Done  28 out of  28 | elapsed: 557.8min remaining:    0.0s\n",
      "[CV] max_depth=12, max_features=0.75, n_estimators=200 ...............\n",
      "[CV]  max_depth=12, max_features=0.75, n_estimators=200, score=0.889, total=20.5min\n",
      "[Parallel(n_jobs=1)]: Done  29 out of  29 | elapsed: 578.3min remaining:    0.0s\n",
      "[CV] max_depth=12, max_features=0.75, n_estimators=200 ...............\n",
      "[CV]  max_depth=12, max_features=0.75, n_estimators=200, score=0.887, total=20.9min\n",
      "[Parallel(n_jobs=1)]: Done  30 out of  30 | elapsed: 599.2min remaining:    0.0s\n",
      "[CV] max_depth=12, max_features=0.75, n_estimators=300 ...............\n",
      "[CV]  max_depth=12, max_features=0.75, n_estimators=300, score=0.886, total=31.6min\n",
      "[Parallel(n_jobs=1)]: Done  31 out of  31 | elapsed: 630.8min remaining:    0.0s\n",
      "[CV] max_depth=12, max_features=0.75, n_estimators=300 ...............\n",
      "[CV]  max_depth=12, max_features=0.75, n_estimators=300, score=0.889, total=31.6min\n",
      "[Parallel(n_jobs=1)]: Done  32 out of  32 | elapsed: 662.4min remaining:    0.0s\n",
      "[CV] max_depth=12, max_features=0.75, n_estimators=300 ...............\n",
      "[CV]  max_depth=12, max_features=0.75, n_estimators=300, score=0.887, total=30.8min\n",
      "[Parallel(n_jobs=1)]: Done  33 out of  33 | elapsed: 693.2min remaining:    0.0s\n",
      "[CV] max_depth=12, max_features=0.75, n_estimators=400 ...............\n",
      "[CV]  max_depth=12, max_features=0.75, n_estimators=400, score=0.886, total=41.8min\n",
      "[Parallel(n_jobs=1)]: Done  34 out of  34 | elapsed: 735.0min remaining:    0.0s\n",
      "[CV] max_depth=12, max_features=0.75, n_estimators=400 ...............\n"
     ]
    },
    {
     "name": "stdout",
     "output_type": "stream",
     "text": [
      "[CV]  max_depth=12, max_features=0.75, n_estimators=400, score=0.889, total=40.7min\n",
      "[Parallel(n_jobs=1)]: Done  35 out of  35 | elapsed: 775.7min remaining:    0.0s\n",
      "[CV] max_depth=12, max_features=0.75, n_estimators=400 ...............\n",
      "[CV]  max_depth=12, max_features=0.75, n_estimators=400, score=0.887, total=40.4min\n",
      "[Parallel(n_jobs=1)]: Done  36 out of  36 | elapsed: 816.1min remaining:    0.0s\n",
      "[CV] max_depth=15, max_features=0.5, n_estimators=200 ................\n",
      "[CV]  max_depth=15, max_features=0.5, n_estimators=200, score=0.898, total=16.8min\n",
      "[Parallel(n_jobs=1)]: Done  37 out of  37 | elapsed: 832.9min remaining:    0.0s\n",
      "[CV] max_depth=15, max_features=0.5, n_estimators=200 ................\n",
      "[CV]  max_depth=15, max_features=0.5, n_estimators=200, score=0.901, total=16.7min\n",
      "[Parallel(n_jobs=1)]: Done  38 out of  38 | elapsed: 849.7min remaining:    0.0s\n",
      "[CV] max_depth=15, max_features=0.5, n_estimators=200 ................\n",
      "[CV]  max_depth=15, max_features=0.5, n_estimators=200, score=0.899, total=16.4min\n",
      "[Parallel(n_jobs=1)]: Done  39 out of  39 | elapsed: 866.0min remaining:    0.0s\n",
      "[CV] max_depth=15, max_features=0.5, n_estimators=300 ................\n",
      "[CV]  max_depth=15, max_features=0.5, n_estimators=300, score=0.898, total=24.5min\n",
      "[Parallel(n_jobs=1)]: Done  40 out of  40 | elapsed: 890.5min remaining:    0.0s\n",
      "[CV] max_depth=15, max_features=0.5, n_estimators=300 ................\n",
      "[CV]  max_depth=15, max_features=0.5, n_estimators=300, score=0.901, total=24.3min\n",
      "[Parallel(n_jobs=1)]: Done  41 out of  41 | elapsed: 914.8min remaining:    0.0s\n",
      "[CV] max_depth=15, max_features=0.5, n_estimators=300 ................\n",
      "[CV]  max_depth=15, max_features=0.5, n_estimators=300, score=0.899, total=23.6min\n",
      "[Parallel(n_jobs=1)]: Done  42 out of  42 | elapsed: 938.4min remaining:    0.0s\n",
      "[CV] max_depth=15, max_features=0.5, n_estimators=400 ................\n",
      "[CV]  max_depth=15, max_features=0.5, n_estimators=400, score=0.898, total=31.7min\n",
      "[Parallel(n_jobs=1)]: Done  43 out of  43 | elapsed: 970.1min remaining:    0.0s\n",
      "[CV] max_depth=15, max_features=0.5, n_estimators=400 ................\n",
      "[CV]  max_depth=15, max_features=0.5, n_estimators=400, score=0.900, total=33.6min\n",
      "[Parallel(n_jobs=1)]: Done  44 out of  44 | elapsed: 1003.7min remaining:    0.0s\n",
      "[CV] max_depth=15, max_features=0.5, n_estimators=400 ................\n",
      "[CV]  max_depth=15, max_features=0.5, n_estimators=400, score=0.899, total=34.6min\n",
      "[Parallel(n_jobs=1)]: Done  45 out of  45 | elapsed: 1038.3min remaining:    0.0s\n",
      "[CV] max_depth=15, max_features=0.75, n_estimators=200 ...............\n",
      "[CV]  max_depth=15, max_features=0.75, n_estimators=200, score=0.898, total=24.8min\n",
      "[Parallel(n_jobs=1)]: Done  46 out of  46 | elapsed: 1063.1min remaining:    0.0s\n",
      "[CV] max_depth=15, max_features=0.75, n_estimators=200 ...............\n",
      "[CV]  max_depth=15, max_features=0.75, n_estimators=200, score=0.900, total=23.9min\n",
      "[Parallel(n_jobs=1)]: Done  47 out of  47 | elapsed: 1087.0min remaining:    0.0s\n",
      "[CV] max_depth=15, max_features=0.75, n_estimators=200 ...............\n",
      "[CV]  max_depth=15, max_features=0.75, n_estimators=200, score=0.899, total=21.4min\n",
      "[Parallel(n_jobs=1)]: Done  48 out of  48 | elapsed: 1108.4min remaining:    0.0s\n",
      "[CV] max_depth=15, max_features=0.75, n_estimators=300 ...............\n",
      "[CV]  max_depth=15, max_features=0.75, n_estimators=300, score=0.898, total=19.5min\n",
      "[Parallel(n_jobs=1)]: Done  49 out of  49 | elapsed: 1127.9min remaining:    0.0s\n",
      "[CV] max_depth=15, max_features=0.75, n_estimators=300 ...............\n",
      "[CV]  max_depth=15, max_features=0.75, n_estimators=300, score=0.900, total=20.0min\n",
      "[Parallel(n_jobs=1)]: Done  50 out of  50 | elapsed: 1147.9min remaining:    0.0s\n",
      "[CV] max_depth=15, max_features=0.75, n_estimators=300 ...............\n",
      "[CV]  max_depth=15, max_features=0.75, n_estimators=300, score=0.898, total=19.0min\n",
      "[Parallel(n_jobs=1)]: Done  51 out of  51 | elapsed: 1166.9min remaining:    0.0s\n",
      "[CV] max_depth=15, max_features=0.75, n_estimators=400 ...............\n",
      "[CV]  max_depth=15, max_features=0.75, n_estimators=400, score=0.898, total=28.2min\n",
      "[Parallel(n_jobs=1)]: Done  52 out of  52 | elapsed: 1195.1min remaining:    0.0s\n",
      "[CV] max_depth=15, max_features=0.75, n_estimators=400 ...............\n",
      "[CV]  max_depth=15, max_features=0.75, n_estimators=400, score=0.900, total=27.4min\n",
      "[Parallel(n_jobs=1)]: Done  53 out of  53 | elapsed: 1222.5min remaining:    0.0s\n",
      "[CV] max_depth=15, max_features=0.75, n_estimators=400 ...............\n",
      "[CV]  max_depth=15, max_features=0.75, n_estimators=400, score=0.898, total=29.2min\n",
      "[Parallel(n_jobs=1)]: Done  54 out of  54 | elapsed: 1251.7min remaining:    0.0s\n",
      "[Parallel(n_jobs=1)]: Done  54 out of  54 | elapsed: 1251.7min finished\n"
     ]
    }
   ],
   "source": [
    "clf = RandomForestClassifier(random_state=42)\n",
    "\n",
    "# parameters to tune\n",
    "\n",
    "parameters = {\n",
    "              'max_features': [0.5,0.75],\n",
    "              'max_depth':[8,12,15],\n",
    "              \"n_estimators\":[200,300,400]\n",
    "              }\n",
    "\n",
    "\n",
    "# grid search using roc score\n",
    "gs2 = GridSearchCV(clf, parameters,cv=3, scoring=\"roc_auc\",verbose=1000)\n",
    "\n",
    "# fit grid search\n",
    "grid_fit = gs2.fit(x_train, y_train)\n",
    "\n",
    "# best estimator\n",
    "best_clf = grid_fit.best_estimator_"
   ]
  },
  {
   "cell_type": "code",
   "execution_count": 115,
   "metadata": {},
   "outputs": [
    {
     "name": "stdout",
     "output_type": "stream",
     "text": [
      "Unoptimized model\n",
      "------\n",
      "AUPRC on testing data: 0.5396\n",
      "AUROC on testing data: 0.7234\n",
      "F-score on testing data: 0.4610\n",
      "\n",
      "Optimized Model\n",
      "------\n",
      "Final AUPRC on the testing data: 0.5421\n",
      "Final AUROC the testing data: 0.7205\n",
      "Final F-score on the testing data: 0.4529\n",
      "Area Under ROC Curve:  0.89947870358416\n",
      "{'max_depth': 15, 'max_features': 0.5, 'n_estimators': 200}\n"
     ]
    },
    {
     "data": {
      "image/png": "[encoded data removed]",
      "text/plain": [
       "<Figure size 432x288 with 1 Axes>"
      ]
     },
     "metadata": {
      "needs_background": "light"
     },
     "output_type": "display_data"
    }
   ],
   "source": [
    "# predictions using the unoptimized model and optimized model\n",
    "predictions = (clf.fit(x_train, y_train)).predict(x_test)\n",
    "best_predictions = best_clf.predict(x_test)\n",
    "\n",
    "# score before optimization\n",
    "print (\"Unoptimized model\\n------\")\n",
    "print (\"AUPRC on testing data: {:.4f}\".format(average_precision_score(y_test, predictions)))\n",
    "print (\"AUROC on testing data: {:.4f}\".format(roc_auc_score(y_test, predictions)))\n",
    "print (\"F-score on testing data: {:.4f}\".format(fbeta_score(y_test, predictions, beta = 5)))\n",
    "\n",
    "#score after optimization\n",
    "print (\"\\nOptimized Model\\n------\")\n",
    "print (\"Final AUPRC on the testing data: {:.4f}\".format(average_precision_score(y_test, best_predictions)))\n",
    "print (\"Final AUROC the testing data: {:.4f}\".format(roc_auc_score(y_test, best_predictions)))\n",
    "print (\"Final F-score on the testing data: {:.4f}\".format(fbeta_score(y_test, best_predictions, beta = 5)))\n",
    "\n",
    "probas_ = best_clf.predict_proba(x_test)\n",
    "fpr, tpr, thresholds = roc_curve(y_test, probas_[:, 1])\n",
    "area = auc(fpr, tpr)\n",
    "print(\"Area Under ROC Curve: \",area)\n",
    "print(gs2.best_params_)\n",
    "\n",
    "#plot roc curve\n",
    "plt.plot(fpr, tpr, label='ROC curve for Optimized Model')\n",
    "plt.xlabel('FPR')\n",
    "plt.ylabel('TPR')\n",
    "plt.ylim([0.0, 1.05])\n",
    "plt.xlim([0.0, 1.0])\n",
    "plt.legend(loc=\"lower left\")\n",
    "plt.show()"
   ]
  }
 ],
 "metadata": {
  "kernelspec": {
   "display_name": "Python 3",
   "language": "python",
   "name": "python3"
  },
  "language_info": {
   "codemirror_mode": {
    "name": "ipython",
    "version": 3
   },
   "file_extension": ".py",
   "mimetype": "text/x-python",
   "name": "python",
   "nbconvert_exporter": "python",
   "pygments_lexer": "ipython3",
   "version": "3.8.5"
  }
 },
 "nbformat": 4,
 "nbformat_minor": 2
}
